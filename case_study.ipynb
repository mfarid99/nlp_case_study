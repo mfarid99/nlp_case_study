{
 "cells": [
  {
   "cell_type": "markdown",
   "id": "94a8ec76-4a16-4748-b001-8bdd49a2edf2",
   "metadata": {},
   "source": [
    "## Recognizing Fake News in Dataset"
   ]
  },
  {
   "cell_type": "code",
   "execution_count": 8,
   "id": "6a2bc781-1a04-4a47-a127-06e0fba7d3b4",
   "metadata": {},
   "outputs": [],
   "source": [
    "import sys\n"
   ]
  },
  {
   "cell_type": "code",
   "execution_count": 9,
   "id": "ff679837-83ce-48e8-aaaa-8d70ca82d0cd",
   "metadata": {},
   "outputs": [],
   "source": [
    "import pandas as pd\n",
    "import matplotlib.pyplot as plt\n"
   ]
  },
  {
   "cell_type": "code",
   "execution_count": 10,
   "id": "2d9e6494-b9a7-4eb2-8a13-38151d8c12e2",
   "metadata": {},
   "outputs": [],
   "source": [
    "# set plot options\n",
    "plt.rcParams['figure.figsize'] = (12, 8)\n",
    "default_plot_color = '#00bfbf'"
   ]
  },
  {
   "cell_type": "code",
   "execution_count": 11,
   "id": "97334d9e-6313-411d-8eb5-a1aba2126d13",
   "metadata": {},
   "outputs": [],
   "source": [
    "data = pd.read_csv('fake_news_data.csv')"
   ]
  },
  {
   "cell_type": "code",
   "execution_count": 12,
   "id": "c2ac6b29-2ed2-429c-be7a-8f9f1a0cc622",
   "metadata": {},
   "outputs": [
    {
     "data": {
      "text/html": [
       "<div>\n",
       "<style scoped>\n",
       "    .dataframe tbody tr th:only-of-type {\n",
       "        vertical-align: middle;\n",
       "    }\n",
       "\n",
       "    .dataframe tbody tr th {\n",
       "        vertical-align: top;\n",
       "    }\n",
       "\n",
       "    .dataframe thead th {\n",
       "        text-align: right;\n",
       "    }\n",
       "</style>\n",
       "<table border=\"1\" class=\"dataframe\">\n",
       "  <thead>\n",
       "    <tr style=\"text-align: right;\">\n",
       "      <th></th>\n",
       "      <th>title</th>\n",
       "      <th>text</th>\n",
       "      <th>date</th>\n",
       "      <th>fake_or_factual</th>\n",
       "    </tr>\n",
       "  </thead>\n",
       "  <tbody>\n",
       "    <tr>\n",
       "      <th>0</th>\n",
       "      <td>HOLLYWEIRD LIB SUSAN SARANDON Compares Muslim ...</td>\n",
       "      <td>There are two small problems with your analogy...</td>\n",
       "      <td>Dec 30, 2015</td>\n",
       "      <td>Fake News</td>\n",
       "    </tr>\n",
       "    <tr>\n",
       "      <th>1</th>\n",
       "      <td>Elijah Cummings Called Trump Out To His Face ...</td>\n",
       "      <td>Buried in Trump s bonkers interview with New Y...</td>\n",
       "      <td>April 6, 2017</td>\n",
       "      <td>Fake News</td>\n",
       "    </tr>\n",
       "    <tr>\n",
       "      <th>2</th>\n",
       "      <td>Hillary Clinton Says Half Her Cabinet Will Be...</td>\n",
       "      <td>Women make up over 50 percent of this country,...</td>\n",
       "      <td>April 26, 2016</td>\n",
       "      <td>Fake News</td>\n",
       "    </tr>\n",
       "    <tr>\n",
       "      <th>3</th>\n",
       "      <td>Russian bombing of U.S.-backed forces being di...</td>\n",
       "      <td>WASHINGTON (Reuters) - U.S. Defense Secretary ...</td>\n",
       "      <td>September 18, 2017</td>\n",
       "      <td>Factual News</td>\n",
       "    </tr>\n",
       "    <tr>\n",
       "      <th>4</th>\n",
       "      <td>Britain says window to restore Northern Irelan...</td>\n",
       "      <td>BELFAST (Reuters) - Northern Ireland s politic...</td>\n",
       "      <td>September 4, 2017</td>\n",
       "      <td>Factual News</td>\n",
       "    </tr>\n",
       "  </tbody>\n",
       "</table>\n",
       "</div>"
      ],
      "text/plain": [
       "                                               title  \\\n",
       "0  HOLLYWEIRD LIB SUSAN SARANDON Compares Muslim ...   \n",
       "1   Elijah Cummings Called Trump Out To His Face ...   \n",
       "2   Hillary Clinton Says Half Her Cabinet Will Be...   \n",
       "3  Russian bombing of U.S.-backed forces being di...   \n",
       "4  Britain says window to restore Northern Irelan...   \n",
       "\n",
       "                                                text                 date  \\\n",
       "0  There are two small problems with your analogy...         Dec 30, 2015   \n",
       "1  Buried in Trump s bonkers interview with New Y...        April 6, 2017   \n",
       "2  Women make up over 50 percent of this country,...       April 26, 2016   \n",
       "3  WASHINGTON (Reuters) - U.S. Defense Secretary ...  September 18, 2017    \n",
       "4  BELFAST (Reuters) - Northern Ireland s politic...   September 4, 2017    \n",
       "\n",
       "  fake_or_factual  \n",
       "0       Fake News  \n",
       "1       Fake News  \n",
       "2       Fake News  \n",
       "3    Factual News  \n",
       "4    Factual News  "
      ]
     },
     "execution_count": 12,
     "metadata": {},
     "output_type": "execute_result"
    }
   ],
   "source": [
    "data.head()"
   ]
  },
  {
   "cell_type": "code",
   "execution_count": 13,
   "id": "eb03e271-5499-4ebf-ab47-6080c87688f1",
   "metadata": {},
   "outputs": [
    {
     "name": "stdout",
     "output_type": "stream",
     "text": [
      "<class 'pandas.core.frame.DataFrame'>\n",
      "RangeIndex: 198 entries, 0 to 197\n",
      "Data columns (total 4 columns):\n",
      " #   Column           Non-Null Count  Dtype \n",
      "---  ------           --------------  ----- \n",
      " 0   title            198 non-null    object\n",
      " 1   text             198 non-null    object\n",
      " 2   date             198 non-null    object\n",
      " 3   fake_or_factual  198 non-null    object\n",
      "dtypes: object(4)\n",
      "memory usage: 6.3+ KB\n"
     ]
    }
   ],
   "source": [
    "data.info()"
   ]
  },
  {
   "cell_type": "code",
   "execution_count": 14,
   "id": "954aeb5b-28d7-42f7-bd0a-2e15776a00cf",
   "metadata": {},
   "outputs": [
    {
     "data": {
      "text/plain": [
       "Text(0.5, 0, 'Classification')"
      ]
     },
     "execution_count": 14,
     "metadata": {},
     "output_type": "execute_result"
    },
    {
     "data": {
      "image/png": "[encoded data removed]",
      "text/plain": [
       "<Figure size 1200x800 with 1 Axes>"
      ]
     },
     "metadata": {},
     "output_type": "display_data"
    }
   ],
   "source": [
    "# ensure we have appropriate number of rows in each group visually\n",
    "data['fake_or_factual'].value_counts().plot(kind='bar', color=default_plot_color)\n",
    "plt.title('Count of Article Classification')\n",
    "plt.ylabel('# of Articles')\n",
    "plt.xlabel('Classification')"
   ]
  },
  {
   "cell_type": "code",
   "execution_count": 15,
   "id": "22a1f7e8-9516-457c-bda4-e56d53ae6acf",
   "metadata": {},
   "outputs": [
    {
     "data": {
      "text/plain": [
       "fake_or_factual\n",
       "Factual News    100\n",
       "Fake News        98\n",
       "Name: count, dtype: int64"
      ]
     },
     "execution_count": 15,
     "metadata": {},
     "output_type": "execute_result"
    }
   ],
   "source": [
    "# ensure we have appropriate number of rows in each group by comparing numbers\n",
    "\n",
    "data['fake_or_factual'].value_counts()"
   ]
  },
  {
   "cell_type": "markdown",
   "id": "7755b93a-2e6a-4e37-93f4-4b4724537941",
   "metadata": {},
   "source": [
    "## Import packages required for processing and analysis\n"
   ]
  },
  {
   "cell_type": "code",
   "execution_count": 8,
   "id": "bcb45b69-b716-431b-a152-397e7260c361",
   "metadata": {},
   "outputs": [
    {
     "name": "stdout",
     "output_type": "stream",
     "text": [
      "Requirement already satisfied: seaborn in /Users/moe/miniconda3/lib/python3.13/site-packages (0.13.2)\n",
      "Requirement already satisfied: numpy!=1.24.0,>=1.20 in /Users/moe/miniconda3/lib/python3.13/site-packages (from seaborn) (2.3.1)\n",
      "Requirement already satisfied: pandas>=1.2 in /Users/moe/miniconda3/lib/python3.13/site-packages (from seaborn) (2.3.1)\n",
      "Requirement already satisfied: matplotlib!=3.6.1,>=3.4 in /Users/moe/miniconda3/lib/python3.13/site-packages (from seaborn) (3.10.3)\n",
      "Requirement already satisfied: contourpy>=1.0.1 in /Users/moe/miniconda3/lib/python3.13/site-packages (from matplotlib!=3.6.1,>=3.4->seaborn) (1.3.2)\n",
      "Requirement already satisfied: cycler>=0.10 in /Users/moe/miniconda3/lib/python3.13/site-packages (from matplotlib!=3.6.1,>=3.4->seaborn) (0.12.1)\n",
      "Requirement already satisfied: fonttools>=4.22.0 in /Users/moe/miniconda3/lib/python3.13/site-packages (from matplotlib!=3.6.1,>=3.4->seaborn) (4.58.5)\n",
      "Requirement already satisfied: kiwisolver>=1.3.1 in /Users/moe/miniconda3/lib/python3.13/site-packages (from matplotlib!=3.6.1,>=3.4->seaborn) (1.4.8)\n",
      "Requirement already satisfied: packaging>=20.0 in /Users/moe/miniconda3/lib/python3.13/site-packages (from matplotlib!=3.6.1,>=3.4->seaborn) (24.2)\n",
      "Requirement already satisfied: pillow>=8 in /Users/moe/miniconda3/lib/python3.13/site-packages (from matplotlib!=3.6.1,>=3.4->seaborn) (11.3.0)\n",
      "Requirement already satisfied: pyparsing>=2.3.1 in /Users/moe/miniconda3/lib/python3.13/site-packages (from matplotlib!=3.6.1,>=3.4->seaborn) (3.2.3)\n",
      "Requirement already satisfied: python-dateutil>=2.7 in /Users/moe/miniconda3/lib/python3.13/site-packages (from matplotlib!=3.6.1,>=3.4->seaborn) (2.9.0.post0)\n",
      "Requirement already satisfied: pytz>=2020.1 in /Users/moe/miniconda3/lib/python3.13/site-packages (from pandas>=1.2->seaborn) (2025.2)\n",
      "Requirement already satisfied: tzdata>=2022.7 in /Users/moe/miniconda3/lib/python3.13/site-packages (from pandas>=1.2->seaborn) (2025.2)\n",
      "Requirement already satisfied: six>=1.5 in /Users/moe/miniconda3/lib/python3.13/site-packages (from python-dateutil>=2.7->matplotlib!=3.6.1,>=3.4->seaborn) (1.17.0)\n"
     ]
    }
   ],
   "source": [
    "!pip install seaborn\n"
   ]
  },
  {
   "cell_type": "code",
   "execution_count": 9,
   "id": "fc27b1a4-da0f-43e8-931d-e7cdade45e79",
   "metadata": {},
   "outputs": [
    {
     "name": "stdout",
     "output_type": "stream",
     "text": [
      "Collecting gensim\n",
      "  Using cached gensim-4.3.3.tar.gz (23.3 MB)\n",
      "  Installing build dependencies ... \u001b[?25ldone\n",
      "\u001b[?25h  Getting requirements to build wheel ... \u001b[?25ldone\n",
      "\u001b[?25h  Preparing metadata (pyproject.toml) ... \u001b[?25ldone\n",
      "\u001b[?25hCollecting numpy<2.0,>=1.18.5 (from gensim)\n",
      "  Using cached numpy-1.26.4.tar.gz (15.8 MB)\n",
      "  Installing build dependencies ... \u001b[?25ldone\n",
      "\u001b[?25h  Getting requirements to build wheel ... \u001b[?25ldone\n",
      "\u001b[?25h  Installing backend dependencies ... \u001b[?25ldone\n",
      "\u001b[?25h  Preparing metadata (pyproject.toml) ... \u001b[?25l/^C\n",
      "\u001b[?25canceled\n",
      "\u001b[31mERROR: Operation cancelled by user\u001b[0m\u001b[31m\n",
      "\u001b[0m"
     ]
    }
   ],
   "source": [
    "!pip install gensim\n"
   ]
  },
  {
   "cell_type": "code",
   "execution_count": 16,
   "id": "84ec36bc-70d1-4fb5-9de4-52dacf5fdb2c",
   "metadata": {},
   "outputs": [],
   "source": [
    "import seaborn as sns\n",
    "import spacy\n",
    "from spacy import displacy\n",
    "from spacy import tokenizer\n",
    "import re\n",
    "import nltk\n",
    "from nltk.tokenize import word_tokenize\n",
    "from nltk.stem import PorterStemmer, WordNetLemmatizer\n",
    "from nltk.corpus import stopwords\n",
    "from vaderSentiment.vaderSentiment import SentimentIntensityAnalyzer\n",
    "import gensim\n",
    "import gensim.corpora as corpora\n",
    "from gensim.models.coherencemodel import CoherenceModel\n",
    "from gensim.models import LsiModel, TfidfModel\n",
    "from sklearn.feature_extraction.text import TfidfVectorizer\n",
    "from sklearn.feature_extraction.text import CountVectorizer, TfidfVectorizer\n",
    "from sklearn.model_selection import train_test_split\n",
    "from sklearn.linear_model import LogisticRegression, SGDClassifier\n",
    "from sklearn.metrics import accuracy_score, classification_report"
   ]
  },
  {
   "cell_type": "markdown",
   "id": "846fc3d7-f33f-47c9-b5a5-b84084dd222d",
   "metadata": {},
   "source": [
    "## POS Tagging"
   ]
  },
  {
   "cell_type": "code",
   "execution_count": 17,
   "id": "e1991642-ba70-4a14-8f02-4d225ce7b029",
   "metadata": {},
   "outputs": [
    {
     "name": "stdout",
     "output_type": "stream",
     "text": [
      "4.3.3\n"
     ]
    }
   ],
   "source": [
    "print(gensim.__version__)\n"
   ]
  },
  {
   "cell_type": "code",
   "execution_count": 18,
   "id": "5aa27f9b-3941-49c5-8a77-2c600cd39e3d",
   "metadata": {},
   "outputs": [
    {
     "name": "stdout",
     "output_type": "stream",
     "text": [
      "4.3.3\n"
     ]
    }
   ],
   "source": [
    "import gensim\n",
    "print(gensim.__version__)\n",
    "\n"
   ]
  },
  {
   "cell_type": "code",
   "execution_count": 10,
   "id": "325a57fd-f072-4248-b78b-0478a71058f6",
   "metadata": {},
   "outputs": [
    {
     "name": "stdout",
     "output_type": "stream",
     "text": [
      "Collecting vaderSentiment\n",
      "  Using cached vaderSentiment-3.3.2-py2.py3-none-any.whl.metadata (572 bytes)\n",
      "Requirement already satisfied: requests in /Users/moe/miniconda3/envs/nlp310/lib/python3.10/site-packages (from vaderSentiment) (2.32.4)\n",
      "Requirement already satisfied: charset_normalizer<4,>=2 in /Users/moe/miniconda3/envs/nlp310/lib/python3.10/site-packages (from requests->vaderSentiment) (3.4.2)\n",
      "Requirement already satisfied: idna<4,>=2.5 in /Users/moe/miniconda3/envs/nlp310/lib/python3.10/site-packages (from requests->vaderSentiment) (3.10)\n",
      "Requirement already satisfied: urllib3<3,>=1.21.1 in /Users/moe/miniconda3/envs/nlp310/lib/python3.10/site-packages (from requests->vaderSentiment) (2.5.0)\n",
      "Requirement already satisfied: certifi>=2017.4.17 in /Users/moe/miniconda3/envs/nlp310/lib/python3.10/site-packages (from requests->vaderSentiment) (2025.7.14)\n",
      "\u001b[31mERROR: Could not install packages due to an OSError: [Errno 2] No such file or directory: '/Users/moe/miniconda3/envs/nlp310/lib/python3.10/site-packages/certifi-2025.7.14.dist-info/METADATA'\n",
      "\u001b[0m\u001b[31m\n",
      "\u001b[0mNote: you may need to restart the kernel to use updated packages.\n"
     ]
    }
   ],
   "source": [
    "pip install vaderSentiment\n"
   ]
  },
  {
   "cell_type": "code",
   "execution_count": 19,
   "id": "f741ce64-99c4-4081-9b60-420b74e551ad",
   "metadata": {},
   "outputs": [
    {
     "name": "stdout",
     "output_type": "stream",
     "text": [
      "{'neg': 0.0, 'neu': 0.308, 'pos': 0.692, 'compound': 0.6696}\n"
     ]
    }
   ],
   "source": [
    "from vaderSentiment.vaderSentiment import SentimentIntensityAnalyzer\n",
    "analyzer = SentimentIntensityAnalyzer()\n",
    "print(analyzer.polarity_scores(\"I love this!\"))\n"
   ]
  },
  {
   "cell_type": "code",
   "execution_count": 20,
   "id": "12adf33c-9899-4070-8cee-2760b1fee097",
   "metadata": {},
   "outputs": [
    {
     "name": "stdout",
     "output_type": "stream",
     "text": [
      "4.3.3\n"
     ]
    }
   ],
   "source": [
    "print(gensim.__version__)\n"
   ]
  },
  {
   "cell_type": "code",
   "execution_count": 15,
   "id": "70c1b941-2019-4136-8c9e-79d4d9643a74",
   "metadata": {},
   "outputs": [
    {
     "ename": "OSError",
     "evalue": "[E050] Can't find model 'en_core_web_sm'. It doesn't seem to be a Python package or a valid path to a data directory.",
     "output_type": "error",
     "traceback": [
      "\u001b[0;31m---------------------------------------------------------------------------\u001b[0m",
      "\u001b[0;31mOSError\u001b[0m                                   Traceback (most recent call last)",
      "Cell \u001b[0;32mIn[15], line 1\u001b[0m\n\u001b[0;32m----> 1\u001b[0m nlp \u001b[38;5;241m=\u001b[39m \u001b[43mspacy\u001b[49m\u001b[38;5;241;43m.\u001b[39;49m\u001b[43mload\u001b[49m\u001b[43m(\u001b[49m\u001b[38;5;124;43m'\u001b[39;49m\u001b[38;5;124;43men_core_web_sm\u001b[39;49m\u001b[38;5;124;43m'\u001b[39;49m\u001b[43m)\u001b[49m\n",
      "File \u001b[0;32m~/miniconda3/envs/nlp310/lib/python3.10/site-packages/spacy/__init__.py:51\u001b[0m, in \u001b[0;36mload\u001b[0;34m(name, vocab, disable, enable, exclude, config)\u001b[0m\n\u001b[1;32m     27\u001b[0m \u001b[38;5;28;01mdef\u001b[39;00m\u001b[38;5;250m \u001b[39m\u001b[38;5;21mload\u001b[39m(\n\u001b[1;32m     28\u001b[0m     name: Union[\u001b[38;5;28mstr\u001b[39m, Path],\n\u001b[1;32m     29\u001b[0m     \u001b[38;5;241m*\u001b[39m,\n\u001b[0;32m   (...)\u001b[0m\n\u001b[1;32m     34\u001b[0m     config: Union[Dict[\u001b[38;5;28mstr\u001b[39m, Any], Config] \u001b[38;5;241m=\u001b[39m util\u001b[38;5;241m.\u001b[39mSimpleFrozenDict(),\n\u001b[1;32m     35\u001b[0m ) \u001b[38;5;241m-\u001b[39m\u001b[38;5;241m>\u001b[39m Language:\n\u001b[1;32m     36\u001b[0m \u001b[38;5;250m    \u001b[39m\u001b[38;5;124;03m\"\"\"Load a spaCy model from an installed package or a local path.\u001b[39;00m\n\u001b[1;32m     37\u001b[0m \n\u001b[1;32m     38\u001b[0m \u001b[38;5;124;03m    name (str): Package name or model path.\u001b[39;00m\n\u001b[0;32m   (...)\u001b[0m\n\u001b[1;32m     49\u001b[0m \u001b[38;5;124;03m    RETURNS (Language): The loaded nlp object.\u001b[39;00m\n\u001b[1;32m     50\u001b[0m \u001b[38;5;124;03m    \"\"\"\u001b[39;00m\n\u001b[0;32m---> 51\u001b[0m     \u001b[38;5;28;01mreturn\u001b[39;00m \u001b[43mutil\u001b[49m\u001b[38;5;241;43m.\u001b[39;49m\u001b[43mload_model\u001b[49m\u001b[43m(\u001b[49m\n\u001b[1;32m     52\u001b[0m \u001b[43m        \u001b[49m\u001b[43mname\u001b[49m\u001b[43m,\u001b[49m\n\u001b[1;32m     53\u001b[0m \u001b[43m        \u001b[49m\u001b[43mvocab\u001b[49m\u001b[38;5;241;43m=\u001b[39;49m\u001b[43mvocab\u001b[49m\u001b[43m,\u001b[49m\n\u001b[1;32m     54\u001b[0m \u001b[43m        \u001b[49m\u001b[43mdisable\u001b[49m\u001b[38;5;241;43m=\u001b[39;49m\u001b[43mdisable\u001b[49m\u001b[43m,\u001b[49m\n\u001b[1;32m     55\u001b[0m \u001b[43m        \u001b[49m\u001b[43menable\u001b[49m\u001b[38;5;241;43m=\u001b[39;49m\u001b[43menable\u001b[49m\u001b[43m,\u001b[49m\n\u001b[1;32m     56\u001b[0m \u001b[43m        \u001b[49m\u001b[43mexclude\u001b[49m\u001b[38;5;241;43m=\u001b[39;49m\u001b[43mexclude\u001b[49m\u001b[43m,\u001b[49m\n\u001b[1;32m     57\u001b[0m \u001b[43m        \u001b[49m\u001b[43mconfig\u001b[49m\u001b[38;5;241;43m=\u001b[39;49m\u001b[43mconfig\u001b[49m\u001b[43m,\u001b[49m\n\u001b[1;32m     58\u001b[0m \u001b[43m    \u001b[49m\u001b[43m)\u001b[49m\n",
      "File \u001b[0;32m~/miniconda3/envs/nlp310/lib/python3.10/site-packages/spacy/util.py:472\u001b[0m, in \u001b[0;36mload_model\u001b[0;34m(name, vocab, disable, enable, exclude, config)\u001b[0m\n\u001b[1;32m    470\u001b[0m \u001b[38;5;28;01mif\u001b[39;00m name \u001b[38;5;129;01min\u001b[39;00m OLD_MODEL_SHORTCUTS:\n\u001b[1;32m    471\u001b[0m     \u001b[38;5;28;01mraise\u001b[39;00m \u001b[38;5;167;01mIOError\u001b[39;00m(Errors\u001b[38;5;241m.\u001b[39mE941\u001b[38;5;241m.\u001b[39mformat(name\u001b[38;5;241m=\u001b[39mname, full\u001b[38;5;241m=\u001b[39mOLD_MODEL_SHORTCUTS[name]))  \u001b[38;5;66;03m# type: ignore[index]\u001b[39;00m\n\u001b[0;32m--> 472\u001b[0m \u001b[38;5;28;01mraise\u001b[39;00m \u001b[38;5;167;01mIOError\u001b[39;00m(Errors\u001b[38;5;241m.\u001b[39mE050\u001b[38;5;241m.\u001b[39mformat(name\u001b[38;5;241m=\u001b[39mname))\n",
      "\u001b[0;31mOSError\u001b[0m: [E050] Can't find model 'en_core_web_sm'. It doesn't seem to be a Python package or a valid path to a data directory."
     ]
    }
   ],
   "source": [
    "nlp = spacy.load('en_core_web_sm')"
   ]
  },
  {
   "cell_type": "code",
   "execution_count": 16,
   "id": "60133cf5-2078-44f4-a7db-40da881172fe",
   "metadata": {},
   "outputs": [
    {
     "name": "stdout",
     "output_type": "stream",
     "text": [
      "Collecting en-core-web-sm==3.8.0\n",
      "  Downloading https://github.com/explosion/spacy-models/releases/download/en_core_web_sm-3.8.0/en_core_web_sm-3.8.0-py3-none-any.whl (12.8 MB)\n",
      "\u001b[2K     \u001b[90m━━━━━━━━━━━━━━━━━━━━━━━━━━━━━━━━━━━━━━━━\u001b[0m \u001b[32m12.8/12.8 MB\u001b[0m \u001b[31m51.4 MB/s\u001b[0m eta \u001b[36m0:00:00\u001b[0ma \u001b[36m0:00:01\u001b[0m\n",
      "\u001b[?25h\u001b[38;5;2m✔ Download and installation successful\u001b[0m\n",
      "You can now load the package via spacy.load('en_core_web_sm')\n"
     ]
    }
   ],
   "source": [
    "!python -m spacy download en_core_web_sm\n"
   ]
  },
  {
   "cell_type": "code",
   "execution_count": 17,
   "id": "225dfe57-7b4a-4b25-89ef-e73044e02617",
   "metadata": {},
   "outputs": [
    {
     "ename": "OSError",
     "evalue": "[E050] Can't find model 'en_core_web_sm'. It doesn't seem to be a Python package or a valid path to a data directory.",
     "output_type": "error",
     "traceback": [
      "\u001b[0;31m---------------------------------------------------------------------------\u001b[0m",
      "\u001b[0;31mOSError\u001b[0m                                   Traceback (most recent call last)",
      "Cell \u001b[0;32mIn[17], line 1\u001b[0m\n\u001b[0;32m----> 1\u001b[0m nlp \u001b[38;5;241m=\u001b[39m \u001b[43mspacy\u001b[49m\u001b[38;5;241;43m.\u001b[39;49m\u001b[43mload\u001b[49m\u001b[43m(\u001b[49m\u001b[38;5;124;43m'\u001b[39;49m\u001b[38;5;124;43men_core_web_sm\u001b[39;49m\u001b[38;5;124;43m'\u001b[39;49m\u001b[43m)\u001b[49m\n",
      "File \u001b[0;32m~/miniconda3/envs/nlp310/lib/python3.10/site-packages/spacy/__init__.py:51\u001b[0m, in \u001b[0;36mload\u001b[0;34m(name, vocab, disable, enable, exclude, config)\u001b[0m\n\u001b[1;32m     27\u001b[0m \u001b[38;5;28;01mdef\u001b[39;00m\u001b[38;5;250m \u001b[39m\u001b[38;5;21mload\u001b[39m(\n\u001b[1;32m     28\u001b[0m     name: Union[\u001b[38;5;28mstr\u001b[39m, Path],\n\u001b[1;32m     29\u001b[0m     \u001b[38;5;241m*\u001b[39m,\n\u001b[0;32m   (...)\u001b[0m\n\u001b[1;32m     34\u001b[0m     config: Union[Dict[\u001b[38;5;28mstr\u001b[39m, Any], Config] \u001b[38;5;241m=\u001b[39m util\u001b[38;5;241m.\u001b[39mSimpleFrozenDict(),\n\u001b[1;32m     35\u001b[0m ) \u001b[38;5;241m-\u001b[39m\u001b[38;5;241m>\u001b[39m Language:\n\u001b[1;32m     36\u001b[0m \u001b[38;5;250m    \u001b[39m\u001b[38;5;124;03m\"\"\"Load a spaCy model from an installed package or a local path.\u001b[39;00m\n\u001b[1;32m     37\u001b[0m \n\u001b[1;32m     38\u001b[0m \u001b[38;5;124;03m    name (str): Package name or model path.\u001b[39;00m\n\u001b[0;32m   (...)\u001b[0m\n\u001b[1;32m     49\u001b[0m \u001b[38;5;124;03m    RETURNS (Language): The loaded nlp object.\u001b[39;00m\n\u001b[1;32m     50\u001b[0m \u001b[38;5;124;03m    \"\"\"\u001b[39;00m\n\u001b[0;32m---> 51\u001b[0m     \u001b[38;5;28;01mreturn\u001b[39;00m \u001b[43mutil\u001b[49m\u001b[38;5;241;43m.\u001b[39;49m\u001b[43mload_model\u001b[49m\u001b[43m(\u001b[49m\n\u001b[1;32m     52\u001b[0m \u001b[43m        \u001b[49m\u001b[43mname\u001b[49m\u001b[43m,\u001b[49m\n\u001b[1;32m     53\u001b[0m \u001b[43m        \u001b[49m\u001b[43mvocab\u001b[49m\u001b[38;5;241;43m=\u001b[39;49m\u001b[43mvocab\u001b[49m\u001b[43m,\u001b[49m\n\u001b[1;32m     54\u001b[0m \u001b[43m        \u001b[49m\u001b[43mdisable\u001b[49m\u001b[38;5;241;43m=\u001b[39;49m\u001b[43mdisable\u001b[49m\u001b[43m,\u001b[49m\n\u001b[1;32m     55\u001b[0m \u001b[43m        \u001b[49m\u001b[43menable\u001b[49m\u001b[38;5;241;43m=\u001b[39;49m\u001b[43menable\u001b[49m\u001b[43m,\u001b[49m\n\u001b[1;32m     56\u001b[0m \u001b[43m        \u001b[49m\u001b[43mexclude\u001b[49m\u001b[38;5;241;43m=\u001b[39;49m\u001b[43mexclude\u001b[49m\u001b[43m,\u001b[49m\n\u001b[1;32m     57\u001b[0m \u001b[43m        \u001b[49m\u001b[43mconfig\u001b[49m\u001b[38;5;241;43m=\u001b[39;49m\u001b[43mconfig\u001b[49m\u001b[43m,\u001b[49m\n\u001b[1;32m     58\u001b[0m \u001b[43m    \u001b[49m\u001b[43m)\u001b[49m\n",
      "File \u001b[0;32m~/miniconda3/envs/nlp310/lib/python3.10/site-packages/spacy/util.py:472\u001b[0m, in \u001b[0;36mload_model\u001b[0;34m(name, vocab, disable, enable, exclude, config)\u001b[0m\n\u001b[1;32m    470\u001b[0m \u001b[38;5;28;01mif\u001b[39;00m name \u001b[38;5;129;01min\u001b[39;00m OLD_MODEL_SHORTCUTS:\n\u001b[1;32m    471\u001b[0m     \u001b[38;5;28;01mraise\u001b[39;00m \u001b[38;5;167;01mIOError\u001b[39;00m(Errors\u001b[38;5;241m.\u001b[39mE941\u001b[38;5;241m.\u001b[39mformat(name\u001b[38;5;241m=\u001b[39mname, full\u001b[38;5;241m=\u001b[39mOLD_MODEL_SHORTCUTS[name]))  \u001b[38;5;66;03m# type: ignore[index]\u001b[39;00m\n\u001b[0;32m--> 472\u001b[0m \u001b[38;5;28;01mraise\u001b[39;00m \u001b[38;5;167;01mIOError\u001b[39;00m(Errors\u001b[38;5;241m.\u001b[39mE050\u001b[38;5;241m.\u001b[39mformat(name\u001b[38;5;241m=\u001b[39mname))\n",
      "\u001b[0;31mOSError\u001b[0m: [E050] Can't find model 'en_core_web_sm'. It doesn't seem to be a Python package or a valid path to a data directory."
     ]
    }
   ],
   "source": [
    "nlp = spacy.load('en_core_web_sm')"
   ]
  },
  {
   "cell_type": "code",
   "execution_count": 18,
   "id": "f2c5ea4d-8183-454b-b385-38cf90037365",
   "metadata": {},
   "outputs": [
    {
     "ename": "OSError",
     "evalue": "[E050] Can't find model 'en_core_web_sm'. It doesn't seem to be a Python package or a valid path to a data directory.",
     "output_type": "error",
     "traceback": [
      "\u001b[0;31m---------------------------------------------------------------------------\u001b[0m",
      "\u001b[0;31mOSError\u001b[0m                                   Traceback (most recent call last)",
      "Cell \u001b[0;32mIn[18], line 2\u001b[0m\n\u001b[1;32m      1\u001b[0m \u001b[38;5;28;01mimport\u001b[39;00m\u001b[38;5;250m \u001b[39m\u001b[38;5;21;01mspacy\u001b[39;00m\n\u001b[0;32m----> 2\u001b[0m nlp \u001b[38;5;241m=\u001b[39m \u001b[43mspacy\u001b[49m\u001b[38;5;241;43m.\u001b[39;49m\u001b[43mload\u001b[49m\u001b[43m(\u001b[49m\u001b[38;5;124;43m\"\u001b[39;49m\u001b[38;5;124;43men_core_web_sm\u001b[39;49m\u001b[38;5;124;43m\"\u001b[39;49m\u001b[43m)\u001b[49m\n",
      "File \u001b[0;32m~/miniconda3/envs/nlp310/lib/python3.10/site-packages/spacy/__init__.py:51\u001b[0m, in \u001b[0;36mload\u001b[0;34m(name, vocab, disable, enable, exclude, config)\u001b[0m\n\u001b[1;32m     27\u001b[0m \u001b[38;5;28;01mdef\u001b[39;00m\u001b[38;5;250m \u001b[39m\u001b[38;5;21mload\u001b[39m(\n\u001b[1;32m     28\u001b[0m     name: Union[\u001b[38;5;28mstr\u001b[39m, Path],\n\u001b[1;32m     29\u001b[0m     \u001b[38;5;241m*\u001b[39m,\n\u001b[0;32m   (...)\u001b[0m\n\u001b[1;32m     34\u001b[0m     config: Union[Dict[\u001b[38;5;28mstr\u001b[39m, Any], Config] \u001b[38;5;241m=\u001b[39m util\u001b[38;5;241m.\u001b[39mSimpleFrozenDict(),\n\u001b[1;32m     35\u001b[0m ) \u001b[38;5;241m-\u001b[39m\u001b[38;5;241m>\u001b[39m Language:\n\u001b[1;32m     36\u001b[0m \u001b[38;5;250m    \u001b[39m\u001b[38;5;124;03m\"\"\"Load a spaCy model from an installed package or a local path.\u001b[39;00m\n\u001b[1;32m     37\u001b[0m \n\u001b[1;32m     38\u001b[0m \u001b[38;5;124;03m    name (str): Package name or model path.\u001b[39;00m\n\u001b[0;32m   (...)\u001b[0m\n\u001b[1;32m     49\u001b[0m \u001b[38;5;124;03m    RETURNS (Language): The loaded nlp object.\u001b[39;00m\n\u001b[1;32m     50\u001b[0m \u001b[38;5;124;03m    \"\"\"\u001b[39;00m\n\u001b[0;32m---> 51\u001b[0m     \u001b[38;5;28;01mreturn\u001b[39;00m \u001b[43mutil\u001b[49m\u001b[38;5;241;43m.\u001b[39;49m\u001b[43mload_model\u001b[49m\u001b[43m(\u001b[49m\n\u001b[1;32m     52\u001b[0m \u001b[43m        \u001b[49m\u001b[43mname\u001b[49m\u001b[43m,\u001b[49m\n\u001b[1;32m     53\u001b[0m \u001b[43m        \u001b[49m\u001b[43mvocab\u001b[49m\u001b[38;5;241;43m=\u001b[39;49m\u001b[43mvocab\u001b[49m\u001b[43m,\u001b[49m\n\u001b[1;32m     54\u001b[0m \u001b[43m        \u001b[49m\u001b[43mdisable\u001b[49m\u001b[38;5;241;43m=\u001b[39;49m\u001b[43mdisable\u001b[49m\u001b[43m,\u001b[49m\n\u001b[1;32m     55\u001b[0m \u001b[43m        \u001b[49m\u001b[43menable\u001b[49m\u001b[38;5;241;43m=\u001b[39;49m\u001b[43menable\u001b[49m\u001b[43m,\u001b[49m\n\u001b[1;32m     56\u001b[0m \u001b[43m        \u001b[49m\u001b[43mexclude\u001b[49m\u001b[38;5;241;43m=\u001b[39;49m\u001b[43mexclude\u001b[49m\u001b[43m,\u001b[49m\n\u001b[1;32m     57\u001b[0m \u001b[43m        \u001b[49m\u001b[43mconfig\u001b[49m\u001b[38;5;241;43m=\u001b[39;49m\u001b[43mconfig\u001b[49m\u001b[43m,\u001b[49m\n\u001b[1;32m     58\u001b[0m \u001b[43m    \u001b[49m\u001b[43m)\u001b[49m\n",
      "File \u001b[0;32m~/miniconda3/envs/nlp310/lib/python3.10/site-packages/spacy/util.py:472\u001b[0m, in \u001b[0;36mload_model\u001b[0;34m(name, vocab, disable, enable, exclude, config)\u001b[0m\n\u001b[1;32m    470\u001b[0m \u001b[38;5;28;01mif\u001b[39;00m name \u001b[38;5;129;01min\u001b[39;00m OLD_MODEL_SHORTCUTS:\n\u001b[1;32m    471\u001b[0m     \u001b[38;5;28;01mraise\u001b[39;00m \u001b[38;5;167;01mIOError\u001b[39;00m(Errors\u001b[38;5;241m.\u001b[39mE941\u001b[38;5;241m.\u001b[39mformat(name\u001b[38;5;241m=\u001b[39mname, full\u001b[38;5;241m=\u001b[39mOLD_MODEL_SHORTCUTS[name]))  \u001b[38;5;66;03m# type: ignore[index]\u001b[39;00m\n\u001b[0;32m--> 472\u001b[0m \u001b[38;5;28;01mraise\u001b[39;00m \u001b[38;5;167;01mIOError\u001b[39;00m(Errors\u001b[38;5;241m.\u001b[39mE050\u001b[38;5;241m.\u001b[39mformat(name\u001b[38;5;241m=\u001b[39mname))\n",
      "\u001b[0;31mOSError\u001b[0m: [E050] Can't find model 'en_core_web_sm'. It doesn't seem to be a Python package or a valid path to a data directory."
     ]
    }
   ],
   "source": [
    "import spacy\n",
    "nlp = spacy.load(\"en_core_web_sm\")\n"
   ]
  },
  {
   "cell_type": "code",
   "execution_count": 21,
   "id": "91b5bf5e-9975-41d7-b222-83a08a0d7fa9",
   "metadata": {},
   "outputs": [
    {
     "name": "stdout",
     "output_type": "stream",
     "text": [
      "Collecting en-core-web-sm==3.8.0\n",
      "  Downloading https://github.com/explosion/spacy-models/releases/download/en_core_web_sm-3.8.0/en_core_web_sm-3.8.0-py3-none-any.whl (12.8 MB)\n",
      "\u001b[2K     \u001b[90m━━━━━━━━━━━━━━━━━━━━━━━━━━━━━━━━━━━━━━━━\u001b[0m \u001b[32m12.8/12.8 MB\u001b[0m \u001b[31m30.9 MB/s\u001b[0m eta \u001b[36m0:00:00\u001b[0ma \u001b[36m0:00:01\u001b[0m\n",
      "\u001b[?25h\u001b[38;5;2m✔ Download and installation successful\u001b[0m\n",
      "You can now load the package via spacy.load('en_core_web_sm')\n"
     ]
    }
   ],
   "source": [
    "!python -m spacy download en_core_web_sm\n"
   ]
  },
  {
   "cell_type": "code",
   "execution_count": 23,
   "id": "58a6683a-366c-42f7-a49e-e3ab7bbde8a0",
   "metadata": {},
   "outputs": [],
   "source": [
    "import spacy\n"
   ]
  },
  {
   "cell_type": "code",
   "execution_count": 21,
   "id": "0081e68c-94a7-44da-b64e-006fc7cbb943",
   "metadata": {},
   "outputs": [
    {
     "ename": "OSError",
     "evalue": "[E050] Can't find model 'en_core_web_sm'. It doesn't seem to be a Python package or a valid path to a data directory.",
     "output_type": "error",
     "traceback": [
      "\u001b[0;31m---------------------------------------------------------------------------\u001b[0m",
      "\u001b[0;31mOSError\u001b[0m                                   Traceback (most recent call last)",
      "Cell \u001b[0;32mIn[21], line 1\u001b[0m\n\u001b[0;32m----> 1\u001b[0m nlp \u001b[38;5;241m=\u001b[39m \u001b[43mspacy\u001b[49m\u001b[38;5;241;43m.\u001b[39;49m\u001b[43mload\u001b[49m\u001b[43m(\u001b[49m\u001b[38;5;124;43m\"\u001b[39;49m\u001b[38;5;124;43men_core_web_sm\u001b[39;49m\u001b[38;5;124;43m\"\u001b[39;49m\u001b[43m)\u001b[49m\n",
      "File \u001b[0;32m~/miniconda3/envs/nlp310/lib/python3.10/site-packages/spacy/__init__.py:51\u001b[0m, in \u001b[0;36mload\u001b[0;34m(name, vocab, disable, enable, exclude, config)\u001b[0m\n\u001b[1;32m     27\u001b[0m \u001b[38;5;28;01mdef\u001b[39;00m\u001b[38;5;250m \u001b[39m\u001b[38;5;21mload\u001b[39m(\n\u001b[1;32m     28\u001b[0m     name: Union[\u001b[38;5;28mstr\u001b[39m, Path],\n\u001b[1;32m     29\u001b[0m     \u001b[38;5;241m*\u001b[39m,\n\u001b[0;32m   (...)\u001b[0m\n\u001b[1;32m     34\u001b[0m     config: Union[Dict[\u001b[38;5;28mstr\u001b[39m, Any], Config] \u001b[38;5;241m=\u001b[39m util\u001b[38;5;241m.\u001b[39mSimpleFrozenDict(),\n\u001b[1;32m     35\u001b[0m ) \u001b[38;5;241m-\u001b[39m\u001b[38;5;241m>\u001b[39m Language:\n\u001b[1;32m     36\u001b[0m \u001b[38;5;250m    \u001b[39m\u001b[38;5;124;03m\"\"\"Load a spaCy model from an installed package or a local path.\u001b[39;00m\n\u001b[1;32m     37\u001b[0m \n\u001b[1;32m     38\u001b[0m \u001b[38;5;124;03m    name (str): Package name or model path.\u001b[39;00m\n\u001b[0;32m   (...)\u001b[0m\n\u001b[1;32m     49\u001b[0m \u001b[38;5;124;03m    RETURNS (Language): The loaded nlp object.\u001b[39;00m\n\u001b[1;32m     50\u001b[0m \u001b[38;5;124;03m    \"\"\"\u001b[39;00m\n\u001b[0;32m---> 51\u001b[0m     \u001b[38;5;28;01mreturn\u001b[39;00m \u001b[43mutil\u001b[49m\u001b[38;5;241;43m.\u001b[39;49m\u001b[43mload_model\u001b[49m\u001b[43m(\u001b[49m\n\u001b[1;32m     52\u001b[0m \u001b[43m        \u001b[49m\u001b[43mname\u001b[49m\u001b[43m,\u001b[49m\n\u001b[1;32m     53\u001b[0m \u001b[43m        \u001b[49m\u001b[43mvocab\u001b[49m\u001b[38;5;241;43m=\u001b[39;49m\u001b[43mvocab\u001b[49m\u001b[43m,\u001b[49m\n\u001b[1;32m     54\u001b[0m \u001b[43m        \u001b[49m\u001b[43mdisable\u001b[49m\u001b[38;5;241;43m=\u001b[39;49m\u001b[43mdisable\u001b[49m\u001b[43m,\u001b[49m\n\u001b[1;32m     55\u001b[0m \u001b[43m        \u001b[49m\u001b[43menable\u001b[49m\u001b[38;5;241;43m=\u001b[39;49m\u001b[43menable\u001b[49m\u001b[43m,\u001b[49m\n\u001b[1;32m     56\u001b[0m \u001b[43m        \u001b[49m\u001b[43mexclude\u001b[49m\u001b[38;5;241;43m=\u001b[39;49m\u001b[43mexclude\u001b[49m\u001b[43m,\u001b[49m\n\u001b[1;32m     57\u001b[0m \u001b[43m        \u001b[49m\u001b[43mconfig\u001b[49m\u001b[38;5;241;43m=\u001b[39;49m\u001b[43mconfig\u001b[49m\u001b[43m,\u001b[49m\n\u001b[1;32m     58\u001b[0m \u001b[43m    \u001b[49m\u001b[43m)\u001b[49m\n",
      "File \u001b[0;32m~/miniconda3/envs/nlp310/lib/python3.10/site-packages/spacy/util.py:472\u001b[0m, in \u001b[0;36mload_model\u001b[0;34m(name, vocab, disable, enable, exclude, config)\u001b[0m\n\u001b[1;32m    470\u001b[0m \u001b[38;5;28;01mif\u001b[39;00m name \u001b[38;5;129;01min\u001b[39;00m OLD_MODEL_SHORTCUTS:\n\u001b[1;32m    471\u001b[0m     \u001b[38;5;28;01mraise\u001b[39;00m \u001b[38;5;167;01mIOError\u001b[39;00m(Errors\u001b[38;5;241m.\u001b[39mE941\u001b[38;5;241m.\u001b[39mformat(name\u001b[38;5;241m=\u001b[39mname, full\u001b[38;5;241m=\u001b[39mOLD_MODEL_SHORTCUTS[name]))  \u001b[38;5;66;03m# type: ignore[index]\u001b[39;00m\n\u001b[0;32m--> 472\u001b[0m \u001b[38;5;28;01mraise\u001b[39;00m \u001b[38;5;167;01mIOError\u001b[39;00m(Errors\u001b[38;5;241m.\u001b[39mE050\u001b[38;5;241m.\u001b[39mformat(name\u001b[38;5;241m=\u001b[39mname))\n",
      "\u001b[0;31mOSError\u001b[0m: [E050] Can't find model 'en_core_web_sm'. It doesn't seem to be a Python package or a valid path to a data directory."
     ]
    }
   ],
   "source": [
    "nlp = spacy.load(\"en_core_web_sm\")"
   ]
  },
  {
   "cell_type": "code",
   "execution_count": 22,
   "id": "794c272f-0d28-475d-a8fc-b45dc633866f",
   "metadata": {},
   "outputs": [
    {
     "name": "stdout",
     "output_type": "stream",
     "text": [
      "\u001b[31mDeprecationWarning: The command 'link' is deprecated.\u001b[0m\n",
      "\u001b[38;5;3m⚠ As of spaCy v3.0, model symlinks are not supported anymore. You can\n",
      "load trained pipeline packages using their full names or from a directory\n",
      "path.\u001b[0m\n"
     ]
    }
   ],
   "source": [
    "!python -m spacy link en_core_web_sm en_core_web_sm\n"
   ]
  },
  {
   "cell_type": "code",
   "execution_count": 23,
   "id": "3a3a0da3-03fc-48b6-bed0-a0d098b73b58",
   "metadata": {},
   "outputs": [
    {
     "ename": "ModuleNotFoundError",
     "evalue": "No module named 'en_core_web_sm'",
     "output_type": "error",
     "traceback": [
      "\u001b[0;31m---------------------------------------------------------------------------\u001b[0m",
      "\u001b[0;31mModuleNotFoundError\u001b[0m                       Traceback (most recent call last)",
      "Cell \u001b[0;32mIn[23], line 1\u001b[0m\n\u001b[0;32m----> 1\u001b[0m \u001b[38;5;28;01mimport\u001b[39;00m\u001b[38;5;250m \u001b[39m\u001b[38;5;21;01men_core_web_sm\u001b[39;00m\n",
      "\u001b[0;31mModuleNotFoundError\u001b[0m: No module named 'en_core_web_sm'"
     ]
    }
   ],
   "source": [
    "import en_core_web_sm"
   ]
  },
  {
   "cell_type": "code",
   "execution_count": 24,
   "id": "4f3c16b9-db4d-4401-81ea-ab6123296a9f",
   "metadata": {},
   "outputs": [
    {
     "name": "stdout",
     "output_type": "stream",
     "text": [
      "Collecting en-core-web-sm==3.8.0\n",
      "  Downloading https://github.com/explosion/spacy-models/releases/download/en_core_web_sm-3.8.0/en_core_web_sm-3.8.0-py3-none-any.whl (12.8 MB)\n",
      "\u001b[2K     \u001b[90m━━━━━━━━━━━━━━━━━━━━━━━━━━━━━━━━━━━━━━━━\u001b[0m \u001b[32m12.8/12.8 MB\u001b[0m \u001b[31m49.4 MB/s\u001b[0m eta \u001b[36m0:00:00\u001b[0ma \u001b[36m0:00:01\u001b[0m\n",
      "\u001b[?25h"
     ]
    }
   ],
   "source": [
    "!pip install https://github.com/explosion/spacy-models/releases/download/en_core_web_sm-3.8.0/en_core_web_sm-3.8.0-py3-none-any.whl\n"
   ]
  },
  {
   "cell_type": "code",
   "execution_count": 25,
   "id": "b88f0e72-0e3f-4f50-b68f-7a3bdf395c3b",
   "metadata": {},
   "outputs": [
    {
     "ename": "ModuleNotFoundError",
     "evalue": "No module named 'en_core_web_sm'",
     "output_type": "error",
     "traceback": [
      "\u001b[0;31m---------------------------------------------------------------------------\u001b[0m",
      "\u001b[0;31mModuleNotFoundError\u001b[0m                       Traceback (most recent call last)",
      "Cell \u001b[0;32mIn[25], line 1\u001b[0m\n\u001b[0;32m----> 1\u001b[0m \u001b[38;5;28;01mimport\u001b[39;00m\u001b[38;5;250m \u001b[39m\u001b[38;5;21;01men_core_web_sm\u001b[39;00m\n",
      "\u001b[0;31mModuleNotFoundError\u001b[0m: No module named 'en_core_web_sm'"
     ]
    }
   ],
   "source": [
    "import en_core_web_sm\n"
   ]
  },
  {
   "cell_type": "code",
   "execution_count": 1,
   "id": "c091b5e9-1bd2-4ead-bed1-06d459020b23",
   "metadata": {},
   "outputs": [],
   "source": [
    "import spacy\n",
    "\n"
   ]
  },
  {
   "cell_type": "code",
   "execution_count": 2,
   "id": "48e2c940-97d8-4b81-ac14-0205f90ae563",
   "metadata": {},
   "outputs": [
    {
     "ename": "OSError",
     "evalue": "[E050] Can't find model 'en_core_web_sm'. It doesn't seem to be a Python package or a valid path to a data directory.",
     "output_type": "error",
     "traceback": [
      "\u001b[0;31m---------------------------------------------------------------------------\u001b[0m",
      "\u001b[0;31mOSError\u001b[0m                                   Traceback (most recent call last)",
      "Cell \u001b[0;32mIn[2], line 1\u001b[0m\n\u001b[0;32m----> 1\u001b[0m nlp \u001b[38;5;241m=\u001b[39m \u001b[43mspacy\u001b[49m\u001b[38;5;241;43m.\u001b[39;49m\u001b[43mload\u001b[49m\u001b[43m(\u001b[49m\u001b[38;5;124;43m\"\u001b[39;49m\u001b[38;5;124;43men_core_web_sm\u001b[39;49m\u001b[38;5;124;43m\"\u001b[39;49m\u001b[43m)\u001b[49m\n",
      "File \u001b[0;32m~/miniconda3/envs/nlp310/lib/python3.10/site-packages/spacy/__init__.py:51\u001b[0m, in \u001b[0;36mload\u001b[0;34m(name, vocab, disable, enable, exclude, config)\u001b[0m\n\u001b[1;32m     27\u001b[0m \u001b[38;5;28;01mdef\u001b[39;00m\u001b[38;5;250m \u001b[39m\u001b[38;5;21mload\u001b[39m(\n\u001b[1;32m     28\u001b[0m     name: Union[\u001b[38;5;28mstr\u001b[39m, Path],\n\u001b[1;32m     29\u001b[0m     \u001b[38;5;241m*\u001b[39m,\n\u001b[0;32m   (...)\u001b[0m\n\u001b[1;32m     34\u001b[0m     config: Union[Dict[\u001b[38;5;28mstr\u001b[39m, Any], Config] \u001b[38;5;241m=\u001b[39m util\u001b[38;5;241m.\u001b[39mSimpleFrozenDict(),\n\u001b[1;32m     35\u001b[0m ) \u001b[38;5;241m-\u001b[39m\u001b[38;5;241m>\u001b[39m Language:\n\u001b[1;32m     36\u001b[0m \u001b[38;5;250m    \u001b[39m\u001b[38;5;124;03m\"\"\"Load a spaCy model from an installed package or a local path.\u001b[39;00m\n\u001b[1;32m     37\u001b[0m \n\u001b[1;32m     38\u001b[0m \u001b[38;5;124;03m    name (str): Package name or model path.\u001b[39;00m\n\u001b[0;32m   (...)\u001b[0m\n\u001b[1;32m     49\u001b[0m \u001b[38;5;124;03m    RETURNS (Language): The loaded nlp object.\u001b[39;00m\n\u001b[1;32m     50\u001b[0m \u001b[38;5;124;03m    \"\"\"\u001b[39;00m\n\u001b[0;32m---> 51\u001b[0m     \u001b[38;5;28;01mreturn\u001b[39;00m \u001b[43mutil\u001b[49m\u001b[38;5;241;43m.\u001b[39;49m\u001b[43mload_model\u001b[49m\u001b[43m(\u001b[49m\n\u001b[1;32m     52\u001b[0m \u001b[43m        \u001b[49m\u001b[43mname\u001b[49m\u001b[43m,\u001b[49m\n\u001b[1;32m     53\u001b[0m \u001b[43m        \u001b[49m\u001b[43mvocab\u001b[49m\u001b[38;5;241;43m=\u001b[39;49m\u001b[43mvocab\u001b[49m\u001b[43m,\u001b[49m\n\u001b[1;32m     54\u001b[0m \u001b[43m        \u001b[49m\u001b[43mdisable\u001b[49m\u001b[38;5;241;43m=\u001b[39;49m\u001b[43mdisable\u001b[49m\u001b[43m,\u001b[49m\n\u001b[1;32m     55\u001b[0m \u001b[43m        \u001b[49m\u001b[43menable\u001b[49m\u001b[38;5;241;43m=\u001b[39;49m\u001b[43menable\u001b[49m\u001b[43m,\u001b[49m\n\u001b[1;32m     56\u001b[0m \u001b[43m        \u001b[49m\u001b[43mexclude\u001b[49m\u001b[38;5;241;43m=\u001b[39;49m\u001b[43mexclude\u001b[49m\u001b[43m,\u001b[49m\n\u001b[1;32m     57\u001b[0m \u001b[43m        \u001b[49m\u001b[43mconfig\u001b[49m\u001b[38;5;241;43m=\u001b[39;49m\u001b[43mconfig\u001b[49m\u001b[43m,\u001b[49m\n\u001b[1;32m     58\u001b[0m \u001b[43m    \u001b[49m\u001b[43m)\u001b[49m\n",
      "File \u001b[0;32m~/miniconda3/envs/nlp310/lib/python3.10/site-packages/spacy/util.py:472\u001b[0m, in \u001b[0;36mload_model\u001b[0;34m(name, vocab, disable, enable, exclude, config)\u001b[0m\n\u001b[1;32m    470\u001b[0m \u001b[38;5;28;01mif\u001b[39;00m name \u001b[38;5;129;01min\u001b[39;00m OLD_MODEL_SHORTCUTS:\n\u001b[1;32m    471\u001b[0m     \u001b[38;5;28;01mraise\u001b[39;00m \u001b[38;5;167;01mIOError\u001b[39;00m(Errors\u001b[38;5;241m.\u001b[39mE941\u001b[38;5;241m.\u001b[39mformat(name\u001b[38;5;241m=\u001b[39mname, full\u001b[38;5;241m=\u001b[39mOLD_MODEL_SHORTCUTS[name]))  \u001b[38;5;66;03m# type: ignore[index]\u001b[39;00m\n\u001b[0;32m--> 472\u001b[0m \u001b[38;5;28;01mraise\u001b[39;00m \u001b[38;5;167;01mIOError\u001b[39;00m(Errors\u001b[38;5;241m.\u001b[39mE050\u001b[38;5;241m.\u001b[39mformat(name\u001b[38;5;241m=\u001b[39mname))\n",
      "\u001b[0;31mOSError\u001b[0m: [E050] Can't find model 'en_core_web_sm'. It doesn't seem to be a Python package or a valid path to a data directory."
     ]
    }
   ],
   "source": [
    "nlp = spacy.load(\"en_core_web_sm\")"
   ]
  },
  {
   "cell_type": "code",
   "execution_count": 24,
   "id": "bcbb21e7-a9c2-4a5e-9b13-191ec9b077ee",
   "metadata": {},
   "outputs": [
    {
     "name": "stdout",
     "output_type": "stream",
     "text": [
      "Collecting en-core-web-sm==3.8.0\n",
      "  Downloading https://github.com/explosion/spacy-models/releases/download/en_core_web_sm-3.8.0/en_core_web_sm-3.8.0-py3-none-any.whl (12.8 MB)\n",
      "\u001b[2K     \u001b[90m━━━━━━━━━━━━━━━━━━━━━━━━━━━━━━━━━━━━━━━━\u001b[0m \u001b[32m12.8/12.8 MB\u001b[0m \u001b[31m31.0 MB/s\u001b[0m eta \u001b[36m0:00:00\u001b[0ma \u001b[36m0:00:01\u001b[0m\n",
      "\u001b[?25h\u001b[38;5;2m✔ Download and installation successful\u001b[0m\n",
      "You can now load the package via spacy.load('en_core_web_sm')\n"
     ]
    }
   ],
   "source": [
    "!python -m spacy download en_core_web_sm\n"
   ]
  },
  {
   "cell_type": "code",
   "execution_count": 25,
   "id": "70145001-7b98-429d-a34c-65a59b6de669",
   "metadata": {},
   "outputs": [
    {
     "name": "stdout",
     "output_type": "stream",
     "text": [
      "\u001b[2K\u001b[38;5;2m✔ Loaded compatibility table\u001b[0m\n",
      "\u001b[1m\n",
      "================= Installed pipeline packages (spaCy v3.8.7) =================\u001b[0m\n",
      "\u001b[38;5;4mℹ spaCy installation:\n",
      "/Users/moe/miniconda3/lib/python3.13/site-packages/spacy\u001b[0m\n",
      "\n",
      "NAME             SPACY            VERSION                            \n",
      "en_core_web_sm   >=3.8.0,<3.9.0   \u001b[38;5;2m3.8.0\u001b[0m   \u001b[38;5;2m✔\u001b[0m\n",
      "\n"
     ]
    }
   ],
   "source": [
    "!python -m spacy validate\n"
   ]
  },
  {
   "cell_type": "code",
   "execution_count": 26,
   "id": "9f031d00-9161-4fc7-92f7-0ef6b8e0a625",
   "metadata": {},
   "outputs": [
    {
     "name": "stdout",
     "output_type": "stream",
     "text": [
      "Collecting en-core-web-sm==3.8.0\n",
      "  Using cached https://github.com/explosion/spacy-models/releases/download/en_core_web_sm-3.8.0/en_core_web_sm-3.8.0-py3-none-any.whl (12.8 MB)\n",
      "\u001b[38;5;2m✔ Download and installation successful\u001b[0m\n",
      "You can now load the package via spacy.load('en_core_web_sm')\n"
     ]
    }
   ],
   "source": [
    "!python -m spacy download en_core_web_sm\n"
   ]
  },
  {
   "cell_type": "code",
   "execution_count": 6,
   "id": "f02f4efb-b280-4705-8964-d8b82eb6b62a",
   "metadata": {},
   "outputs": [],
   "source": [
    "import spacy\n"
   ]
  },
  {
   "cell_type": "code",
   "execution_count": 7,
   "id": "4f8147ec-720d-4a9e-a852-8ab8e5e8c13e",
   "metadata": {},
   "outputs": [
    {
     "ename": "OSError",
     "evalue": "[E050] Can't find model 'en_core_web_sm'. It doesn't seem to be a Python package or a valid path to a data directory.",
     "output_type": "error",
     "traceback": [
      "\u001b[0;31m---------------------------------------------------------------------------\u001b[0m",
      "\u001b[0;31mOSError\u001b[0m                                   Traceback (most recent call last)",
      "Cell \u001b[0;32mIn[7], line 1\u001b[0m\n\u001b[0;32m----> 1\u001b[0m nlp \u001b[38;5;241m=\u001b[39m \u001b[43mspacy\u001b[49m\u001b[38;5;241;43m.\u001b[39;49m\u001b[43mload\u001b[49m\u001b[43m(\u001b[49m\u001b[38;5;124;43m\"\u001b[39;49m\u001b[38;5;124;43men_core_web_sm\u001b[39;49m\u001b[38;5;124;43m\"\u001b[39;49m\u001b[43m)\u001b[49m\n",
      "File \u001b[0;32m~/miniconda3/envs/nlp310/lib/python3.10/site-packages/spacy/__init__.py:51\u001b[0m, in \u001b[0;36mload\u001b[0;34m(name, vocab, disable, enable, exclude, config)\u001b[0m\n\u001b[1;32m     27\u001b[0m \u001b[38;5;28;01mdef\u001b[39;00m\u001b[38;5;250m \u001b[39m\u001b[38;5;21mload\u001b[39m(\n\u001b[1;32m     28\u001b[0m     name: Union[\u001b[38;5;28mstr\u001b[39m, Path],\n\u001b[1;32m     29\u001b[0m     \u001b[38;5;241m*\u001b[39m,\n\u001b[0;32m   (...)\u001b[0m\n\u001b[1;32m     34\u001b[0m     config: Union[Dict[\u001b[38;5;28mstr\u001b[39m, Any], Config] \u001b[38;5;241m=\u001b[39m util\u001b[38;5;241m.\u001b[39mSimpleFrozenDict(),\n\u001b[1;32m     35\u001b[0m ) \u001b[38;5;241m-\u001b[39m\u001b[38;5;241m>\u001b[39m Language:\n\u001b[1;32m     36\u001b[0m \u001b[38;5;250m    \u001b[39m\u001b[38;5;124;03m\"\"\"Load a spaCy model from an installed package or a local path.\u001b[39;00m\n\u001b[1;32m     37\u001b[0m \n\u001b[1;32m     38\u001b[0m \u001b[38;5;124;03m    name (str): Package name or model path.\u001b[39;00m\n\u001b[0;32m   (...)\u001b[0m\n\u001b[1;32m     49\u001b[0m \u001b[38;5;124;03m    RETURNS (Language): The loaded nlp object.\u001b[39;00m\n\u001b[1;32m     50\u001b[0m \u001b[38;5;124;03m    \"\"\"\u001b[39;00m\n\u001b[0;32m---> 51\u001b[0m     \u001b[38;5;28;01mreturn\u001b[39;00m \u001b[43mutil\u001b[49m\u001b[38;5;241;43m.\u001b[39;49m\u001b[43mload_model\u001b[49m\u001b[43m(\u001b[49m\n\u001b[1;32m     52\u001b[0m \u001b[43m        \u001b[49m\u001b[43mname\u001b[49m\u001b[43m,\u001b[49m\n\u001b[1;32m     53\u001b[0m \u001b[43m        \u001b[49m\u001b[43mvocab\u001b[49m\u001b[38;5;241;43m=\u001b[39;49m\u001b[43mvocab\u001b[49m\u001b[43m,\u001b[49m\n\u001b[1;32m     54\u001b[0m \u001b[43m        \u001b[49m\u001b[43mdisable\u001b[49m\u001b[38;5;241;43m=\u001b[39;49m\u001b[43mdisable\u001b[49m\u001b[43m,\u001b[49m\n\u001b[1;32m     55\u001b[0m \u001b[43m        \u001b[49m\u001b[43menable\u001b[49m\u001b[38;5;241;43m=\u001b[39;49m\u001b[43menable\u001b[49m\u001b[43m,\u001b[49m\n\u001b[1;32m     56\u001b[0m \u001b[43m        \u001b[49m\u001b[43mexclude\u001b[49m\u001b[38;5;241;43m=\u001b[39;49m\u001b[43mexclude\u001b[49m\u001b[43m,\u001b[49m\n\u001b[1;32m     57\u001b[0m \u001b[43m        \u001b[49m\u001b[43mconfig\u001b[49m\u001b[38;5;241;43m=\u001b[39;49m\u001b[43mconfig\u001b[49m\u001b[43m,\u001b[49m\n\u001b[1;32m     58\u001b[0m \u001b[43m    \u001b[49m\u001b[43m)\u001b[49m\n",
      "File \u001b[0;32m~/miniconda3/envs/nlp310/lib/python3.10/site-packages/spacy/util.py:472\u001b[0m, in \u001b[0;36mload_model\u001b[0;34m(name, vocab, disable, enable, exclude, config)\u001b[0m\n\u001b[1;32m    470\u001b[0m \u001b[38;5;28;01mif\u001b[39;00m name \u001b[38;5;129;01min\u001b[39;00m OLD_MODEL_SHORTCUTS:\n\u001b[1;32m    471\u001b[0m     \u001b[38;5;28;01mraise\u001b[39;00m \u001b[38;5;167;01mIOError\u001b[39;00m(Errors\u001b[38;5;241m.\u001b[39mE941\u001b[38;5;241m.\u001b[39mformat(name\u001b[38;5;241m=\u001b[39mname, full\u001b[38;5;241m=\u001b[39mOLD_MODEL_SHORTCUTS[name]))  \u001b[38;5;66;03m# type: ignore[index]\u001b[39;00m\n\u001b[0;32m--> 472\u001b[0m \u001b[38;5;28;01mraise\u001b[39;00m \u001b[38;5;167;01mIOError\u001b[39;00m(Errors\u001b[38;5;241m.\u001b[39mE050\u001b[38;5;241m.\u001b[39mformat(name\u001b[38;5;241m=\u001b[39mname))\n",
      "\u001b[0;31mOSError\u001b[0m: [E050] Can't find model 'en_core_web_sm'. It doesn't seem to be a Python package or a valid path to a data directory."
     ]
    }
   ],
   "source": [
    "nlp = spacy.load(\"en_core_web_sm\")\n"
   ]
  },
  {
   "cell_type": "code",
   "execution_count": 27,
   "id": "d92b2bff-f91f-431a-a95e-60ce2f79888c",
   "metadata": {},
   "outputs": [
    {
     "name": "stdout",
     "output_type": "stream",
     "text": [
      "Collecting en-core-web-sm==3.7.1\n",
      "  Downloading https://github.com/explosion/spacy-models/releases/download/en_core_web_sm-3.7.1/en_core_web_sm-3.7.1-py3-none-any.whl (12.8 MB)\n",
      "\u001b[2K     \u001b[90m━━━━━━━━━━━━━━━━━━━━━━━━━━━━━━━━━━━━━━━━\u001b[0m \u001b[32m12.8/12.8 MB\u001b[0m \u001b[31m28.9 MB/s\u001b[0m eta \u001b[36m0:00:00\u001b[0ma \u001b[36m0:00:01\u001b[0m\n",
      "\u001b[?25hRequirement already satisfied: spacy<3.8.0,>=3.7.2 in /Users/moe/miniconda3/envs/nlp310/lib/python3.10/site-packages (from en-core-web-sm==3.7.1) (3.7.6)\n",
      "Requirement already satisfied: spacy-legacy<3.1.0,>=3.0.11 in /Users/moe/miniconda3/envs/nlp310/lib/python3.10/site-packages (from spacy<3.8.0,>=3.7.2->en-core-web-sm==3.7.1) (3.0.12)\n",
      "Requirement already satisfied: spacy-loggers<2.0.0,>=1.0.0 in /Users/moe/miniconda3/envs/nlp310/lib/python3.10/site-packages (from spacy<3.8.0,>=3.7.2->en-core-web-sm==3.7.1) (1.0.5)\n",
      "Requirement already satisfied: murmurhash<1.1.0,>=0.28.0 in /Users/moe/miniconda3/envs/nlp310/lib/python3.10/site-packages (from spacy<3.8.0,>=3.7.2->en-core-web-sm==3.7.1) (1.0.10)\n",
      "Requirement already satisfied: cymem<2.1.0,>=2.0.2 in /Users/moe/miniconda3/envs/nlp310/lib/python3.10/site-packages (from spacy<3.8.0,>=3.7.2->en-core-web-sm==3.7.1) (2.0.8)\n",
      "Requirement already satisfied: preshed<3.1.0,>=3.0.2 in /Users/moe/miniconda3/envs/nlp310/lib/python3.10/site-packages (from spacy<3.8.0,>=3.7.2->en-core-web-sm==3.7.1) (3.0.9)\n",
      "Requirement already satisfied: thinc<8.3.0,>=8.2.2 in /Users/moe/miniconda3/envs/nlp310/lib/python3.10/site-packages (from spacy<3.8.0,>=3.7.2->en-core-web-sm==3.7.1) (8.2.5)\n",
      "Requirement already satisfied: wasabi<1.2.0,>=0.9.1 in /Users/moe/miniconda3/envs/nlp310/lib/python3.10/site-packages (from spacy<3.8.0,>=3.7.2->en-core-web-sm==3.7.1) (1.1.3)\n",
      "Requirement already satisfied: srsly<3.0.0,>=2.4.3 in /Users/moe/miniconda3/envs/nlp310/lib/python3.10/site-packages (from spacy<3.8.0,>=3.7.2->en-core-web-sm==3.7.1) (2.4.8)\n",
      "Requirement already satisfied: catalogue<2.1.0,>=2.0.6 in /Users/moe/miniconda3/envs/nlp310/lib/python3.10/site-packages (from spacy<3.8.0,>=3.7.2->en-core-web-sm==3.7.1) (2.0.10)\n",
      "Requirement already satisfied: weasel<0.5.0,>=0.1.0 in /Users/moe/miniconda3/envs/nlp310/lib/python3.10/site-packages (from spacy<3.8.0,>=3.7.2->en-core-web-sm==3.7.1) (0.4.1)\n",
      "Requirement already satisfied: typer<1.0.0,>=0.3.0 in /Users/moe/miniconda3/envs/nlp310/lib/python3.10/site-packages (from spacy<3.8.0,>=3.7.2->en-core-web-sm==3.7.1) (0.16.0)\n",
      "Requirement already satisfied: tqdm<5.0.0,>=4.38.0 in /Users/moe/miniconda3/envs/nlp310/lib/python3.10/site-packages (from spacy<3.8.0,>=3.7.2->en-core-web-sm==3.7.1) (4.67.1)\n",
      "Requirement already satisfied: requests<3.0.0,>=2.13.0 in /Users/moe/miniconda3/envs/nlp310/lib/python3.10/site-packages (from spacy<3.8.0,>=3.7.2->en-core-web-sm==3.7.1) (2.32.4)\n",
      "Requirement already satisfied: pydantic!=1.8,!=1.8.1,<3.0.0,>=1.7.4 in /Users/moe/miniconda3/envs/nlp310/lib/python3.10/site-packages (from spacy<3.8.0,>=3.7.2->en-core-web-sm==3.7.1) (2.11.7)\n",
      "Requirement already satisfied: jinja2 in /Users/moe/miniconda3/envs/nlp310/lib/python3.10/site-packages (from spacy<3.8.0,>=3.7.2->en-core-web-sm==3.7.1) (3.1.6)\n",
      "Requirement already satisfied: setuptools in /Users/moe/miniconda3/envs/nlp310/lib/python3.10/site-packages (from spacy<3.8.0,>=3.7.2->en-core-web-sm==3.7.1) (78.1.1)\n",
      "Requirement already satisfied: packaging>=20.0 in /Users/moe/miniconda3/envs/nlp310/lib/python3.10/site-packages (from spacy<3.8.0,>=3.7.2->en-core-web-sm==3.7.1) (25.0)\n",
      "Requirement already satisfied: langcodes<4.0.0,>=3.2.0 in /Users/moe/miniconda3/envs/nlp310/lib/python3.10/site-packages (from spacy<3.8.0,>=3.7.2->en-core-web-sm==3.7.1) (3.4.1)\n",
      "Requirement already satisfied: numpy>=1.19.0 in /Users/moe/miniconda3/envs/nlp310/lib/python3.10/site-packages (from spacy<3.8.0,>=3.7.2->en-core-web-sm==3.7.1) (1.26.4)\n",
      "Requirement already satisfied: language-data>=1.2 in /Users/moe/miniconda3/envs/nlp310/lib/python3.10/site-packages (from langcodes<4.0.0,>=3.2.0->spacy<3.8.0,>=3.7.2->en-core-web-sm==3.7.1) (1.3.0)\n",
      "Requirement already satisfied: annotated-types>=0.6.0 in /Users/moe/miniconda3/envs/nlp310/lib/python3.10/site-packages (from pydantic!=1.8,!=1.8.1,<3.0.0,>=1.7.4->spacy<3.8.0,>=3.7.2->en-core-web-sm==3.7.1) (0.7.0)\n",
      "Requirement already satisfied: pydantic-core==2.33.2 in /Users/moe/miniconda3/envs/nlp310/lib/python3.10/site-packages (from pydantic!=1.8,!=1.8.1,<3.0.0,>=1.7.4->spacy<3.8.0,>=3.7.2->en-core-web-sm==3.7.1) (2.33.2)\n",
      "Requirement already satisfied: typing-extensions>=4.12.2 in /Users/moe/miniconda3/envs/nlp310/lib/python3.10/site-packages (from pydantic!=1.8,!=1.8.1,<3.0.0,>=1.7.4->spacy<3.8.0,>=3.7.2->en-core-web-sm==3.7.1) (4.14.1)\n",
      "Requirement already satisfied: typing-inspection>=0.4.0 in /Users/moe/miniconda3/envs/nlp310/lib/python3.10/site-packages (from pydantic!=1.8,!=1.8.1,<3.0.0,>=1.7.4->spacy<3.8.0,>=3.7.2->en-core-web-sm==3.7.1) (0.4.1)\n",
      "Requirement already satisfied: charset_normalizer<4,>=2 in /Users/moe/miniconda3/envs/nlp310/lib/python3.10/site-packages (from requests<3.0.0,>=2.13.0->spacy<3.8.0,>=3.7.2->en-core-web-sm==3.7.1) (3.4.2)\n",
      "Requirement already satisfied: idna<4,>=2.5 in /Users/moe/miniconda3/envs/nlp310/lib/python3.10/site-packages (from requests<3.0.0,>=2.13.0->spacy<3.8.0,>=3.7.2->en-core-web-sm==3.7.1) (3.10)\n",
      "Requirement already satisfied: urllib3<3,>=1.21.1 in /Users/moe/miniconda3/envs/nlp310/lib/python3.10/site-packages (from requests<3.0.0,>=2.13.0->spacy<3.8.0,>=3.7.2->en-core-web-sm==3.7.1) (2.5.0)\n",
      "Requirement already satisfied: certifi>=2017.4.17 in /Users/moe/miniconda3/envs/nlp310/lib/python3.10/site-packages (from requests<3.0.0,>=2.13.0->spacy<3.8.0,>=3.7.2->en-core-web-sm==3.7.1) (2025.8.3)\n",
      "Requirement already satisfied: blis<0.8.0,>=0.7.8 in /Users/moe/miniconda3/envs/nlp310/lib/python3.10/site-packages (from thinc<8.3.0,>=8.2.2->spacy<3.8.0,>=3.7.2->en-core-web-sm==3.7.1) (0.7.10)\n",
      "Requirement already satisfied: confection<1.0.0,>=0.0.1 in /Users/moe/miniconda3/envs/nlp310/lib/python3.10/site-packages (from thinc<8.3.0,>=8.2.2->spacy<3.8.0,>=3.7.2->en-core-web-sm==3.7.1) (0.1.5)\n",
      "Requirement already satisfied: click>=8.0.0 in /Users/moe/miniconda3/envs/nlp310/lib/python3.10/site-packages (from typer<1.0.0,>=0.3.0->spacy<3.8.0,>=3.7.2->en-core-web-sm==3.7.1) (8.2.1)\n",
      "Requirement already satisfied: shellingham>=1.3.0 in /Users/moe/miniconda3/envs/nlp310/lib/python3.10/site-packages (from typer<1.0.0,>=0.3.0->spacy<3.8.0,>=3.7.2->en-core-web-sm==3.7.1) (1.5.4)\n",
      "Requirement already satisfied: rich>=10.11.0 in /Users/moe/miniconda3/envs/nlp310/lib/python3.10/site-packages (from typer<1.0.0,>=0.3.0->spacy<3.8.0,>=3.7.2->en-core-web-sm==3.7.1) (14.0.0)\n",
      "Requirement already satisfied: cloudpathlib<1.0.0,>=0.7.0 in /Users/moe/miniconda3/envs/nlp310/lib/python3.10/site-packages (from weasel<0.5.0,>=0.1.0->spacy<3.8.0,>=3.7.2->en-core-web-sm==3.7.1) (0.21.1)\n",
      "Requirement already satisfied: smart-open<8.0.0,>=5.2.1 in /Users/moe/miniconda3/envs/nlp310/lib/python3.10/site-packages (from weasel<0.5.0,>=0.1.0->spacy<3.8.0,>=3.7.2->en-core-web-sm==3.7.1) (7.3.0.post1)\n",
      "Requirement already satisfied: wrapt in /Users/moe/miniconda3/envs/nlp310/lib/python3.10/site-packages (from smart-open<8.0.0,>=5.2.1->weasel<0.5.0,>=0.1.0->spacy<3.8.0,>=3.7.2->en-core-web-sm==3.7.1) (1.17.2)\n",
      "Requirement already satisfied: marisa-trie>=1.1.0 in /Users/moe/miniconda3/envs/nlp310/lib/python3.10/site-packages (from language-data>=1.2->langcodes<4.0.0,>=3.2.0->spacy<3.8.0,>=3.7.2->en-core-web-sm==3.7.1) (1.2.0)\n",
      "Requirement already satisfied: markdown-it-py>=2.2.0 in /Users/moe/miniconda3/envs/nlp310/lib/python3.10/site-packages (from rich>=10.11.0->typer<1.0.0,>=0.3.0->spacy<3.8.0,>=3.7.2->en-core-web-sm==3.7.1) (3.0.0)\n",
      "Requirement already satisfied: pygments<3.0.0,>=2.13.0 in /Users/moe/miniconda3/envs/nlp310/lib/python3.10/site-packages (from rich>=10.11.0->typer<1.0.0,>=0.3.0->spacy<3.8.0,>=3.7.2->en-core-web-sm==3.7.1) (2.19.2)\n",
      "Requirement already satisfied: mdurl~=0.1 in /Users/moe/miniconda3/envs/nlp310/lib/python3.10/site-packages (from markdown-it-py>=2.2.0->rich>=10.11.0->typer<1.0.0,>=0.3.0->spacy<3.8.0,>=3.7.2->en-core-web-sm==3.7.1) (0.1.2)\n",
      "Requirement already satisfied: MarkupSafe>=2.0 in /Users/moe/miniconda3/envs/nlp310/lib/python3.10/site-packages (from jinja2->spacy<3.8.0,>=3.7.2->en-core-web-sm==3.7.1) (3.0.2)\n",
      "\u001b[38;5;2m✔ Download and installation successful\u001b[0m\n",
      "You can now load the package via spacy.load('en_core_web_sm')\n"
     ]
    }
   ],
   "source": [
    "!{sys.executable} -m spacy download en_core_web_sm\n"
   ]
  },
  {
   "cell_type": "code",
   "execution_count": 28,
   "id": "cccd0fff-9081-4b8a-902d-9b6989e892df",
   "metadata": {},
   "outputs": [
    {
     "name": "stdout",
     "output_type": "stream",
     "text": [
      "Collecting en-core-web-sm==3.7.1\n",
      "  Using cached https://github.com/explosion/spacy-models/releases/download/en_core_web_sm-3.7.1/en_core_web_sm-3.7.1-py3-none-any.whl (12.8 MB)\n",
      "Requirement already satisfied: spacy<3.8.0,>=3.7.2 in /Users/moe/miniconda3/envs/nlp310/lib/python3.10/site-packages (from en-core-web-sm==3.7.1) (3.7.6)\n",
      "Requirement already satisfied: spacy-legacy<3.1.0,>=3.0.11 in /Users/moe/miniconda3/envs/nlp310/lib/python3.10/site-packages (from spacy<3.8.0,>=3.7.2->en-core-web-sm==3.7.1) (3.0.12)\n",
      "Requirement already satisfied: spacy-loggers<2.0.0,>=1.0.0 in /Users/moe/miniconda3/envs/nlp310/lib/python3.10/site-packages (from spacy<3.8.0,>=3.7.2->en-core-web-sm==3.7.1) (1.0.5)\n",
      "Requirement already satisfied: murmurhash<1.1.0,>=0.28.0 in /Users/moe/miniconda3/envs/nlp310/lib/python3.10/site-packages (from spacy<3.8.0,>=3.7.2->en-core-web-sm==3.7.1) (1.0.10)\n",
      "Requirement already satisfied: cymem<2.1.0,>=2.0.2 in /Users/moe/miniconda3/envs/nlp310/lib/python3.10/site-packages (from spacy<3.8.0,>=3.7.2->en-core-web-sm==3.7.1) (2.0.8)\n",
      "Requirement already satisfied: preshed<3.1.0,>=3.0.2 in /Users/moe/miniconda3/envs/nlp310/lib/python3.10/site-packages (from spacy<3.8.0,>=3.7.2->en-core-web-sm==3.7.1) (3.0.9)\n",
      "Requirement already satisfied: thinc<8.3.0,>=8.2.2 in /Users/moe/miniconda3/envs/nlp310/lib/python3.10/site-packages (from spacy<3.8.0,>=3.7.2->en-core-web-sm==3.7.1) (8.2.5)\n",
      "Requirement already satisfied: wasabi<1.2.0,>=0.9.1 in /Users/moe/miniconda3/envs/nlp310/lib/python3.10/site-packages (from spacy<3.8.0,>=3.7.2->en-core-web-sm==3.7.1) (1.1.3)\n",
      "Requirement already satisfied: srsly<3.0.0,>=2.4.3 in /Users/moe/miniconda3/envs/nlp310/lib/python3.10/site-packages (from spacy<3.8.0,>=3.7.2->en-core-web-sm==3.7.1) (2.4.8)\n",
      "Requirement already satisfied: catalogue<2.1.0,>=2.0.6 in /Users/moe/miniconda3/envs/nlp310/lib/python3.10/site-packages (from spacy<3.8.0,>=3.7.2->en-core-web-sm==3.7.1) (2.0.10)\n",
      "Requirement already satisfied: weasel<0.5.0,>=0.1.0 in /Users/moe/miniconda3/envs/nlp310/lib/python3.10/site-packages (from spacy<3.8.0,>=3.7.2->en-core-web-sm==3.7.1) (0.4.1)\n",
      "Requirement already satisfied: typer<1.0.0,>=0.3.0 in /Users/moe/miniconda3/envs/nlp310/lib/python3.10/site-packages (from spacy<3.8.0,>=3.7.2->en-core-web-sm==3.7.1) (0.16.0)\n",
      "Requirement already satisfied: tqdm<5.0.0,>=4.38.0 in /Users/moe/miniconda3/envs/nlp310/lib/python3.10/site-packages (from spacy<3.8.0,>=3.7.2->en-core-web-sm==3.7.1) (4.67.1)\n",
      "Requirement already satisfied: requests<3.0.0,>=2.13.0 in /Users/moe/miniconda3/envs/nlp310/lib/python3.10/site-packages (from spacy<3.8.0,>=3.7.2->en-core-web-sm==3.7.1) (2.32.4)\n",
      "Requirement already satisfied: pydantic!=1.8,!=1.8.1,<3.0.0,>=1.7.4 in /Users/moe/miniconda3/envs/nlp310/lib/python3.10/site-packages (from spacy<3.8.0,>=3.7.2->en-core-web-sm==3.7.1) (2.11.7)\n",
      "Requirement already satisfied: jinja2 in /Users/moe/miniconda3/envs/nlp310/lib/python3.10/site-packages (from spacy<3.8.0,>=3.7.2->en-core-web-sm==3.7.1) (3.1.6)\n",
      "Requirement already satisfied: setuptools in /Users/moe/miniconda3/envs/nlp310/lib/python3.10/site-packages (from spacy<3.8.0,>=3.7.2->en-core-web-sm==3.7.1) (78.1.1)\n",
      "Requirement already satisfied: packaging>=20.0 in /Users/moe/miniconda3/envs/nlp310/lib/python3.10/site-packages (from spacy<3.8.0,>=3.7.2->en-core-web-sm==3.7.1) (25.0)\n",
      "Requirement already satisfied: langcodes<4.0.0,>=3.2.0 in /Users/moe/miniconda3/envs/nlp310/lib/python3.10/site-packages (from spacy<3.8.0,>=3.7.2->en-core-web-sm==3.7.1) (3.4.1)\n",
      "Requirement already satisfied: numpy>=1.19.0 in /Users/moe/miniconda3/envs/nlp310/lib/python3.10/site-packages (from spacy<3.8.0,>=3.7.2->en-core-web-sm==3.7.1) (1.26.4)\n",
      "Requirement already satisfied: language-data>=1.2 in /Users/moe/miniconda3/envs/nlp310/lib/python3.10/site-packages (from langcodes<4.0.0,>=3.2.0->spacy<3.8.0,>=3.7.2->en-core-web-sm==3.7.1) (1.3.0)\n",
      "Requirement already satisfied: annotated-types>=0.6.0 in /Users/moe/miniconda3/envs/nlp310/lib/python3.10/site-packages (from pydantic!=1.8,!=1.8.1,<3.0.0,>=1.7.4->spacy<3.8.0,>=3.7.2->en-core-web-sm==3.7.1) (0.7.0)\n",
      "Requirement already satisfied: pydantic-core==2.33.2 in /Users/moe/miniconda3/envs/nlp310/lib/python3.10/site-packages (from pydantic!=1.8,!=1.8.1,<3.0.0,>=1.7.4->spacy<3.8.0,>=3.7.2->en-core-web-sm==3.7.1) (2.33.2)\n",
      "Requirement already satisfied: typing-extensions>=4.12.2 in /Users/moe/miniconda3/envs/nlp310/lib/python3.10/site-packages (from pydantic!=1.8,!=1.8.1,<3.0.0,>=1.7.4->spacy<3.8.0,>=3.7.2->en-core-web-sm==3.7.1) (4.14.1)\n",
      "Requirement already satisfied: typing-inspection>=0.4.0 in /Users/moe/miniconda3/envs/nlp310/lib/python3.10/site-packages (from pydantic!=1.8,!=1.8.1,<3.0.0,>=1.7.4->spacy<3.8.0,>=3.7.2->en-core-web-sm==3.7.1) (0.4.1)\n",
      "Requirement already satisfied: charset_normalizer<4,>=2 in /Users/moe/miniconda3/envs/nlp310/lib/python3.10/site-packages (from requests<3.0.0,>=2.13.0->spacy<3.8.0,>=3.7.2->en-core-web-sm==3.7.1) (3.4.2)\n",
      "Requirement already satisfied: idna<4,>=2.5 in /Users/moe/miniconda3/envs/nlp310/lib/python3.10/site-packages (from requests<3.0.0,>=2.13.0->spacy<3.8.0,>=3.7.2->en-core-web-sm==3.7.1) (3.10)\n",
      "Requirement already satisfied: urllib3<3,>=1.21.1 in /Users/moe/miniconda3/envs/nlp310/lib/python3.10/site-packages (from requests<3.0.0,>=2.13.0->spacy<3.8.0,>=3.7.2->en-core-web-sm==3.7.1) (2.5.0)\n",
      "Requirement already satisfied: certifi>=2017.4.17 in /Users/moe/miniconda3/envs/nlp310/lib/python3.10/site-packages (from requests<3.0.0,>=2.13.0->spacy<3.8.0,>=3.7.2->en-core-web-sm==3.7.1) (2025.8.3)\n",
      "Requirement already satisfied: blis<0.8.0,>=0.7.8 in /Users/moe/miniconda3/envs/nlp310/lib/python3.10/site-packages (from thinc<8.3.0,>=8.2.2->spacy<3.8.0,>=3.7.2->en-core-web-sm==3.7.1) (0.7.10)\n",
      "Requirement already satisfied: confection<1.0.0,>=0.0.1 in /Users/moe/miniconda3/envs/nlp310/lib/python3.10/site-packages (from thinc<8.3.0,>=8.2.2->spacy<3.8.0,>=3.7.2->en-core-web-sm==3.7.1) (0.1.5)\n",
      "Requirement already satisfied: click>=8.0.0 in /Users/moe/miniconda3/envs/nlp310/lib/python3.10/site-packages (from typer<1.0.0,>=0.3.0->spacy<3.8.0,>=3.7.2->en-core-web-sm==3.7.1) (8.2.1)\n",
      "Requirement already satisfied: shellingham>=1.3.0 in /Users/moe/miniconda3/envs/nlp310/lib/python3.10/site-packages (from typer<1.0.0,>=0.3.0->spacy<3.8.0,>=3.7.2->en-core-web-sm==3.7.1) (1.5.4)\n",
      "Requirement already satisfied: rich>=10.11.0 in /Users/moe/miniconda3/envs/nlp310/lib/python3.10/site-packages (from typer<1.0.0,>=0.3.0->spacy<3.8.0,>=3.7.2->en-core-web-sm==3.7.1) (14.0.0)\n",
      "Requirement already satisfied: cloudpathlib<1.0.0,>=0.7.0 in /Users/moe/miniconda3/envs/nlp310/lib/python3.10/site-packages (from weasel<0.5.0,>=0.1.0->spacy<3.8.0,>=3.7.2->en-core-web-sm==3.7.1) (0.21.1)\n",
      "Requirement already satisfied: smart-open<8.0.0,>=5.2.1 in /Users/moe/miniconda3/envs/nlp310/lib/python3.10/site-packages (from weasel<0.5.0,>=0.1.0->spacy<3.8.0,>=3.7.2->en-core-web-sm==3.7.1) (7.3.0.post1)\n",
      "Requirement already satisfied: wrapt in /Users/moe/miniconda3/envs/nlp310/lib/python3.10/site-packages (from smart-open<8.0.0,>=5.2.1->weasel<0.5.0,>=0.1.0->spacy<3.8.0,>=3.7.2->en-core-web-sm==3.7.1) (1.17.2)\n",
      "Requirement already satisfied: marisa-trie>=1.1.0 in /Users/moe/miniconda3/envs/nlp310/lib/python3.10/site-packages (from language-data>=1.2->langcodes<4.0.0,>=3.2.0->spacy<3.8.0,>=3.7.2->en-core-web-sm==3.7.1) (1.2.0)\n",
      "Requirement already satisfied: markdown-it-py>=2.2.0 in /Users/moe/miniconda3/envs/nlp310/lib/python3.10/site-packages (from rich>=10.11.0->typer<1.0.0,>=0.3.0->spacy<3.8.0,>=3.7.2->en-core-web-sm==3.7.1) (3.0.0)\n",
      "Requirement already satisfied: pygments<3.0.0,>=2.13.0 in /Users/moe/miniconda3/envs/nlp310/lib/python3.10/site-packages (from rich>=10.11.0->typer<1.0.0,>=0.3.0->spacy<3.8.0,>=3.7.2->en-core-web-sm==3.7.1) (2.19.2)\n",
      "Requirement already satisfied: mdurl~=0.1 in /Users/moe/miniconda3/envs/nlp310/lib/python3.10/site-packages (from markdown-it-py>=2.2.0->rich>=10.11.0->typer<1.0.0,>=0.3.0->spacy<3.8.0,>=3.7.2->en-core-web-sm==3.7.1) (0.1.2)\n",
      "Requirement already satisfied: MarkupSafe>=2.0 in /Users/moe/miniconda3/envs/nlp310/lib/python3.10/site-packages (from jinja2->spacy<3.8.0,>=3.7.2->en-core-web-sm==3.7.1) (3.0.2)\n",
      "\u001b[38;5;2m✔ Download and installation successful\u001b[0m\n",
      "You can now load the package via spacy.load('en_core_web_sm')\n"
     ]
    }
   ],
   "source": [
    "!{sys.executable} -m spacy download en_core_web_sm\n"
   ]
  },
  {
   "cell_type": "code",
   "execution_count": 29,
   "id": "27c46d62-a330-4fe7-a839-499eb652c788",
   "metadata": {},
   "outputs": [],
   "source": [
    "import spacy\n"
   ]
  },
  {
   "cell_type": "markdown",
   "id": "4825a527-85b4-438c-8106-42a7ebb90077",
   "metadata": {},
   "source": [
    "## POS Tagging"
   ]
  },
  {
   "cell_type": "code",
   "execution_count": 30,
   "id": "3f8103dc-760e-4f87-854d-74e2243d7a41",
   "metadata": {},
   "outputs": [],
   "source": [
    "\n",
    "nlp = spacy.load(\"en_core_web_sm\")\n"
   ]
  },
  {
   "cell_type": "code",
   "execution_count": 31,
   "id": "31a2dd8a-1b74-4423-9779-17f0a51d87bc",
   "metadata": {},
   "outputs": [
    {
     "name": "stdout",
     "output_type": "stream",
     "text": [
      "['tok2vec', 'tagger', 'parser', 'attribute_ruler', 'lemmatizer', 'ner']\n"
     ]
    }
   ],
   "source": [
    "print(nlp.pipe_names)\n"
   ]
  },
  {
   "cell_type": "code",
   "execution_count": 32,
   "id": "ebf4a975-a72a-430a-82dd-b423f0dafe35",
   "metadata": {},
   "outputs": [],
   "source": [
    "# Split dataset into fake and factual news to compare POS tags\n",
    "\n",
    "fake_news = data[data['fake_or_factual'] == 'Fake News']\n",
    "fact_news = data[data['fake_or_factual'] == 'Factual News']\n"
   ]
  },
  {
   "cell_type": "code",
   "execution_count": 33,
   "id": "717b8f4e-0353-40c3-ba3c-4623e496bb2c",
   "metadata": {},
   "outputs": [],
   "source": [
    "fake_spacydocs = list(nlp.pipe(fake_news['text']))\n",
    "fact_spacydocs = list(nlp.pipe(fact_news['text']))\n"
   ]
  },
  {
   "cell_type": "code",
   "execution_count": 34,
   "id": "d62a870d-c873-4388-a71f-53bdded535ec",
   "metadata": {},
   "outputs": [
    {
     "data": {
      "text/plain": [
       "[There are two small problems with your analogy Susan  Jesus was NOT a Muslim and Joseph traveled to Bethlehem with Mary. For anyone who s not paying attention there don t appear to be many female refugees accompanying male Muslim  refugees  to Greece.Susan Sarandon spent the Christmas holiday on the Greek island of Lesbos assisting international organizations with the mounting Syrian refugee crisis   a crisis, she says, that recalls the travails of Joseph and Mary on their way to the Inn in Bethlehem.In a column for the Huffington Post and RYOT, the 69-year-old Oscar-winning actress described meeting a 16-year-old girl who had apparently given birth shortly before arriving on the island. I smile and approach her, but without a translator, our conversation is basic-friendly,  Sarandon wrote of her experience.  She takes the bundle next to her and opens it to me. Inside is a perfect, rosy, newborn. The actress continues:She is beaming, so proud. How did this young girl, just having given birth, manage that trip at sea? How did she do all that walking? Where did she give birth?Wasn t Mary just a kid too when she and Joseph took to the road? So far, there is no manger for this Syrian baby, no room at the inn.Sarandon s short column is part of a new collaborative series with the Huffington Post and the  virtual reality  network RYOT called The Crossing, which will see the actress host a series of reports  chronicling the refugee crisis as it unfolds in Greece. The actress also criticized the political discourse surrounding the refugee crisis in the United States:  It seemed like people who had the loudest voices were the most xenophobic and un-American,  she said.Sarandon isn t the only actor to have visited the Greek island to assist international aid efforts for refugees; Homeland star Mandy Patinkin recently spent time there assisting the International Rescue Committee after wrapping production on the fifth season of the hit Showtime drama. Via: Breitbart News,\n",
       " Buried in Trump s bonkers interview with New York Times reporters Maggie Haberman and Glenn Thrush is this outrageous exchange Trump claims happened recently:TRUMP: [U.S. Representative] Elijah Cummings was in my office and he said,  You will go down as one of the great presidents in the history of our country. HABERMAN: Really?TRUMP: And then he went out and I watched him on television yesterday and I said,  Was that the same man? Which  would have been odd considering Cummings, a fiery Democratic congressman, has been one of Trump s most intense critics. He s very public about it. Cummings has been outspoken about Trump s disturbing connections to Russia, the GOP s botched attempts to cover those connections up, and has repeatedly demanded Trump divest himself of his numerous conflicts of interest. He hardly sounds like a person who has looked at Trump s trainwreck first three months in office and concluded that he deserves to be up on Mount Rushmore.One theory was that Trump flatly lied. Always a possibility   Trump is a pathological liar. Another, suggested by writer Jamelle Bouie, is that Trump mixed up two black men, conflating Cummings with some other guy. Another strong possibility   Trump has shown a complete lack of interest in the lives of black Americans.Fortunately, Cummings came in to provide the real answer: Trump took a criticism Cummings has made to his face and filtered it through his unchecked narcissism. Here s how Cummings describes the meeting Trump said was about praising him: During my meeting with the president and on several occasions since then, I have said repeatedly that he could be a great president if   if   he takes steps to truly represent all Americans rather than continuing on the divisive and harmful path he is currently on. Note the jab that Trump completely missed? IF Trump stops being  divisive and harmful  he could someday be a great president. So far he has not done so. Hasn t even tried. (As if to underscore how little Trump has tried to stop being divisive, in the same interview he defended Bill O Reilly for sexually harassing women at Fox News.)Unintentionally, Trump s bizarre retelling of what went down during his meeting with Cummings exemplifies the warped way Trump sees the world. A criticism turns into praise, stripping away all context in the process. It may explain, for example, why Trump seems to genuinely believe he saw Muslim Americans celebrating on 9/11. His ego filters everything, facts get distorted and retooled for his own agenda.The fact that we have a president who does not seem to understand the difference between reality and the fantasy world that exists in his head is a recipe for disaster. If meetings with a congressman get this distorted, what other delusions is Trump living in?Featured image via Win McNamee/Getty Images,\n",
       " Women make up over 50 percent of this country, but are grossly underrepresented in just about everything. In the United States Congress, more than 80 percent of those representing the people are men   80 percent in the Senate, 81 percent in the House.On the Supreme Court, only three of the nine Justices are women.And yes, even in the progressive Obama Administration, only 13 out of the 47 individuals who have served in his cabinet have been women   28 percent.It is no secret that Washington D.C. is still a hard place for a woman to find her voice. Even though it s been proven statistically that when women take charge of the operations and debates in D.C., stuff gets done quicker in a more bipartisan manner. Still, women aren t taken seriously.But Hillary Clinton, while shattering that glass ceiling herself, wants to shatter it in all aspects of D.C., starting with her cabinet, should she win the presidency.In an MSNBC town hall Monday night, Clinton told viewers that she intends to have her cabinet reflect the demographics of America:Well, I am going to have a Cabinet that looks like America, and 50 percent of America is women. Whether it s in a vice president or members of a Cabinet or in the White House staff, I want as broad a set of experiences that I can possibly draw together, because I m someone who likes to listen to people who come at problems from different perspectives.While Donald Trump accuses her of playing the  woman card,  Clinton is setting in motion a push to make women more equally represented in American society, something Trump would never consider.Should Clinton win, she not only is responsible for her cabinet, but also her appointments to the Supreme Court, which could produce two vacancies in the next four years.But it s this particular election that could be a driving force for women in Congress. Democrats have the opportunity to get out and elect women, from California to Maryland, from New York to Florida.If women are fifty percent of our population, then they deserve equal representation at every level, and Clinton seems to definitely be on board with making sure that happens if she were to become president.Featured image via Justin Sullivan/Getty Images,\n",
       " Shame on Teen Vogue! Maxine Waters was a guest of Teen Vogue and was interviewed about why she s calling on young teens to resist our president. This sick behavior by a grown woman smells like sedition. Just read the answer to the question below:Teen Vote asked: What advice would you give to burgeoning young activists who want to help the #resist movement and create effective political change? What can citizens do you help you as a congresswoman achieve change?MW: There are several things that can be done. I love that they dominate social media, and the way that they can communicate with people [by sharing] what I m doing and retweet what I m doing. Every time they bring another person in to listen and to read about what is going on, we gain another supporter, who not only can continue to speak up and convince other people that we have to bring down this president, but now I know they will become voters and that they re going to vote because they have investments in this political process. WE HAVE TO BRING DOWN THIS PRESIDENT Congresswoman Maxine Waters is desperate to  Impeach 45,  and she s pleading with teenagers to follow her example and push her political agenda in church, and everywhere else.Waters led a chant of  Impeach 45    her rally cry to unseat President Trump   at The Teen Vogue Summit in Los Angeles last weekend, before urging the mostly teenage female crowd to take on her cause and repeat her mantra everywhere they go. Impeach 45! That s right,  Waters said.  Let s sing that song all over this country wherever we are. Let s talk about it in the workplace, let s talk about it in our churches, let s talk about it with organized labor, let s get people coming to the forefront. Waters, 79, apparently believes that a mob of young girls, many not old enough to vote, chanting  Impeach 45!  will convince Republican lawmakers to reverse course on a plan to lower taxes for Americans, and to remove a president from their own party.So far, Waters  calls for her colleagues in Congress to impeach Trump have fallen on deaf ears. Lawmakers voted 364-58 against a resolution to consider the move this week, Fox News reports.Read more: American Mirror,\n",
       " Former White House Press Secretary in the Obama administration Jay Carney is sure he knows who the president wants for his successor: Hillary Clinton. President Obama has yet to hand out any official endorsements during this primary season, but, of course, like all major political players, he has his favorite. Carney is sure that person is Hillary. He said to Brooke Baldwin on CNN: I don t think there is any doubt that he wants Hillary to win the nomination and believes that she would be the best candidate in the fall and the most effective as president in carrying forward what he s achieved. I think the President has signaled, while still remaining neutral, that he supports Secretary Clinton s candidacy and would prefer to see her as the nominee. He won t officially embrace her unless and until it s clear that she s going to be the nominee. I think he is maintaining that tradition of not intervening in a party primary. Smartly, the president is refusing to comment on what Jay Carney has said. However, he s done all but given an official nod to Hillary as the primary race heats up. President Obama will likely give the nod to whomever gets the nomination, as we all want a Democrat in the White House. However, he wants Hillary to be that person. That much is pretty clear.It s hard for anybody to speak for President Obama, of course, but his former Secretary of State seems to be his pick. Hopefully, we find out for sure in short order, but it s pretty smart for a sitting president not to endorse one of his party s candidates over the other while waiting to see who actually gets the nomination, especially in a close, neck-in-neck race. He must be pretty antsy, though, being unable to endorse right away.No worries, Mr. President. The primaries will be over soon, and you can speak your piece then.Featured image via screen capture from Flickr,\n",
       " With Donald Trump s intensely bizarre and crazy tweetstorm Saturday morning, it left Twitter buzzing with a general sense of  wtf  and jokes regarding how unhinged the *president appears to be.One person who couldn t let this moment go by without thoroughly making fun of it is none other than the legendary author Stephen King.King took to Twitter with a string of tweets that brutally trolled Trump and he may still not yet be done. Let s face it, Trump s tweets Saturday morning deserve all the mockery they can get.King tweeted out: Not only did Obama tap Trump s phones, he stole the strawberry ice cream out of the mess locker. Obama tapped Trump s phones IN PERSON! Went in wearing a Con Ed coverall. Michelle stood guard while O spliced the lines. SAD! Trump should know OBAMA NEVER LEFT THE WHITE HOUSE! He s in the closet! HE HAS SCISSORS!  Not only did Obama tap Trump's phones, he stole the strawberry ice cream out of the mess locker.  Stephen King (@StephenKing) March 4, 2017Obama tapped Trump's phones IN PERSON! Went in wearing a Con Ed coverall. Michelle stood guard while O spliced the lines. SAD!  Stephen King (@StephenKing) March 4, 2017Trump should know OBAMA NEVER LEFT THE WHITE HOUSE! He's in the closet! HE HAS SCISSORS!  Stephen King (@StephenKing) March 4, 2017King is clearly making fun of Trump s apparent paranoia. Paranoia that may be because the man is likely guilty of colluding with Russia to help him win the election. The fact that there may have been an order to tap into his lines shows that there was a just reason to do so.Well played, King.Featured Photo by Larry French/Getty Images,\n",
       "  The shrill, old socialist  Carla Marx wannabe  who got less than 1% of the vote nationally, has requested an election recount in the Michigan even though Trump officially won that by 10,704 votes. She s also pushing for, and suing for a recount in Pennsylvania and Wisconsin. So let s take a look at the totals to fully understand how ridiculous this is. ,\n",
       "  After the Obama years of record food stamp usage, President Trump is pushing new initiatives to get people off of the government dole. The number was higher than 39.5 million (all-time high of 47.6 million in 2015) but you see the explosion with the graph below:  The fraud in the food stamp program is so rampant and easy to commit, we ve become a global magnet for grifters who immigrate and set up shop to cash in on money for food stamps. This program is ripe for reform but what s most disturbing is the very lenient penalty for the crime of food stamp fraud. The fraudsters are usually given a very light jail sentence and ordered to pay back the money. The problem is that the money has probably gone overseas and will NEVER be paid back. These grifters fade into the woodwork only to resurface when they reoffend. THE TOP 5 FOOD STAMP FRAUD CASES FROM 2017:  After the Obama years of record food stamp usage, President Trump is pushing new initiatives to get people off of the government dole. The number was higher than 39.5 million (all-time high of 47.6 million in 2015) but you see the explosion with the graph below:The fraud in the food stamp program is so rampant and easy to commit, we ve become a global magnet for grifters who immigrate and set up shop to cash in on money for food stamps.This program is ripe for reform but what s most disturbing is the very lenient penalty for the crime of food stamp fraud. The fraudsters are usually given a very light jail sentence and ordered to pay back the money. The problem is that the money has probably gone overseas and will NEVER be paid back. These grifters fade into the woodwork only to resurface when they reoffend.THE TOP 5 FOOD STAMP FRAUD CASES FROM 2017:The food stamp program is a federally-funded program administered by the U.S. Department of Agriculture (USDA), and federal investigators are most often the ones who catch those engaged in fraudulent activities..Investigators often uncover millions of dollars worth of food stamp fraud, mostly from people who run convenience stores in low-income areas where many patrons receive food stamps through the Supplemental Nutrition Assistance Program (SNAP).To show how many millions of dollars these criminals have taken away from the federal government, here are the 5 biggest takedowns of food stamp fraud of 2017.IMMIGRANT FRAUD IS THE COMMON THREAD!1. Ohio Convenience Store Owner Sentenced to 33 Months in Prison for $2.8 Million in Food Stamp FraudA former Ohio convenience store owner got caught carrying out a $2.8 million food stamp fraud scheme where he allowed benefit recipients to exchange their food stamps for cash.The USDA revealed in an audit that the store, Breaden Market, cashed in on SNAP benefits more than ten times the amount of larger stores in the area, raising red flags among investigators.A judge eventually convicted and sentenced George Rafidi, 62, to 33 months in prison in February and ordered him to pay that $2.8 million back.2. Florida Investigators Discover More than $20 Million in Food Stamp FraudThe agency said it uncovered the majority of fraud when paging through SNAP benefit applications stating fraudulent household information.3. Baltimore Man Sentenced to Four Years for $3.7 Million Food Stamp FraudA Baltimore store owner got slapped with a four-year prison sentence for carrying out $3.7 million worth of food stamp fraud.Mohammad Shafiq, 51, was one of 14 other Baltimore-area retailers sentenced for $16 million worth of food stamp fraud, where they exchanged SNAP benefits for cash.The judge ordered Shafiq to pay back that $3.7 million to the federal government and serve three years of supervised release following the end of his sentence.4. Three Wisconsin Men Who Carried Out $1.2 Million Food Stamp Fraud Sentenced to Hard TimeA judge sentenced three Milwaukee, Wisconsin, convenience store owners Kanwar Gill, 67, Raviinder Gill, 27, and George Nance, 59 to prison terms ranging from 15-20 months in October after the three had been found guilty of exchanging cash for SNAP benefits.Their store, Quick N EZ, had been an authorized retailer that accepts food stamp benefits, but the $1.2 million in benefits the store redeemed was far beyond the amount the small convenience store was expected to redeem.Records show that all three men had been ordered to pay back the $1.2 million in fraudulently earned money. An Iraqi immigrant pleaded guilty to $1.4 million in food stamp fraud in November for conspiring with others to defraud the U.S. government.Ali Ratib Daham, 40, of Maine, gave customers cash in exchange for SNAP and Women, Infant, and Children (WIC) program benefits. He then redeemed the full value of the benefits to obtain more money from the government fraudulently.The naturalized U.S. citizen is expected to face a harsh prison sentence for his crime he faces up to 20 years behind bars and will most likely be expected to pay back the $1.4 million to the government.Via: Breitbart,\n",
       " Hillary Clinton says that we re  stronger together,  but even she can t deny Donald Trump is taller.The Democratic nominee, who is 5-foot-4, has apparently enlisted the help of a raised podium for the first presidential debate against Donald Trump, who is 6-foot-3, Monday night, photos of the two podiums show.According to WABC s Rita Cosby, one of the two podiums inside the debate hall at Hofstra University, in Hempstead, N.Y., is larger than the other.It is believed that the larger one was built at Clinton s request to make her appear taller than she is.Two students standing in to practice for tonight s debate.Trump, Clinton tied nationally and in swing-states: polls  Clinton is 5 4  and Trump 6 2  and her team wanted the podium modified or a box added so she won t look short next to Trump,  Cosby said in an email.A photograph taken by WABC s Rita Cosby shows the two podiums Hillary Clinton and Donald Trump will use at Monday night s debate at Hofstra University. A photograph taken by WABC s Rita Cosby shows the two podiums Hillary Clinton and Donald Trump will use at Monday night s debate at Hofstra University. (WABC RADIO HOST RITA COSBY)  One is clearly larger   than the other,  Cosby said.Photos taken by Cosby appear to show two podiums of two different sizes.The Clinton campaign did not immediately respond to questions about whether the Democratic nominee would be using a raised podium at Monday night s debate. The Commission on Presidential Debates, which organizes the debates, did not respond to questions either.Trump campaign manager: GOP nominee is  Babe Ruth of debating  However, multiple outlets had reported last week that the Clinton campaign had asked the CPD if the Democratic nominee could use a raised podium to avoid appearing 10 inches shorter than Trump.Via: NYDN,\n",
       " Tune in to the Alternate Current Radio Network (ACR) for another LIVE broadcast of  The Boiler Room  starting at 6:00 PM PST | 8:00 PM CST | 9:00 PM EST for this special broadcast. Join us for uncensored, uninterruptible talk radio, custom-made for barfly philosophers, misguided moralists, masochists, street corner evangelists, media-maniacs, savants, political animals and otherwise lovable rascals.Join ACR hosts Hesher and Spore along with Jay Dyer (author of Esoteric Hollywood) and Jamie Hanshaw, host of Happy Hearts Radio for the 88th episode of BOILER ROOM. Water the plants, put the kids to bed and get your favorite snuggy out so you can drop deep into the Boiler Room with the ACR brain-trust.Caller line was open for BOILER ROOM EP #88:Please like and share the program and visit our donate page to get involved!BOILER ROOM IS NOT A POLICTALLY CORRECT ZONE!  LISTEN TO THE SHOW IN THE PLAYER BELOW   ENJOY! Listen to  Boiler Room #87   Behold: The New Ministry of Truth  on Spreaker.Reference Links:,\n",
       " The Republican-controlled southern states have done very little in recent years to scale back the impact of America s history of racism, from stubbornly supporting the Confederate flag on government property to retorting  All Lives Matter  to the Black Lives Matter movement, as well as dismissing all concerns posed by institutional, systemic, and overt racism prevalent throughout the country.In Sumter County, Alabama, a quarter of the county s children are white, but not a single one of them attends a public school. A report by Dan Carsen of a local NPR affiliate on the county s school district shows the schools are in terrible shape due to neglect and lack of funding precipitated by school segregation. They live in this county, but they will not send their children to the schools in this county,  Sumter School County Board Member Julene Delaine told Dan Carsen in an interview.  Instead, many white families send their kids to a local private academy or outside the area.  We shop in the same place. We eat at the same restaurant. So why can t our kids go to school together? Carsen also reported that while other states provide extra funding to low income school districts, Alabama does not. The state also refuses to increase taxes to compensate for the needed income. Alabama s Republican Governor, Robert Bentley, has gained a notorious reputation for corruption and abuse. He has recently been accused of having an affair with a political aide, increasing pay of his staff substantially despite the state s budget concerns after he blocked a minimum wage increase in the city of Birmingham, and is using over $1 million in taxpayer money to remodel a second Governor s mansion.In contrast to Sumter County s public schools, not a single person of color can be found in photos of Sumter County s  private school, Sumter Academy. The school s website also touts that it is a Christian based learning environment. Under the veil of emphasizing privatization over government ownership and regulation, the Christian Right has been able to succeed in inoculating themselves from having to adhere to federal laws protecting the rights of black people and other marginalized groups.Featured image courtesy of Flickr,\n",
       " The popular Christian author Eric Metaxas really puts things in perspective when he explains why sitting home in this election is not an option This question should hardly require an essay, but let s face it: We re living in strange times. America is in trouble.Over this past year many of Donald Trump s comments have made me almost literally hopping mad. The hot-mic comments from 2005 are especially horrifying. Can there be any question we should denounce them with flailing arms and screeching volume? I must not hang out in the right locker rooms, because if anyone I know said such things I might assault him physically (and repent later). So yes, many see these comments as a deal breaker.But we have a very knotty and larger problem. What if the other candidate also has deal breakers? Even a whole deplorable basketful? Suddenly things become horribly awkward. Would God want me simply not to vote? Is that a serious option?What if not pulling the lever for Mr. Trump effectively means electing someone who has actively enabled sexual predation in her husband before and while he was president? Won t God hold me responsible for that? What if she defended a man who raped a 12-year-old and in recalling the case laughed about getting away with it? Will I be excused from letting this person become president? What if she used her position as secretary of state to funnel hundreds of millions into her own foundation, much of it from nations that treat women and gay people worse than dogs? Since these things are true, can I escape responsibility for them by simply not voting?Many say they won t vote because choosing the lesser of two evils is still choosing evil. But this is sophistry. Neither candidate is pure evil. They are human beings. We cannot escape the uncomfortable obligation to soberly choose between them. Not voting or voting for a third candidate who cannot win is a rationalization designed more than anything to assuage our consciences. Yet people in America and abroad depend on voters to make this very difficult choice.Children in the Middle East are forced to watch their fathers drowned in cages by ISIS. Kids in inner-city America are condemned to lives of poverty, hopelessness and increasing violence. Shall we sit on our hands and simply trust  the least of these  to God, as though that were our only option? Don t we have an obligation to them?For many of us, this is very painful, pulling the lever for someone many think odious. But please consider this: A vote for Donald Trump is not necessarily a vote for Donald Trump himself. It is a vote for those who will be affected by the results of this election. Not to vote is to vote. God will not hold us guiltless.For entire article: WSJMr. Metaxas, host of the nationally syndicated  Eric Metaxas Show,  is the author of  If You Can Keep It: The Forgotten Promise of American Liberty  (Viking, 2016).,\n",
       " Tune in to the Alternate Current Radio Network (ACR) for another LIVE broadcast of  The Boiler Room tonight 6:00 PM PST | 8:00 PM CST | 9:00 PM EST for this special broadcast. Join us for uncensored, uninterruptible talk radio, custom-made for bar fly philosophers, misguided moralists, masochists, street corner evangelists, media-maniacs, savants, political animals and otherwise lovable rascals.Join ACR hosts Hesher and Spore along with Jay Dyer of Jays Analysis, Patrick Henningsen of 21WIRE, Infidel Pharaoh (ACR contributor) and Andy Nowicki, author of Conspiracy, Compliance, Control & Defiance, for the hundred and fourth episode of BOILER ROOM. Turn it up, tune in and hang with the ACR Brain-Trust for this weeks boil downs and analysis and the usual gnashing of the teeth of the political animals in the social reject club. We re breaking down the developments in Syria and the Trump approval of military strikes in Syria.Listen to  Boiler Room EP #104   War Sells  But Who s Buying  on Spreaker.Direct Download Episode #104Please like and share the program and visit our donate page to get involved!Reference Links:,\n",
       " O Connor found that the plaintiffs had standing to bring the lawsuit because they  have presented concrete evidence to support their fears that they will be subject to enforcement under the Rule. WASHINGTON   A federal judge in Texas on Saturday issued a nationwide injunction halting enforcement of Obama administration protections for transgender and abortion-related healthcare services just one day before they were due to go into effect. The lawsuit   brought by Texas, a handful of other states, and some religiously affiliated nonprofit medical groups   challenges a regulation implementing the sex nondiscrimination requirement found in the Affordable Care Act (ACA). The Health and Human Services (HHS) regulation  forbids discriminating on the basis of  gender identity  and  termination of pregnancy  under Obamacare, as US District Court Judge Reed O Connor wrote in his opinion halting enforcement of those provisions in the rule.Specifically, the ACA provision   Section 1557   prohibits discrimination in federally-funded health benefits, including based on sex. Over the course of 2015 and this year, HHS proposed and finalized a regulation interpreting the definition of  sex  in that provisions to include  gender identity    defined as  internal sense of gender, which may be male, female, neither, or a combination of male and female    as well as  sex stereotyping  and  termination of pregnancy. Explaining the lawsuit, O Connor wrote,  Plaintiffs claim the Rule s interpretation of sex discrimination pressures doctors to deliver healthcare in a manner that violates their religious freedom and thwarts their independent medical judgment and will require burdensome changes to their health insurance plans on January 1, 2017.  The states and nonprofits in the healthcare lawsuit allege that the regulation violates the Administrative Procedure Act (APA)   which sets the rules for federal government rule-making   and the Religious Freedom Restoration Act (RFRA). O Connor found that the plaintiffs had standing to bring the lawsuit because they  have presented concrete evidence to support their fears that they will be subject to enforcement under the Rule.  The White House defended the administration s policies on Saturday night.Read more: Buzzfeed,\n",
       " This is what it looks like when the  tolerant  Left uses violence to promote their phony  tolerance  for others .A loser in the Seattle Seahawks t-shirt really hates Donald Trump. Because he s too stupid to verbalize his position and too cowardly to take on anyone his own size or gender, he decided to express his displeasure with the GOP frontrunner by pepper spraying some women and children at a Pro-Trump rally.Here s the deal: Anaheim, CA city councilwoman Kris Murray introduced a resolution denouncing Donald Trump, which reads in part,  the divisive rhetoric of presidential candidate Donald Trump as contrary to the fundamental principles of the constitutions of California and the United States and as not reflecting Anaheim s guiding principles of inclusiveness and kindness. The LA Daily News reports that more than 50 pro-Trump supporters showed up at the Anaheim City Hall to protest this ridiculous resolution on Tuesday. As you know, wherever there are Trump supporters, there are anti-Trump agitators looking to start a violent confrontation. There s no word on the anti-Trump numbers, but there were enough to be noticed. The news notes that most of these anti-Trump forces were angry young men.As the anti-Trump thugs were yelling at the pro-Trump supporters, one asshole decided to attack a group of women and children, including a 53-year-old grandmother. All I remember is a young man jumped on one of my friends and I told him to get off. Then I got pepper sprayed,  said Linda Reedy.That pepper spray was wielded by the Latino in the Seahawks shirt. Not only did he hit Reedy but also her two young grandchildren and another woman.Paramedics were seen pouring water on their eyes to try and remove the stinging spray. A young girl about 8 years old cried hysterically.It would appear as if someone, possibly Seahawks guy, also punched Reedy in the face as paramedics gave her an icepack for an unspecified facial injury.To recap: one guy attacked a woman and then the Latino pepper sprayed her, a grandmother, and two young children all because they support Donald Trump. If there are a bigger couple of pussies I d like to know who they are because these guys have the #1 and #2 spots locked up in my opinion.Despite the fact that the news was able to capture a very clear picture of the chickenshit pepper sprayer, the dozens of police on the scene were unable to identify or arrest him. No seriously, there were a dozen cops in riot gear, plus many more guarding City Hall, as well as police helicopters overhead and they couldn t apprehend this coward?Let s remember that the reason why everyone was at Anaheim City Hall was because some uppity leftist councilwoman was denouncing Trump for being intolerant. Somehow I think attacking and pepper spraying old women and young children for their beliefs is a million times less tolerant than anything Donald Trump has ever said. Will Anaheim also denounce this Latino asshole and his cohort for what they did? I doubt it.A better question is: will the national media report this assault with the same vigor that they do any time a disruptive idiot gets thrown out of a Trump rally? Again, I doubt it. The official media narrative is that Donald Trump supporters are the violent ones and anti-Trump protesters are peaceful victims of their hate.Via: DownTrend,\n",
       " For more than 30 years, Donald Trump has built himself up as being a great negotiator and a great leader. Unfortunately, as Special Investigator Robert Mueller is likely to prove soon, Trump is the emperor with no clothes. He wields almost no power, even as president. He is 100 percent on the pocket of Russian President Vladimir Putin and if you aren t convinced yet, this should do it for you.Putin is punishing the United States for the sanctions against him by cutting 755 embassy workers. Instead of retaliating (as he would with pretty much anyone from Rosie O Donnell to Kim Jong Un), Trump instead thanked Putin.A week ago, Congress voted nearly unanimously to send Russia a message by passing a bill enacting strict sanctions against them. The sanctions are about the country s interference in our 2016 election and for its brutal aggression against the Ukraine and Syria and they hit Putin where it hurts.The Russian sanctions will target people and entities that:   undermine US cybersecurity on behalf of the Russia government   invest certain amounts in Russia s energy export pipelines   conduct  significant  transactions with Russian defense and intelligence agencies (though this will come into effect six months from now)   commit, or assist in, serious human rights abuses   commit acts of  significant  corruption   provide support to the Syrian government to acquire arms   invest, or facilitate the investment of, $10 million or more in the Russian government s privatization of any state-owned asset in a one-year period that could unfairly benefit government officials or their associates.Source: CNNIn other words, the sanctions directly target the people who are holding and even laundering Putin s money.Sanctions were also handed to North Korea and Iran.Russia s hands are somewhat publicly tied, but after expelling 755 diplomats, Trump s reaction was beyond strange. He looked up mid-felatio and thanked the dictator. I want to thank him because we re trying to cut down our payroll   I m very thankful that he let go of a large number of people because now we have a smaller payroll,  Trump told reporters Thursday at his New Jersey golf club.Source: CNBCEven that is a lie. The diplomats aren t being fired from the government   they re just being relocated.Read more:Featured image via Handout/Getty Images,\n",
       " Using state employees to fill a room for political purposes is called  astroturfing . Cuomo wanted it to look like people were actually interested in the global warming scam and an appearance by grifter Al Gore. Taxpayer dollars are the REAL issue here! Cuomo thought nothing of wasting taxpayer dollars to give the state employees the day off so they d fill a room ridiculous! Gov. Cuomo wasn t taking any chances that there might be empty seats at a speech he delivered last week on climate change   so state workers were summoned on the taxpayer dime to fill the audience, The Post has learned.The workers said they left their jobs in the middle of the day Thursday and were paid their full salaries to hear Cuomo at Columbia University announce the state was joining a global effort to reduce greenhouse-gas emissions.  I d rather be at the park,  said one of the workers, who is employed by the state s Office of Parks, Recreation and Historic Preservation and who has no connection to climate issues. He explained that he went because his boss  asked me to make some time available in my schedule.  The worker confessed that he didn t know what the event was about before he agreed to go. He said attendance is not required, but is viewed favorably, and that the practice is common throughout state government to support Cuomo.  They often ask,  he said, referring to supervisors.  We get e-mails, and they ll ask us if we want to go.  The worker said he would not have volunteered if he were not getting paid his regular salary.  It better be on the clock,  he said. The 2:30 p.m. event, which lasted about an hour and included speeches from former Vice President Al Gore as well as Columbia s President Lee Bollinger, focused on Cuomo s plan to have state agencies work with other states and cities worldwide to reduce carbon emissions. A state Department of Health worker told The Post that supervisors offered employees the  option of attending the event  instead of working.  If they watched Cuomo, they could go home afterward instead of returning to work, the employee said. He called the practice  AstroTurfing    an attempt to fabricate grass-roots support.  Public employees take an oath that they won t use their position for their personal advantage,  the employee said.  How can you expect any state workers to take it seriously when the boss isn t leading by example?  Good-government advocates questioned why state workers were being paid to attend an event designed to bolster an elected official s credentials.  It s a questionable use of state resources,  said Dick Dadey, executive director of Citizens Union.Read more: NYP,\n",
       " Proving that they really don t want anything to do with improving relations with local law enforcement. This hateful and divisive movement is about reparations and getting special privileges. The Oakland Police Department (OPD) extended an invitation to followers of the Black Lives Matter movement to participate in a barbecue to start a constructive dialogue between the two groups. However, the police were met with flat-out rejection by a spokesperson who referred to law enforcement as  pigs.   A BBQ is definitely not going to stop this blockade,  Karissa Lewis, a self-described  radical black farmer from East Oakland,  told local Fox affiliate KTVU.  And as a radical-black farmer from East Oakland, I eat pigs, I don t eat with them,  she said.According to KTVU, Lewis used the  mic-check call and response technique,  which was popularized at many of the Occupy protests, in order to rally support for her response from fellow protesters, who also rejected the offer. KTVU notes that  many of the activists, at least at this one protest, seemed to be in agreement with her about the offer.  Via: Breitbart News,\n",
       " Could someone please explain this? I honestly don t think it s any accident.I stumbled onto this video via BadBlue, which linked to a site called Hyscience. At first I thought it was a joke. But the video is posted on the official AARP YouTube channel.In order for me to hear the not-so subliminal message on the radio playing in the background, I had to turn the volume all the way up and use headphones. But this is what I hear:  Riots nationwide have prompted local governments to declare martial law. The president is asking that citizens find safety and remain calm. Authorities are working their hardest to contain the outbreak. It really does make one ask, what the hell? Of all the messages that could be playing on a radio in an AARP ad, why this one?Via: The Right Planet,\n",
       " Tune in to the Alternate Current Radio Network (ACR) for another LIVE broadcast of  The Boiler Room tonight 6:00 PM PST | 8:00 PM CST | 9:00 PM EST for this special broadcast. Join us for uncensored, uninterruptible talk radio, custom-made for bar fly philosophers, misguided moralists, masochists, street corner evangelists, media-maniacs, savants, political animals and otherwise lovable rascals.Join ACR hosts Hesher and Spore along with Funk Soul, Stewart Howe (ACR/21WIRE contributor) and Andy Nowicki, author of Conspiracy, Compliance, Control & Defiance, for the hundred and second episode of BOILER ROOM. Turn it up, tune in and hang with the ACR Brain-Trust for this weeks boil downs and analysis on the London terror events, proof that the sad failure of identity politics that can and does lead young people to an early death, the voracity of Dr. Phil s alleged expos  on systemic pedophile rings in the circles of powerful elites and the usual gnashing of the teeth of the political animals in the social reject club.Listen to  Boiler Room #102   Tales From The Black Pill  on Spreaker.Direct Download Episode #102Please like and share the program and visit our donate page to get involved!Reference Links:,\n",
       " In a speech on Monday, Donald Trump proposed an absurd  idealogical test to gauge the  American values  of immigrants seeking to become naturalized citizens of the United States. Khizr Khan and Senate Minority Leader Harry Reid are calling out the billionaire bigot and daring him to take the test himself   without failing.Khan made headlines when Trump attacked him after he spoke at the Democratic National Convention. Khan talked about his son, who gave his while serving with the U.S. military in Iraq, and asked if Trump had ever even read the Constitution before offering to lend him his copy. In response to Trump s proposed test for immigrants, Khan slammed his bigoted rhetoric and challenged the Republican nominee to take the test along with him.This is my country too. We must make it safe   as Muslim Americans it is our obligation to keep our country safe. We reject all violence. We support better immigration policies. We stand as a testament to assimilation and being part of patriotic America as anyone else.I challenge Trump to take the naturalization test with me any day. His is demagoguery and pandering for vote. A divider like Trump can never be the steward of this country.Reid also responded to Trump s naturalization test by daring him to step up and take the test himself. He said in no uncertain terms that he didn t have any reason to believe that Trump would be able to pass and  would almost certainly fail. Since Donald Trump wants to impose new tests on immigrants, he should take the one test every immigrant has to pass to become a United States citizen. He would almost certainly fail, given his general ignorance and weak grasp of basic facts about American history, principles and functioning of our government.The Senate minority leader added that  unlike immigrants, Donald Trump represents none of the qualities that make America great,  and then proceeded to list a multitude of ways in which immigrants do just that.Trump claimed that extreme, extreme vetting  is absolutely necessary to  screen out any who have hostile attitudes toward our country or its principles.  He insisted that this test would include questions to gain an understanding of an applicant s stances on gender equality, gay rights, religious freedom and the rule of American law. Anyone who fails the test would not be allowed to become a U.S. citizen and this will keep us all safe, because ISIS.Despite Trump s arguments otherwise, it was glaringly obvious that he wasn t trying to screen out just any immigrants and this was just another way he had come up with to keep Muslims out of the United States. Ironically, Trump and most of his followers would fail the test themselves.Featured image via Joe Raedle/Getty Images,\n",
       " Donald Trump is again under fire from allegations of misbehavior on the topic of sexual conduct on the set of his reality show, The Apprentice. Trump has increasingly been criticized for his actions with women, as they have come forward one-by-one making claims that the Republican presidential nominee forced himself on them.The latest claim, uncovered by The Daily Beast, involves Trump s failure to act.Oscar nominee Gary Busey allegedly sexually assaulted a female Apprentice employee during his time on the show, five Apprentice employees tell The Daily Beast. Donald Trump knew about the incident, laughed it off, and kept Busey on his TV series, these staffers said.Multiple Apprentice employees, including the alleged victim herself, told The Daily Beast that the Academy-Award-nominated actor  grabbed  one of their colleagues  firmly between [the] legs  during the 2011 season of Celebrity Apprentice. Busey also forcibly put the female staffer s hand on the crotch of his pants. The alleged incident, which they say took place during a location shoot in SoHo in New York City, prompted a firestorm among members of the Apprentice crew.The report comes as the Trump campaign has begun a public relations offensive featuring Trump s current wife, Melania. She appeared on several outlets and claimed that the women coming forward to accuse her husband were all lying. Melania Trump also claimed that the audio tape in which Trump joked about sexually assaulting women was simply a matter of the 59-year-old Trump acting like a  boy  and being egged on by Access Hollywood host Billy Bush.Newly released polls show that a majority of woman voters do not take such a charitable view of Trump s actions, and instead are overwhelmingly choosing Hillary Clinton as their candidate. Clinton is even winning a plurality of support with married women, previously a weak spot for Democratic candidates.Featured image via YouTube,\n",
       " The families of the four dead Americans you left behind beg to differ. Not that you care, but Benghazi was kind of a big story for the rest of America Hillary During a town hall meeting in Illinois on Monday Democrat Hillary Clinton said the United States  didn t lose a single person.  The remark was made in defense of the NATO invasion in 2011 following the adoption of United Nations Security Council Resolution 1973.Via: InfoWars,\n",
       " CNN s Allyson Camerota expressed her concern about how the tax breaks for Americans will harm the Democrats chances of winning in the mid-term elections with Michigan s Democrat Congresswoman Debbie Dingell.Camerota appeared somewhat panicked, as she started out her segment whining to Dingell about bonuses and pay raises that Americans will receive as a result of Trump s GOP tax bill:  Just, ever since the tax reform was announced, or the tax overhaul, or whatever you want to call it, there have been this whole slew of companies that have come forward and saying,  Guess what? We re going to give out bonuses, now, to our employees.  I mean, I have just a partial list in front of me, and there s nine companies on here from AT&T, to Boeing, to Comcast, Bank of America, Sinclair, Wells Fargo, PNC. There s all sorts of companies that say they re going to give something to a thousand dollars worth of bonuses to their hundreds of thousands of employees. Fifth Bank Corp is gonna boost the minimum wage to $15 per hour. Obviously, they could have done this before the tax overhaul was announced. They were sitting on profits. But they didn t, they did it when the tax overhaul was announced. And I m wondering if you, as a Democrat are you worried about the wind in their sails? People vote with their pocketbooks. I don t have to tell you this. So if you get a thousand dollar bonus, you re voting for Donald Trump again. Although Rep. Debbie Dingell (D-MI) voted against the tax cut bill, she smartly responded to Camerota s question by saying that she s  never going to complain that any working man or woman will get an extra boost in their, uh, income.  Dingell then told Camerota that at some point a lot of people are still going to see a tax increase at some point. Camerota interrupted her to say,  Years from now Years from now! Well after the mid-terms. So couldn t this carry Republicans through the mid-terms? RT @RealSaavedra: CNN \"journalist\" Allisyn Camerota frets over how many businesses are giving back to their employees as a result of the tax cuts and worries it may help GOP. #TheFive #Tucker #SpecialReport pic.twitter.com/xUHXHHJ8wk  Tosca Austen (@ToscaAusten) December 26, 2017Businesses and major corporations tweeted about bonuses and pay raises they would be giving their employees as a direct result of Trump s GOP tax reform bill that was passed without a single Democrat vote:Here is AT&T s full statement: Boening announced on Twitter that a $300M employee-related and charitable investment as a result of TaxReform legislation to support our heroes, our homes and our future:#Boeing announces $300M employee-related and charitable investment as a result of #TaxReform legislation to support our heroes, our homes and our future. pic.twitter.com/ZNawbAW7AY  The Boeing Company (@Boeing) December 20, 2017,\n",
       "  RTFormer congressman Ron Paul revealed a list of  fake news  journalists he claims are responsible for  bogus wars  and lies about Hillary Clinton s chances of winning the election. Journalists from CNN, the New York Times, and the Guardian are included. This list contains the culprits who told us that Iraq had weapons of mass destruction and lied us into multiple bogus wars, according to a report on his website, Ron Paul Liberty Report. Paul claims the list is sourced and  holds a lot more water than a list previously released by Melissa Zimdars, who is described on Paul s website as  a leftist feminist professor. REVEALED: The Real Fake News List https://t.co/1CkOSe25LU pic.twitter.com/lqb9Uze1pi  Ron Paul (@RonPaul) November 19, 2016@RonPaul @The_NewRight pic.twitter.com/HntdHZbnkm  Stavros (@ubipages) November 19, 2016 These are the news sources that told us  if you like your doctor, you can keep your doctor, he said.  They told us that Hillary Clinton had a 98% of winning the election. They tell us in a never-ending loop that  The economy is in great shape! Paul s list includes the full names of the  fake news  journalists as well as the publications they write for, with what appears to be hyperlinks to where the allegations are sourced from. In most cases, this is WikiLeaks, but none of the hyperlinks are working at present, leaving the exact sources of the list unknown.CNN is Paul s biggest alleged culprit, with nine entries, followed by the NY Times and MSNBC, with six each. The NY Times has recently come under fire from President-elect Donald Trump, who accuses them of being  totally wrong  on news regarding his transition team, while describing them as  failing. The failing @nytimes story is so totally wrong on transition. It is going so smoothly. Also, I have spoken to many foreign leaders.  Donald J. Trump (@realDonaldTrump) November 16, 2016The publication hit back, however, saying their business has increased since his election, with a surge in new subscriptions.CNN s Wolf Blitzer is also amongst those named on the list. In an email from the Democratic National Committee (DNC) released by WikiLeaks, the DNC staff discusses sending questions to CNN for an interview with Donald Trump.Also listed is NY Times journalist Maggie Haberman, whom leaked emails showed working closely with Clinton s campaign to present the Democratic candidate in a favorable light.READ MORE: New leak reveals extent of Clinton ties with US mediaSo-called  fake news  has been recently attacked by US President Barack Obama, who claimed that false news shared online may have played a role in Donald Trump s victory in the US presidential election.Facebook head Mark Zuckerberg has now said that the social media site may begin entrusting third parties with filtering the news.READ MORE: Zuckerberg hints at third-party news verification to fight  fake news  on FacebookREAD MORE ABOUT MSM FABRICATING NEWS AT: 21st Century Wire MSM Watch FilesShare on FacebookShare on Twitter,\n",
       " FBI director James Comey wanted to go public with information about Russia s interference in the 2016 election as early as last summer but was reportedly barred from doing so by the Obama administration.According to Newsweek sources, Comey presented a draft op-ed to top administration officials during a White House meeting in June or July. He had a draft of it or an outline,  the source said.  He held up a piece of paper in a meeting and said,  I want to go forward, what do people think of this? Former Secretary of State John Kerry, former Attorney General Loretta Lynch and ex national security adviser Susan Rice were among those in the meeting.Comey s idea was rejected because White House officials thought the message would have more impact coming from multiple agencies and not just him. An op-ed doesn t have the same stature, it comes from one person,  the source said.A second source told Newsweek the op-ed, which Comey would have likely sought to publish in the New York Times, contained the same information as the intelligence report made public on January 6 that said Russian President Vladimir Putin tried to influence the presidential election.Comey s op-ed was rejected around the same time he publicly revealed details about the investigation in Hillary Clinton s emails. The FBI director revealed before the House Intelligence Committee last week that the agency is investigating Russian meddling in the 2016 election.He told the Intelligence Committee the Russians were  very noisy  and  unusually loud  in their hacking of US Democratic party computers. It was almost as if they didn t care if we found out,  he added.Watch FBI Director Jame Comey confirm his investigation into alleged Russian interference in our elections: ,\n",
       " Bill O Reilly can always be trusted to be a total ass, especially when it comes to anything that runs counter to his myopic worldview. The Women s Marches, which took place all over the world and included three million women here at home, seem to be his latest target. In a conversation with Charles Krauthammer, O Reilly went completely off the rails and actually compared the marches to totalitarianism.As Krauthammer talked about the real people who showed up to the Women s March on Washington, he obviously touched a nerve with O Reilly, who thinks women don t do anything unless they re told to: Don t you feel they showed up because they were told to show up? If you look at the totalitarian governments in the 20th century- Krauthammer, despite having his own bizarre view of the marches, seemed incredulous. He tried to interrupt with,  You re told to show up? Who tells anybody to show up in this country? It s important to note that Krauthammer is not exactly the most liberal of pundits, yet O Reilly really floored him with this. Krauthammer did bring up a good point: When people do what they re told, it s because there will be negative consequences if they don t. O Reilly decided to try and explain what the consequences are, and he fell flat on his face: Well, they have to go   they don t have to go through a negative, they have to go to be with her brothers and sisters, and to show their solidarity and that they are good people and fight the fascist racists. I mean, it s a whip up, and if you study history, all the totalitarian regimes were fueled by whip-ups, okay? Really? It s not possible that anybody went because they had something to say? Nobody went because they were told to or because they were afraid of bad things should they not go. Women went because they had something to say.And if anybody s totalitarian here, it s the massive Cheeto living in the White House now. O Reilly is being just as stupid as ever with this and Krauthammer can t really believe it. Watch below:Featured image via screen capture,\n",
       " Time to exhale James Barack Obama supporter James Taylor doesn t just think the U.S. president is great   he believes Obama is the greatest of all-time. I ve been watching politics since (Dwight) Eisenhower and Adlai Stevenson, when dinosaurs roamed the Earth, and Obama is my favorite, favorite president,  Taylor said in an interview Wednesday.  I am just thankful for every day that he s in office. I am so proud that he represents my country and I think he represents me   I think he represents the America that I know. Taylor, 67, is a recipient of the National Medal of Arts. The pop icon performed  America the Beautiful  at Obama s second inauguration in 2013. I had a really tough time during the Cheney-Bush years, I did, and I had a hard time accepting that that administration represented me because I don t think they did,  Taylor said.The Rock and Roll Hall of Famer also called Obama s family  precious  and said he appreciates the U.S. leader because he s  sane  and  balanced. He promised to give us a health care system, it s a work in progress, but he has put us on a road to that,  Taylor said.  I m so grateful for what he s done for gay rights and for the emancipation of gay people. Particularly from my point of view, I think that was so overdue and so important, and so important for America to be ahead of the curve on this. Taylor criticized Congress in Obama s defense. I ve never seen a Congress that has been so obstructive and so contrary and so committed to doing anything that will foul up this administration. I just think it s an absolute scandal that he has had so little cooperation,  he said.  So anyway, you hit a nerve and I ll go on forever. But I ll just say it a third time: Every day that Barack Obama and Michelle Obama are in the White House is a day that I am thankful for. Obama isn t the only politician Taylor is supporting: The singer said he s on the Hillary Rodham Clinton train, too. And aside from the fact that she s a woman running, she s the right person.   The whole point   black or white, male or female, gay or straight, Christian, Jewish, Muslim, atheist   it doesn t matter what these other connections are,  he said.  Our country needs to come together and the question is,  Is this public servant someone who will bring us together?  And I think she is. Taylor will release a new album,  Before This World,  on June 16, and will perform a concert for SiriusXM at The Apollo in New York City on the same day. He will also launch a U.S. tour in July.Via: AP News,\n",
       " Hey, you remember the GOPer who is responsible for the amendment to Trumpcare that allows states to obtain waivers to the provision that requires insurers to charge customers the same regardless of pre-existing conditions? Well, in case you don t, his name is Tom MacArthur of New Jersey, and he s not very popular back home right now.The former health insurance executive was one of only two Republicans from his state to back Trump s signature deathcare legislation, even writing the amendment that allows insurers to bilk people with preexisting conditions out of more of their money than they will already be throwing at their increased premiums under the Republican plan.On Wednesday, MacArthur s constituents gathered to tear him a new orifice.MacArthur asked about pre-existing protection changes. Audience: \"If you have a pre-existing condition, stand up.\" Most audience on feet. pic.twitter.com/V4lhgGVX7q  Dan Diamond (@ddiamond) May 10, 2017One attendee in particular stood out when he gave an emotional explanation of why MacArthur and all who think like him are absolutely awful.Geoff Ginter is a certified medical assistant and both of his kids have pre-existing conditions. He also, for some reason, gets very angry when someone tries to kill his children:My wife was diagnosed with cancer when she was 40 years old. She beat it, but every day   every day   she lives with it. She thinks about it. Every pain, every new something going on somewhere, is it coming back? Is this cancer? Do I have it again? Is it gonna kill me this time? Is it gonna take me away from my children? Speaking of which: my children. Both have pre-existing conditions from birth. One cardiac, one thyroid. You have been the single greatest threat to my family in the entire world. You are the reason I stay up at night. You are the reason that I cannot sleep. What happens if I lose my job?He s right. As of now, not just MacArthur but the entire GOP from top to bottom is the  single greatest threat  to all our families. They are the reasons we stay up at night   because they represent the worst that humanity has to offer.Watch  it below, and try to figure out how MacArthur sleeps at night. We can t.Man angrily tells MacArthur: \"You have been the single greatest threat to my family.\" Says GOP bill was dead until MacArthur resurrected it. pic.twitter.com/U1O8vTwVBx  Dan Diamond (@ddiamond) May 11, 2017Featured image via screengrab,\n",
       " Obama promised to keep his SOTU speech short but he couldn t even keep that promise. For anyone who watched it, it went on and on It was full of fairy tales about pretty much everything. So what s new, right? Obama s been able to lie his way through his entire presidency so why not in his last SOTU speech. We think this list of lies by Joel Pollack of Breitbart News is pretty dead on:1.  We ve done all this while cutting our deficits by almost three-quarters. This is pure fiction. Obama has doubled the national debt, and it s not because he cut the deficit. Rather, he spent staggering amounts of money in his first months in office which he assigns, dishonestly, to the previous fiscal year, under George W. Bush. He  cut  (i.e. spent more gradually) from that spending, but only under protest, after Republicans took the House in 2010.2.  Anyone claiming that America s economy is in decline is peddling fiction. With that line, Obama took a shot at his would-be Democratic successors, as well as his Republican critics. But the truth is that despite the slow recovery the slowest since World War II labor force participation is the lowest it has been in decades. Wages are stagnant, household incomes still have not recovered from the recession, and young people see ableak future.3.  That s what the Affordable Care Act is all about. It s about filling the gaps in employer-based care so that when we lose a job, or go back to school, or start that new business, we ll still have coverage. That is a cruel joke, given that Obamacare canceled insurance coverage for millions of Americans who did not change jobs. It also raised deductibles and premiums so high that many insurance companies are leaving the Obama exchanges totally.4.  Food Stamp recipients didn t cause the financial crisis; recklessness on Wall Street did.  Actually, food stamp recipients, metaphorically speaking, were indirectly responsible as well as Wall Street sharks. Obama leaves out the government s role, under the Community Reinvestment Act, in pushing mortgages on people who could not afford them, and in backing the derivatives based on those mortgages that ultimately burst the whole bubble.5.  We ve protected an open internet . Obama s policy of Net Neutrality has turned Internet service providers into public utilities under an ancient regulatory regime. The result has been a sharp decline in broadband investment and a much less free and open system. In addition, the Obama administration is rushing to shift control of ICANN to the international community, which will ensure that the Internet is less free, and subject to overseas censorship.6.  Seven years ago, we made the single biggest investment in clean energy in our history. Here are the results.  It is laughable that Obama would claim his failed clean energy spending think Solyndra led to the fracking-fed energy boom we have enjoyed for the past several years, especially when the administration did all it could to stop oil and gas development. He also nixed the Keystone pipeline and started a plan to kill coal plants.7.  No nation dares to attack us or our allies because they know that s the path to ruin.  Of all the lies in Obama s speech, this was undoubtedly the worst, coming hours after Iran seized two U.S. Navy boats and ten sailors. Obama did not even mention those Americans in captivity at any point in his speech, declining the chance to reassure the nation that they would come home safely. It is an omission that will define this address in history.8.  As someone who begins every day with an intelligence briefing, I know this is a dangerous time.  Obama does not attend most of his daily intelligence briefings, preferring instead to read intelligence reports so he claims on his iPad, a stark contrast to the attentive approach of his predecessor. Late last year, even as Obama claimed that there was little risk from attack, radical Islamic terrorists carried out brutal attacks in Paris and in San Bernardino.9.  We are training, arming, and supporting forces who are steadily reclaiming territory in Iraq and Syria [from Islamic State].  The Obama administration s attempt to train and arm Syrian rebels has been a disaster. Belatedly, the administration has helped Kurdish peshmerga forces, and the Iraqi military has made gains lately, but Obama has not made a serious effort to defeat the Islamic State, and is even giving up on regime change in Syria.10.  Fifty years of isolating Cuba had failed to promote democracy, setting us back in Latin America.  And a year of appeasement has not promoted democracy, either. The Castros remain firmly in power, and we are not helping the opposition. Worse, the Cuban regime continues to arrest thousands of political dissidents, to cozy up to enemies like Iran and North Korea, and to carry out provocative acts such as stealing a U.S. Hellfire missile.Read more: Breitbart News,\n",
       " Trump has invited an interesting and powerful line-up up guests to accompany him to Mexico for his historic meeting with Mexico s President. Could this be a sign that Trump considering former NYC Mayor Rudy Giuliani for his Secretary of Homeland Security?LifeZette has confirmed that GOP presidential nominee Donald Trump will travel to Mexico on Wednesday to meet with Mexican President Enrique Pe a Nieto.Sources, that include Mexican officials involved in the planning of the visit, who spoke on the condition of anonymity, stated the meeting would cover a broad variety of topics ranging from trade to security to immigration and the contentious issue of border enforcement.It is expected that Trump advisor and former New York City Mayor Rudy Giuliani, RNC Chairman Reince Priebus and Alabama Sen. Jeff Sessions, along with high-ranking Mexican officials, will attend the meeting.The meeting will occur, despite concerns from both Mexican security services and the U.S. Secret Service.Officials expect the two leaders to make some statement following the meeting, but do not expect a full press conference.The trip is particularly historic for Trump in that no previous non-incumbent presidential nominee of a major party has ever travelled to Mexico as part of his campaign.The stakes for both Donald Trump and the Mexican president are high.For Nieto, the meeting represents a tremendous opportunity to offer Trump, the potential next President of the United States, an olive branch. Nieto has made negative comments about Trump in the past, including a suggestion Trump was like a fascist dictator. The meeting will offer Nieto the chance to clear the deck with the potential next leader of a nation on which his own is almost entirely economically reliant   and earn goodwill for himself and his country among Trump supporters.For Trump, the historic meeting comes at a time when the GOP nominee is ramping up a high-stakes bid to win over support from traditionally Democratic minority voters in the United States. Republican presidential nominees usually aren t bold enough to go into communities of color and take the case right to them, and compete for all ears and compete for all votes,  Trump campaign manager Kellyanne Conway said in an August 28 interview with ABC,  They ve been afraid to do that. So, Mr. Trump deserves credit for at least taking the case directly to the people. Trump surrogate Dr. Ben Carson laid out the key objectives Trump is pursuing in his outreach to minority communities. He wants to find out from a lot of different sources what people perceive the problems to be and what they perceive the solutions to be,  Carson said in an interview with Michel Martin on NPR.  He also wants to hear about things that have effectively moved people out of the position of dependency and put them on a ladder to success. Tying the ecomic message geared towards minority voters into the campaign s overall theme Carson said,  you cannot be great if you have large pockets of people who are failing. Here s a message from a Latino Trump supporter from Oakland, CA:Democrats keep minorities voting for them by simply pulling out the race card. #Getwoke #Staywoke #LatinosForTrump   pic.twitter.com/QNmQwPHO23  Oak-Town Unfiltered  (@hrtablaze) August 11, 2016A new report from Gallup indicates Trump s effort may be finding success with U.S.-born Hispanic voters.The analysis of found Hispanics who were born in the United States, those who constitute most of the Hispanic demographic s total voters, only find view Clinton more favorably than Trump by a 14-point margin. To put that in context, 2012 GOP nominee Mitt Romney lost the Hispanic vote by a whopping 44 percent.For entire story: Lifezette,\n",
       " Former First Lady Hillary Clinton doesn t tweet nearly as often as current national embarrassment Donald Trump, but hers are far more entertaining than The Donald s.With news circulating that the first of probably many indictments in the Russia investigation is being handed down Monday, Clinton seized upon the opportunity to point out that it was the anniversary of the  Comey letter,  which  was probably decisive  in placing our tiny-handed orange dotard in the office in the first place according to FiveThirtyEight  editor-in-chief Nate Silver. Oh is that today?  Clinton said, linking Silver s tweet.The article Silver links notes that the letter Comey sent to Congress telling them the FBI had learned of the existence of emails that appear to be pertinent to the investigation  into Clinton s private email server,  upended the news cycle and soon halved Clinton s lead in the polls, imperiling her position in the Electoral College. Republicans and the majority of the media shoved the letter in the American people s faces seemingly non-stop, sticking us with the useless egomaniacal danger to our country who, unlike his predecessor, is embroiled in a legitimate scandal that actually threatens the future of our nation, that we know and hate today.It s good to see that Clinton was able to keep her sense of humor through all of this. It s a good reminder to all of us that we need to occasionally step back and have a laugh at the almost unbelievably stupid situation we ve found ourselves in.Featured image via  Getty Images,\n",
       " The Media Research Center recently published a study showing that 91% of the coverage Donald Trump received during his campaign was considered negative or  hostile .Was it even necessary to prove that almost all of candidate Trump s media coverage was negative or  hostile  compared to Hillary Clinton s?  For the most part, the media mocked anyone who even suggested Hillary had a part in the Benghazi attack that took the lives of 4 innocent Americans. They ignored and even laughed at the brave victims who came forward and publicly accused Hillary of  enabling  her sexual predator husband, while referring to her as a  champion of women and girls . The media did everything in their power to push Hillary s email scandal to the bottom of the news pile, but were finally forced to address it when FBI Director James Comey came forward and announced his investigation into her unsecured email server that was being used for official State Department business.After several months of keeping a pretty low profile, Hillary is coming out with excuses about why she lost the election. The timing is a bit suspicious however after an inside account of Hillary s disastrous campaign was just released by an insider who wrote a tell-all book titled  Shattered  that offers a less than charitable view of the real Hillary Clinton.Watch Hillary in her latest video, as she hilariously blames the press for losing the election:Here s the second part of Hillary s appearance where she tells the crowd she was on her  way to victory  until FBI Director James Comey ruined it for her:Politico   In addition to receiving far more network coverage, the networks spent far more airtime focusing on the personal controversies involving Trump, such as his treatment of women, than controversies surrounding Clinton, such as her email practices or the Clinton Foundation.For the study, MRC analyzed all 588 evening news stories that either discussed or mentioned the presidential campaign on the ABC, CBS and NBC evening newscasts from July 29 through October 20 (including weekends). Of the total newscasts, the networks devoted 29 percent of their time to the campaign. The study did not include comments from the campaigns or candidates themselves, instead focusing on what the correspondents, anchors, expert commentators, and voters on the street said in order to try and hone in on any sort of slant from the networks.Though neither candidate was necessarily celebrated, Clinton largely just stayed out of the line of fire. Even when they were critical of Hillary Clinton   for concealing her pneumonia, for example, or mischaracterizing the FBI investigation of her e-mail server   network reporters always maintained a respectful tone in their coverage,  the study found.  This was not the case with Trump, who was slammed as embodying  the politics of fear,  or a  dangerous  and  vulgar   misogynistic bully  who had insulted vast swaths of the American electorate. It doesn t really surprise me, I think most people got the sense that this was a hostile place for Trump, the establishment media,  said Rich Noyes, director of research for the MRC.  I would say looking at the big picture, the Trump campaign and to a lesser extent Republicans in general wanted this to be a referendum on Obama   the Clinton campaign, the Democrats, once Trump was picked wanted this be a referendum on Donald Trump. Television news has for the past 12 weeks has been giving the Democrats the campaign they wanted. ,\n",
       " This guy just wants everyone dead.Pastor Steven Anderson of Faithful Word Baptist Church in Arizona just does not know how to shut his mouth.The day after the Orlando mass shooting, Anderson praised the 49 murders and called upon the government to execute all gay people across the nation.Just this past Sunday, Anderson repeated his call to execute gay people but added a call to purge any Christians who supports the LGBT community.And now Anderson is calling for reinstating the death penalty against anyone who is tried and convicted of committing adultery. Adultery is not a crime in the United States, but Anderson called for punishing those who commit it with death in a written manifesto on his blog last week. When someone says that homosexuality is worthy of death according to the Bible, people inevitably will bring up other sins that were also punishable by death in the Old Testament,  he wrote.  They think they are somehow catching us in hypocrisy, but the truth is, Bible believing Christians DO agree with those other Old Testament penalties as well we just need to realize that God s laws were the law of the land in those days. Today, adultery is not punishable by law in the United States, but it should be. Just as he did when he called for executing gay people, Anderson laid out his vision of a  righteous government,  presumably made up of conservative  Christians  who will shred the Constitution and replace it with the Bible, and said such a government would make adultery a capital crime worthy of arrest and death if convicted by what one can only imagine would be a kangaroo court. This, Anderson says, is the way he would prevent adultery and divorce.Yes, a righteous government would implement the death penalty for those tried and convicted of adultery. We all know normal people who have unfortunately committed this grievous sin, and of course we wouldn t want them to die for it. If we were to somehow vote in a law making adultery illegal, it would not be retroactive it would be the law going forward, and adultery rates would plummet and so would divorce rates. Think about it, though. Do you really think as many people commit adultery in societies where it is punishable by death? Of course not so you can relax about your Aunt Trudy who cheated on her husband thirty years ago. If Aunt Trudy had lived in a society that enforced the death penalty for adultery, chances are she would never have committed that sin in the first place.Indeed, other nations in the world do, in fact, punish adulterers with death. There s only one problem.As it turns out, punishing adultery by execution is something that occurs today mostly under Islamic law. Conservatives like Anderson would refer to this as  Sharia law.  And usually it overwhelmingly punishes women, especially women who have been raped.According to The Week,The UN has issued numerous calls to governments to repeal laws that criminalise adultery, arguing that they are predominantly used to discriminate against women.  Provisions in penal codes often do not treat women and men equally and establish harsher rules and sanctions for women,  writes human rights expert Frances Raday.Countries governed by Islamic law, including Saudi Arabia, Pakistan and Somalia, all strictly prohibit  zina , or  fornication outside marriage . Prosecutions are common and punishment can include fines, arbitrary detention, imprisonment, flogging and in extreme cases, the death penalty. Women are overwhelmingly targeted.Human rights organisations argue that in several Muslim nations, adultery laws are often used against women who have been raped. Under such legislation, the burden of proof is on the woman to provide evidence that she was raped, or be prosecuted for adultery.In short, what Anderson is proposing is a barbaric practice that is mostly practiced in countries that are governed by some form of Sharia law and is used primarily to punish women.Basically, he is calling for the United States to be governed by Christian Sharia law. You know, the same Sharia law that conservatives freak out about and pass laws against.Anderson concluded his  sermon  by claiming that the death penalty deters crime and shrugged at the notion that people don t want their loved ones executed just because they had an extramarital affair.In countries where adultery is still a capital crime, it s not an everyday occurrence and usually ends up in the news. Just as capital punishment is a strong deterrent against murder, it has the same effect on other crimes.Telling us that we would not want people we know and care about to be put to death is a straw man argument. We don t want our friends and family to be convicted of murder either, but they probably won t kill anyone, so we don t worry about it. When the children of Israel committed adultery, they knew the risk going in.However, it s worth noting that multiple studies by researchers have been UNABLE to prove that the death penalty is a deterrent to crimeThe bottom line is that is that Anderson is a maniac who wants to bathe America in blood in order to create what he considers the perfect Christian utopia. Millions upon millions of Americans would be murdered in this endeavor if Anderson had his way, and that is precisely why conservative  Christians  can never be allowed to have power in our government.Featured Image: Screenshot,\n",
       " TMZ caught up with Mavericks owner and Hillary supporter Mark Cuban yesterday to ask what he thought of President Donald J. Trump. Arizona citizens must be thrilled to hear billionaire Mark Cuban who has personal security surrounding him talk about how ridiculous Trump s efforts to secure our borders and keep our nation safe from foreigners who sneak in with actual refugees with a goal of doing harm to our nation.WATCH CUBAN S SOUR GRAPES INTERVIEW HERE:Well, that s not exactly what happened now is it Cuban?Here s what REALLY happened to the stock market after Trump s election: Market Watch   U.S. stocks rallied Wednesday, with the Dow industrials jumping 257 points, led by a surge in financial, health-care and industrial stocks, as investors bet on the infrastructure spending policy promised by President-elect Donald Trump.The Dow Jones Industrial Average DJIA, +1.40% gained as much as 316 points, briefly surpassing the all-time closing high set in August. The index closed 256.95 points, or 1.4%, higher at 18,589.69, its highest level since Aug. 18. Pfizer Inc. PFE, +7.07% and Caterpillar Inc CAT, +7.70% led the gains, rallying more than 7%.Way to go Cuban you just reminded us of how little you know about economics or choosing the right candidate for President Keep up the great work Mark. You re really helping out your brand. ,\n",
       " Just start asking questions and the Obama administration reverses course very interesting. The  validity of the claim  that prisoners don t like pork was called into question by Sen. Chuck Grassley and then the quick reversal on the prison pork ban. The Obama administration wouldn t be lying? Haha! Hummm The Obama administration did a rapid U-turn on its decision to remove pork products from federal prisons after a few questions from Iowa Sen. Chuck Grassley.The federal Bureau of Prisons  reversal of the Oct. 1 menu change comes just one week after its spokesman, Edmond Ross, said pork was the  lowest-rated  food among inmates. To corroborate the validity of the claim that prisoners indicated a lack of interest in pork products, I am requesting copies of the prisoner surveys and responses that were used to support the determination to no longer serve pork in federal prisons,  the Republican senator wrote to the agency on Thursday, the Washington Post reported.  Please provide any economic evaluations the Bureau of Prisons has relied on that detail the cost of pork as compared to beef, chicken, and non-meat products such as tofu and soy products. Pig products were back on the menu within hours of the letter s publication.Grassley also happens to be the chairman of the Senate Judiciary Committee, which oversees the federal prison system.Read more: WND,\n",
       " Donald Trump, despite having a face and hairline made for radio, is convinced that the way to run a government is to hold casting calls. He wants to choose cabinet nominees who look the part, rather than nominees who are qualified. Presentation is very important because you re representing America not only on the national stage but also the international stage, depending on the position,  said Trump transition spokesman Jason Miller.To lead the Pentagon, Trump chose a rugged combat general, whom he compares to a historic one. At the United Nations, his ambassador will be a poised and elegant Indian American with a compelling immigrant backstory. As secretary of state, Trump tapped a neophyte to international diplomacy, but one whose silvery hair and boardroom bearing project authority.Source: Washington PostFor some reason, die-hard conservatives are not at all bothered by this method of choosing the people who will be responsible for our health and safety. He likes people who present themselves very well, and he s very impressed when somebody has a background of being good on television because he thinks it s a very important medium for public policy,  said Chris Ruddy, chief executive of Newsmax Media and a longtime friend of Trump.  Don t forget, he s a showbiz guy. He was at the pinnacle of showbiz, and he thinks about showbiz. He sees this as a business that relates to the public. The look might not necessarily be somebody who should be on the cover of GQ magazine or Vanity Fair,  Ruddy said.  It s more about the look and the demeanor and the swagger. Trump allegedly chose Marine Gen. James Mattis as his nominee for Secretary of Defense because he is  the closest thing to General George Patton that we have.  That s in reference to a physical resemblance, not his abilities as a general. Trump also chose Mike Pence for his looks and teased that he was going to choose Mitt Romney for Secretary of State for his looks. If our Republican Congress gave a crap about the people they represent, they would shut down these  central casting  nominees from the start, but this style of hiring fits right in with the Republican agenda, which is to take the government down from the inside.Featured image via Ty Wright/Getty Images,\n",
       " Dividing America will be Obama s legacy. Hillary continues to prove that she is committed to keeping his legacy of hate and division alive. What Hillary doesn t get is that the majority of Americans are not buying into Obama s divisive legacy that pits gays against straight people, Blacks against Whites, everyone against Christians and so on The reason Donald J.Trump is so popular, is that he conveys a feeling of love for our country and gives Americans the sense that he cares passionately about putting an end to the manufactured division and hate that Obama has spent the last 8 years creating.You may get a lot of retweets and likes from paid trolls and social justice warriors on Twitter Hillary, but your message of division is not going to play well at the polls with the general public who are 100% FED UP with divisive politics on November 8th Keith Lamont Scott. Terence Crutcher. Too many others. This has got to end. -H  Hillary Clinton (@HillaryClinton) September 21, 2016,\n",
       " The Washington Post has been pushing the Russia story for months but do they really believe their own bullsh*t?They were just caught on undercover video saying they really haven t found anything on President Trump Adam Entous of The Washington Post spoke the truth about how the reporters are pushing the Russia story even though it s a nothingburger:  But we really haven t addressed  Our reporting has not taken us to a place where I would be able to say with any confidence that the result of it is going to be the president being guilty of being in cahoots with the Russians. There s no evidence of that that I ve seen so far. We ve seen a lot of flirtation, if you will, between them but nothing that, in my opinion, would rank as actual collusion. Now that doesn t mean that it doesn t exist, it just means we haven t found it yet. Or maybe it doesn t exist. Frankly, it s a shame that these people keep up this charade. A  crap shoot ? Why in the world are they pushing this non-story except to defame Trump with lies or are they getting paid under the table to smear POTUS? Maybe both?OUR PREVIOUS REPORT ON THE NEW YORK TIMES EXPOSED BY PROJECT VERITAS:Project Veritas  latest installment in the American Pravda series takes aim at The New York Times, the supposed  paper of record.  In the first part of this series, Nicholas Dudich, Audience Strategy Editor for the Times  extensive video library speaks candidly about how his left political bias influences his editorial judgement and reveals an unusual connection to former FBI Director James Comey, and a strange association with domestic terror group Antifa.Since this video came out, the New York Times released a statement saying they ve launched an investigation:This should have been done when hiring this former antifa thug who also worked for Clinton.RT reported:In the video, Dudich calls himself the  gatekeeper  for all the New York Times videos posted online, saying that his  imprint is on every video we do. Any video that goes on Facebook, YouTube, Instagram   I have a hand in that,  Dudich said.When talking journalistic ethics, Dudich is captured sarcastically making air quotes while he said that he will  be objective  working for the Times before quickly admitting:  no I m not. That s why I m there. According to the New York Times ethical handbook, employees  must do nothing that might raise questions about their professional neutrality or that of The Times. As a journalist, I m not able to give any money to any political organization. I m not able to volunteer for any political organization. I m not able to work for any nonprofit or charity. Like, there s a lot of guidelines and ethics,  Dudich said.However, before joining the Times, Dudich worked social media on the 2012 presidential campaign of former President Barack Obama and the 2016 presidential campaign of former Secretary of State Hillary Clinton.When asked how he was able to be politically active and still work as a journalist, Dudich said that he had to leave his job at ABC to take a job where he  wasn t deemed a journalist anymore  in order to work for the Clinton campaign.Dudich said he made the sacrifice in order to work against Trump, who he said was a  threat. I saw the threat and I was like, I want to do something,  Dudich said.  Trump was a threat and still is a threat, right? Trump is a threat,  the interviewer interjects.  He s a threat. Oh, he s a threat to everything,  Dudich added.Read more President/co-founder of The Dream Corps and CNN contributor Van Jones   Rich Polk CNN s Van Jones calls Russia  nothing burger  video  edited, right-wing propaganda  At one point, Dudich explains his idea to make Trump resign or leave office by going after his businesses and his  dumb f**k of a son, Donald Jr., and Eric. Target that. Get people to boycott going to his hotels,  Dudich said.  If you can ruin the Trump brand and you put pressure on his business and you start investigating his business and you start shutting it down, or they re hacking or other things. He cares about his business more than he cares about being President. He would resign. Or he d lash out and do something incredibly illegal, which he would have to. ,\n",
       " Complaints over lack of wi-fi, no professional cleaning service in their villas and even a refusal to be fingerprinted in Greece upon their exit to other European countries. It s almost as if they re not really grateful for the generosity of the taxpayers who are funding their existence African and Middle-Eastern migrants in an Italian town are protesting insufficient Wi-Fi at their settlement by dumping their garbage into the streets.According to The Local, which cites the Italian-language La Repubblica, a group of two dozen Sub-Saharan African migrants in the town of Ceranova are outraged that a lack of free Wi-Fi at the villa they live in is preventing them from using Skype to communicate with family members back in Africa.The protesters are also angry that the villa doesn t have a professional cleaner to keep things tidy.At first, the protest took the form of migrants marching in the streets and blocking traffic, but now things have escalated and the migrants have begun dumping their trash into the streets to make their point. The stunt led to a confrontation between townsfolk and the migrants, which may have become violent if not for the intervention of the local mayor along with three police officers. Afterwards, a 24-year-old migrant who led the demonstration was kicked out of the refugee facility.The migrants have been living in Ceranova, a small town of about 1,000 people located about 15 miles south of Milan, since July. They are just a small portion of over 120,000 migrants who have arrived in Italy this year, mostly by boat from Africa.At least one Italian is sympathetic to their demands. Obviously it s very important for refugees to have access to the Internet and not just so they can stay in touch with their families,  refugee center manager Barbara Spezzi told The Local.  The Internet helps refugees keep up to date with what s going on at home and in Italy which helps them integrate into Italian life. It s also a great learning tool too: we had a case of a girl who was following her university lectures on YouTube. The stunt has become fodder for Italian politics, with members of the regionalist, anti-immigration Northern League party using it to bolster their arguments against generous refugee policies. They wan t someone to clean their homes   can you believe it?  said party leader Matteo Salvani. He joked that Laura Boldrini, a socialist and president of the Chamber of Deputies (Italy s parliament), should be sent to do the cleaning.There have been assorted cases of migrants reacting badly to their conditions or to the actions of European authorities. Last week, for instance, Eritrean migrants on the Italian island of Lampedusa (a hub for migrants arriving from Africa) marched in protest against requirements that they be fingerprinted before being allowed to leave the island. Some have apparently even launched a hunger strike against the requirement.Via: Daily Caller ,\n",
       " As there is more and more demand by politicians and Electoral College electors for a bipartisan investigation into Russia s involvement in the 2016 election, our President-elect has very conveniently decided to go into hiding.According to Bloomberg, Trump is unable to handle the heat and rising suspicions so he has canceled his first press conference since his undeserved win. Bloomberg said: President-elect Donald Trump is postponing until next month a previously announced news conference to outline how he ll handle his far-flung business operations while in the White House, according to senior Trump transition officials.Trump had planned to make the announcement Dec. 15 but wants more time because he s been occupied with filling out his cabinet and top administration posts, according to the officials, who spoke on condition of anonymity to discuss internal deliberations. He s preparing to reveal his choice for secretary of state as soon as Tuesday, they said. First of all, all you need to do is look at Trump s Twitter history to know that he hasn t been SO swamped with his cabinet appointments to have a press conference   after all, he still has time to insult people on social media and attend his  victory tour  rallies! This is merely the pathetic excuse Trump s advisors are using to prevent Trump from screwing up even more before the Electoral College has to vote on him in a few days. And of course, Trump s team recognizes that having a press conference where Trump is supposed to address his conflicts of interests and business issues is probably not a good idea right now.The cancellation of this contest marks another first for Trump   he s the first President-elect since 1978 who has not held a press conference after winning the election. In fact, Trump hasn t done any press conferences since July   and ironically he invited Russia to hack Hillary Clinton and leak her emails during that press conference. Not suspicious at all, Trump!Featured image via Chip Somodevilla / Getty Images,\n",
       " Donald Trump s vitriol and sexism just made a Texas judge leave the Republican Party, and she announced her departure on video.The exodus from the GOP continues as yet another Republican has decided to jump off the sinking ship that Republican leaders nominated Trump to helm.Judge Lauren Parish announced and explained her decision while seated in her seat at the 115th Judicial District Court, where she works. It is with a heavy heart that I have watched as the Republican nominee for president has made a mockery of our country and our citizenry,  she began. I have watched in horror as he has disavowed our military heroes, made fun of the disabled, divided our country along racial, religious and gender lines, mocked the judicial branch of government, expounded untruth after untruth, promoted violence and disrespect, boasted about sexual assault against women, and made vitriol the platform of his campaign.In short, my family values, my Christian value, my core beliefs have been disenfranchised by my party s nominee for president. Therefore, after much thought and deliberation I have decided that it would violate my conscience to continue to be a member of the Republican Party. Parish explained that she has seen Trump s hate and incivility trickle into local politics and she is sick of it. Quite frankly, I can no longer be affiliated with a party that could tolerate such antagonism and hatred,  Parish continued.  I can no longer sit idly by while this abhorrent disease continues to infect what was once a respectable and honorable political party of the past. The Grand Old Party of Lincoln no longer exists today. Parish explained that she was taught to love her neighbor and to build people up instead of tearing them down. And she refuses to sacrifice her values and beliefs just because the Republican Party is abandoning their own. I announce today that the current national Republican Party has abandoned all the principles instilled in me by my parents, my church and my community. As a result, I can no longer tolerate being affiliated with the current Republican Party. I see no way of reconciling my Christian beliefs with the manner in which the national Republican party is conducting itself. As of today, I am resigning my affiliation with the Republican Party. Here s the video via YouTube.[ad3media campaign= 1235 ]The reality that Republicans are leaving the party in Texas is huge because the state has slowly become a battleground state since Trump won the nomination. The race there is so tight, in fact, that Hillary Clinton is only down by three points. So Texas could very well be in play, and it s because moderate Republicans can no longer stomach Trump being the leader of their party.Featured image via screen capture from embedded video ,\n",
       " The problem with running for President in the 21st Century is that nearly everyone has a Google page or 1,000 about them, and often, video to back it up. That s the case with Kellyanne Conway, who was named Donald Trump s new campaign manager in his second attempt to shake things up.In April, Conway appeared on CNN, where host Don Lemon asked her about an  alliance  between John Kasich and Ted Cruz. Conway, who wasn t working for Trump, or apparently even supporting Trump, at the time, thought the alliance was fine, but Trump s refusal to release his taxes wasn t.Then head of a super-PAC supporting Trump rival Ted Cruz, Conway was asked in an April 25 CNN interview if the  alliance  between John Kasich and Ted Cruz was fair.  Of course it s fair game,  she said.  Oh absolutely. It s completely transparent. Donald Trump s tax returns aren t, and I would like to see those be transparent. Here s the video:And here s Donald Trump s new campaign manager in April call for Trump to release his tax returns pic.twitter.com/pIxCCm39xj  John Whitehouse (@existentialfish) August 19, 2016That wasn t the first time Conway was critical of Trump, nor was it the last. Here she is talking about Trump s damaging rhetoric: Here s Donald Trump s new campaign manager in February saying Trump s rhetoric was  unfortunate for children  pic.twitter.com/zb0LwwX5Mg  John Whitehouse (@existentialfish) August 19, 2016On Feb. 10, Conway blasted Trump s claim that he is  for the little guy,  questioning his business ethics.Trump  actually built a lot of his business on the backs of the little guy  she said on CNN, adding that Trump is known for  not paying contractors after [they have helped him] build something. She also sharply critiqued the businessman in the past over Trump University, his use of personal insults, and simply  saying things that aren t true,  the left-leaning group said.Source: The HillIn other words, it s becoming increasingly clear that Trump surrogates souls can be bought and sold, although it s not clear for how much. As for Trump, perhaps the appeal is that as a lawyer, Conway once helped Paula Jones in her sexual harassment case against Bill Clinton.Featured image via Gage Skidmore at Flickr,\n",
       " Donald Trump and his vice-president are eager to pass the GOP/Trumpcare bill even though it will harm millions of Americans. It s not even a health care bill; it s more of a death care bill. Democratic and Republican governors agree that it s a bad proposal. According to a report presented at the National Governors Association, the Senate s Obamacare repeal bill would result in reductions in federal Medicaid funding to states ranging from 27 percent to 39 percent by 2036. Politico reports that fifteen states would see their federal Medicaid funding decline by more than 35 percent by 2036.Vice President Mike Pence tweeted,  Let me be clear: The Senate health-care bill strengthens and secures Medicaid for the neediest in our society. #BetterCare. Watch Mike Pence lie:Let me be clear: The Senate health-care bill strengthens and secures Medicaid for the neediest in our society. #BetterCare pic.twitter.com/rThIZtB9zi  Vice President Pence (@VP) July 14, 2017Pence said that the GOP plan would ensure that  every state in America has the resources you need to take care of your most vulnerable. The fifteen states that would be most affected by this travesty of a bill include California, Nevada, Kentucky, Washington, North Dakota, Oregon and New Mexico, Colorado, Arizona, Utah, Ohio, Arkansas, Pennsylvania, and Tennessee. We suppose those states don t count.Sen. Chris Murphy (D-Conn.) ripped Pence on Saturday in a tweet . I m going to say it   there is real evil in the epidemic rate of lying that is going on right now,  Murphy tweeted in response to Trump s tweet which included the video above. This is not normal,  Murphy added.I'm going to say it   there is real evil in the epidemic rate of lying that is going on right now. This is not normal. https://t.co/ifkV1GWAUH  Chris Murphy (@ChrisMurphyCT) July 15, 2017Pence has nearly 4 million followers and his tweet was liked only 2,902 times. In contrast, Murphy has 281,000 followers and his tweet was liked nearly 14,000 times. Perhaps, just maybe, Trump supporters are waking up to the fact that they will be largely affected by Obamacare being repealed and replaced with a shit sandwich.Kasich isn t happy with Pence either:Ohio Gov. John Kasich s (R) office rejected Pence s claim that 60,000 disabled Ohioans are on waiting lists for Medicaid s home and community-based services.Kasich s spokesperson called Pence s claim  not accurate  and said that suggesting Medicaid expansion hurt the developmentally disabled system  is false, as it is just the opposite of what actually happened.  A Pence spokesman defended the vice president s comments.On top of that, insurers ripped into Ted Cruz s provision saying that it s  unworkable  and added that  millions of more individuals will become uninsured  and it will affect those with pre-existing conditions.Photo by Aaron P. Bernstein/Getty Images,\n",
       " The intimidation tactics of Mueller s FBI are way off base according to reports that claim Mrs. Manafort was  manhandled :Just how rough special counsel Robert Mueller is playing with Paul Manafort goes back before this week s indictment   to the FBI s no-knock raid in July.It has been reported that the agents checked Mr. Manafort and wife Kathleen for guns as they broke into the Alexandria condo pre-dawn by picking the lock.A source familiar with the case told The Washington Times the search was even more intrusive: An agent patted down Mrs. Manafort before she was allowed to get out of bed. Agents felt up Mrs. Manafort lying in bed to see if she had guns,  the source said of the intimidation.In all, 12 FBI agents entered the home, guns drawn, and stayed for hours.The aggressive search of a prone sleepy woman is, the source said, a hallmark of Mr. Mueller s top prosecutor, Andrew Weissmann. A former mob prosecutor in New York, he specializes in turning witnesses against bigger prey and is not afraid to make things rough for spouses, too. Weissmann will want to maximize the trauma to his family,  said Sidney Powell, a Dallas appeals attorney critical of his tactics.A spokesman for the special counsel s office declined to comment.Via: WT,\n",
       " On Tuesday morning, CNN Carol Costello completely shut down an interview when a conservative guest (and passionate Donald Trump supporter) went off on a ridiculous rant about Hillary Clinton.The  CNN Newsroom With Carol Costello  interview started to go south toward the end when one of Costello s guests, Trump fan and Newsmax host Steve Malzberg, tried to derail a discussion about the Republican front runner s misogyny and sexist rhetoric by targeting Clinton and her husband. Malzberg bragged about the business mogul s approach with women: When you get one-on-one,   especially if it s Hillary   Donald Trump will go places nobody is willing to go, where the media at this point isn t willing to go. Bringing up Clinton s women who say they were intimidated by Hillary. Having them come forward and speak. A litany of issues that you can t even imagine. Costello interrupted Malzberg and said,  I m thinking that might not be a winning argument for Donald Trump right at this moment.  Which is absolutely correct, considering that Trump has been pummeled for his recent comments that women should be punished for seeking abortions.But Malzberg foolishly continued on, even though Costello s objections were backed up by fellow guest Judson Phillips (who is a Ted Cruz supporter). Malzberg added: Do you know how many young women in this country don t even know that Bill Clinton was impeached? No. Maybe they ve heard of Monica Lewinsky. They don t know the women that have accused Bill Clinton of sexual improprieties and that say they have been threatened and intimidated by Hillary Clinton. Then, Malzberg decided to bring up another truly bizarre talking point   Clinton s involvement in an old child abuse court case from 1975. Malzberg started: A girl who was raped by a pedophile that Hillary Clinton bragged about getting off. Shocked that Malzberg would even mention this, Costello started to shut him down, saying,  Oh, come on. Malzberg cried, Wait, wait, let me finish!  while Costello refused to entertain the conversation. He argued: What do you mean? You don t want to hear it? That Hillary Clinton is on tape bragging about, as a lawyer getting off on a technicality. That woman now says,  Hillary ruined my life.  That s not fair. Costello had had enough of the insane conversation, and said, I m going to leave it there, and goodbye. Thanks for joining me  before ending the interview abruptly. You can watch the awkward moment unfold below, at about the 5:45 mark:In Clinton s memoir, Living History, Clinton addressed that 1975 case, confessing that she had only been out of law school for two years when she was assigned that case. She said that although she  didn t feel comfortable  with the case, she couldn t very well refuse the judge s request.  Clinton knew she had  an ethical and legal obligation to defend him to the fullest extent of the law , and did her best. After that case, Clinton went on to set up Arkansas  first rape hotline.Featured image via screencapture,\n",
       " Donald Trump showed up to vote in New York City with his wife Melania and hilarity ensued.When the Trump s walked through the doors they were greeted by a round of boos and jeers. Clearly, New York voters are not Trump fans.But Trump s day got even worse when he tried to sneak a peek at Melania s ballot, apparently just making sure she votes for him.Well, a photo of the moment was captured and now the Internet is having a field day mocking the Republican nominee.This picture is everything. pic.twitter.com/m9Blodj90f  Amanda Marcotte (@AmandaMarcotte) November 8, 2016 Donald Trump leads by example, closely poll watching as a suspected illegal immigrant attempts to vote.  pic.twitter.com/dykNWdsUXx  Dan Baulch (@DaRealDanBaulch) November 8, 2016trump panicked and had to copy melania s ballot. now both are voting for hillary pic.twitter.com/fiFO5tSrMh  daddy s lil psycho (@tannermuro) November 8, 2016Melania, it s  Trump   .. no,  Trump   .. what re you .you re marking the wrong box. Melania. MELANIA pic.twitter.com/GD99GYRYNQ  Andrew Lawrence (@ndrew_lawrence) November 8, 2016Trump wondering who Melania is voting for: https://t.co/O5hh8yqHl5  Michael Moore (@MMFlint) November 8, 2016s/o to this golden moment where Trump let us all know that he doubted his own wife would vote for him. pic.twitter.com/rDdUtlxvsu  JamesMichael Nichols (@jamesmichael) November 8, 2016Trump reusing the strategy that got him through an Ivy League school. pic.twitter.com/0Gf8of9PFy  cam (@goethelife) November 8, 2016Holy Shit! Is there nothing Trump won t allow a woman to do on her own? #ControlFreak @realDonaldTrump @HillaryClinton #usa #nyc #shame #yyc pic.twitter.com/W7kpWfKOzF  Unite Alberta (@UniteAlbertans) November 8, 2016Either Trump doesn t trust her, or he s trying to work out how to vote pic.twitter.com/CimZAQl82a  Rupert Myers (@RupertMyers) November 8, 2016Trust, but verify (via @AmandaMarcotte) pic.twitter.com/pzTvipeW1p  Judd Legum (@JuddLegum) November 8, 2016In fact, Donald isn t the only male Trump who watched their spouse vote.Like father, like son pic.twitter.com/dqnoEZF4xf  Nathan McDermott (@natemcdermott) November 8, 2016So not only did Trump get booed at his polling location, he feared that his own wife would vote against him. Talk about being a paranoid control freak. And it would be completely understandable if she didn t vote for her husband, especially considering he has treated women like shit his whole life.Featured image via screenshot,\n",
       " More and more evidence is revealed every day, that points to the real possibility that murdered DNC staffer Seth Rich was the person who leaked the DNC emails to Wikileaks, and that there is an all-out effort to cover it up, or completely dismiss it as a  tin-foil hat  theory by social media platforms, the leftist media and the Democrat Party. Twitter just suspended the WND account for posting a story that suggested disgraced DNC chief and top Democratic strategist Donna Brazile may have interceded in the Seth Rich murder investigation. In the WND exclusive story titled:Alicia Powe and Liz Crokin wrote the story that was also posted to and deleted from the social media platform by Twitter: Former Democratic National Committee interim chairwoman Donna Brazile is the high-ranking DNC representative who allegedly called police and the family of murdered DNC staffer Seth Rich and demanded to know why a private investigator was  snooping  into Rich s death, the private eye revealed to WND Monday. The high-ranking DNC official that called the police after I inquired about Rich s case was Donna Brazile,  veteran homicide detective Rod Wheeler told WND.  Why shouldn t I reveal who it was? Brazile, who was also a CNN contributor and a Hillary for America donor at the time, was caught providing Democratic Party nominee Hillary Clinton with questions that would later be asked of Clinton at a televised CNN town hall. In an interview with Fox News before the election, Brazile denied leaking the questions to Clinton. But in a March 17, 2017, column for Time magazine, she finally admitted doing so, saying it was a  mistake I will forever regret. According to WND, their Twitter account was suspended because of this Seth Rich investigation bombshell. And now, Big League Politics is reporting associations the DC police chief who resigned only a month after Seth Rich was murdered ran in the same circles as many close to Hillary and top DNC officials. The police chief who oversaw Seth Rich s unsolved murder case has socialized and been honored alongside key Hillary Clinton advisers and even Rich s own boss at the Democratic National Committee. Rich is widely reported to be the source of Wikileaks  damning 2016 email release that showed the DNC colluding to hand the nomination to Clinton at the expense of Bernie Sanders. He was gunned down in D.C. 12 days before Wikileaks  release.On Sunday, July 10, 2016, at approximately 4:19 am, members of the Fifth District DC MPD were patrolling the area when they heard gunshots.  Upon arrival on the scene, members located an adult male victim conscious and breathing, and suffering from gunshot wounds.  The victim was transported to an area hospital, where he succumbed to his injuries and was pronounced dead.The decedent was identified as 27-year-old Seth Conrad Rich, of Northwest, DC.Controversy continues to swirl around the murder of DNC staffer Seth Rich, that detectives working for the MPD under Chief Lanier called a  botched robbery  (even though nothing of any value appeared to have been stolen from Rich s body) after he was shot several times only blocks from his home.Former Metropolitan Police Department chief Cathy Lanier resigned from her post the month after Rich s murder to accept a position running security for the National Football League. She sits on the Washington Police Foundation board alongside Heather Podesta, the D.C. power broker who was married to Clinton campaign chief John Podesta s lobbyist brother Tony.In 2014, Lanier was honored on ELLE magazine s list of the ten most powerful women in Washington alongside top Hillary Clinton aide Cheryl Mills and longtime Clinton friend and informal adviser Neera Tanden. Other honorees included NARAL Pro-Choice America president Ilyse Hogue and Obama Cabinet official Penny Pritzker.Lanier did attend ELLE and Hugo Boss  2015 Women in Washington Power List dinner at the German ambassador s house. Here she is chatting with Clinton crony and Virginia governor Terry McAuliffe.Who else was at the dinner? None other than Amy Dacey, the CEO of the Democratic National Committee at the time of Seth Rich s murder, who resigned one month after the killing as the DNC was rocked with scandal.Who else was at the dinner? None other than then-DNC chairwoman Debbie Wasserman Schultz.,\n",
       " In a speech to the American Legion, the largest veteran organization in the country, Donald Trump alarmingly went full fascist when he promised to  promote pride and patriotism in American schools.  When you add that to his attacks on the press, support of nationalists, quoting of dictators, and lack of support for the freedom of speech, the picture that is painted is very clear.The troubling remarks began early in his speech: I want to begin by discussing one goal that I know is so important to all of you: promoting American pride and patriotism in America s schools.In A Trump Administration, I plan to work directly with the American Legion to uphold our common values and to help ensure they are taught to America s children. We want our kids to learn the incredible achievements of America s history, its institutions, and its heroes.We will stop apologizing for America, and we will start celebrating America.We will be united by our common culture, values and principles   becoming One American Nation. And if you re one of many parents who have trouble with children mindlessly repeating the pledge of allegiance   many of whom don t know what the words  pledge  and  allegiance  mean   he s got bad news for you, specifically: That flag deserves respect, and I will work with American Legion to help to strengthen respect for our flag   and, by the way, we want young Americans to recite the Pledge of Allegiance. In other words, Trump wants right-wing nationalist propaganda in public schools. That s probably because Republicans have a serious problem with history, and an even bigger problem with teaching it to kids. After all, they might learn that the United States is not inherently morally superior and beyond reproach by definition! That s why in 2014, House Republicans actually expressed their displeasure with, you know, facts, and passed a resolution saying they don t approve of high school AP History. Seriously.The following Al Franken quote comes to mind: You have to love your country like an adult loves somebody, not like a child loves its mommy. And right-wing Republicans tend to love America like a child loves its mommy, where everything Mommy does is okay. But adult love means you re not in denial, and you want the loved one to be the best they can be. That s not the only reason Trump s idea is a bad one. It s also illegal. As Military Times points out:Public schools nationwide are funded by their local communities along with some state money. Most schools receive little federal funding.Current federal law prohibits the federal government from exercising  any direction, supervision, or control over the curriculum, program of instruction, administration, or personnel of any educational institution, school, or school system. Good luck with that, Trump.You can watch the full video of his speech below:Featured image via Ralph Freso/Getty Images,\n",
       " University of Michigan is located in Ann Arbor, MI, and is home to over 43,000 students. Students at U of M and residents of Ann Arbor can purchase legal marijuana on just about every corner. But purchasing legal cigarettes just became a problem for anyone under the age of 21, despite a state law that allows anyone 18 years of age or older to purchase legal tobacco products in the state of Michigan. Why, and how can a city council make these kinds of emotional decisions that supersede state law? Because liberals always know what s best for you There is no room for discussion. Decisions made by progressive government officials don t have to be based on logic, or in this case, on state law; they just have to have enough emotion behind them to sway their comrades on the city council. This story is a perfect example of why Americans need to know who is running for city council in their hometowns and major cities when election time comes around The Ann Arbor City Council last week voted for an ordinance that will ban the sale of tobacco products to people under 21, making it the first city in Michigan to raise the legal purchasing age from 18.Kai Petainen, an Ann Arbor resident who attended the city council meeting, said he recently went to a funeral of a 23-year-old who died from a drug overdose. That friend used tobacco as a gateway drug, he said. It s a funeral of a person who died at only 23 and it was from an overdose. That person began using tobacco at a young age, and eventually they were using other drugs as well,  he said.  Tobacco use can lead to other drugs and it can and does destroy lives. Tobacco shops in Ann Arbor have said the ordinance will drive customers out of the city.The Council voted 9-2 on Aug. 4 for an ordinance sponsored by Council Member Julie Grand, a Democrat representing the city s 3rd Ward.Ann Arbor officials were explicit about their lack of concern with whether the ordinance conflicts with state law, and that they hope the rest of the state follows the city s lead. The tobacco lobby has inflicted enough misery on this country and I m happy to do anything we can to play a leadership role on this effort in Michigan,  Kirk Westphal, a Democratic council member from the 2nd Ward said, according to The Ann Arbor News. It s particularly important to me,  said Council Member Chip Smith, a Democrat from the 5th Ward.  But really what compels me to support this is the fact that Ann Arbor is a leader in things, and this is exactly the type of thing we should be leading on, and I m very happy to support this. In addition to the apparent conflict with a state law preempting local regulations, critics of the ordinance are concerned that its effect would be to send people under 21 to neighboring cities like Ypsilanti or Canton to buy tobacco products.Jack Eaton, a Democrat from the 4th Ward, and Jane Lumm, an independent from the 2nd Ward, voted against the ordinance. According to The Ann Arbor News, they cited Michigan s Tobacco Products Tax Act of 1993 as the cause for their concern.The act says municipalities  shall not impose any new requirement or prohibition pertaining to the sale or licensure of tobacco products for distribution purposes.    MICapConThis new ordinance that will prohibit the sale of tobacco to anyone under the age of 21 years, goes hand-in-hand with the University of Michigan s NO SMOKING ANYWHERE ON CAMPUS law that went into effect on July 1, 2011.Watch the idiocy of this intrusive campus law explained here:Meanwhile, Michigan State University just made it ILLEGAL to SMOKE TOBACCO IN YOUR OWN PRIVATE VEHICLE as long as you are on campus property!Beginning on Aug. 15, a new tobacco-free policy at Michigan State University will make drivers subject to a $150 fine for choosing to smoke or chew tobacco while traveling on public roads that cross the school s East Lansing campus.The ordinance was passed by the board of trustees on June 17, 2015. Its effective date was set for more than a year later on Aug. 15, 2016. A new policy is an effective, cost-efficient way to protect the health of the campus community and encourage tobacco users to reduce or eliminate consumption, thus increasing life, longevity and vitality,  the MSU tobacco-free website states.  Most tobacco users want to quit, and tobacco-free environments encourage users to quit and help them maintain a tobacco and nicotine free status. Students and MSU employees could face additional sanctions. Students who continually violate the ordinance could face sanction through the student judicial system, and employees could face repercussions via Human Resources (just as students and employees could for violating any MSU ordinance),  Cody said.The ban also extends to the use of e-cigarettes and smokeless tobacco on campus, including inside a private vehicle. ,\n",
       " You know how people have been wondering if Michael Flynn has been turned? Well, the Wall Street Journal confirms that Trump s former national security advisor has agreed to testify before Congress in exchange for just one little thing full immunity from prosecution.Just after news broke that an associate of Mr. Flynn s was one of Trump stooge Devin Nunes  sources for the specious secretly-gathered information with which the alleged Trump investigation leader found himself after a middle-of-the-night rendezvous on White House grounds, news broke that Flynn is ready to talk:Mike Flynn, President Donald Trump s former national security adviser, has told the Federal Bureau of Investigation and congressional officials investigating the Trump campaign s potential ties to Russia that he is willing to be interviewed in exchange for a grant of immunity from prosecution, according to officials with knowledge of the matter.As an adviser to Mr. Trump s presidential campaign, and later one of Mr. Trump s top aides in the White House, Mr. Flynn was privy to some of the most sensitive foreign-policy deliberations of the new administration and was directly involved in discussions about the possible lifting of sanctions on Russia imposed by the Obama administration.It seems like Mr. Flynn has been naughty with the Russians, but whatever information he has is something he considers to be of much higher value. While we of course do not yet know what secrets Flynn is currently keeping about the Trump administration s collusion with Russia, it seems safe to assume that this is news The Donald does not want to get out.Naturally, the internet is loving this new development:Michael Flynn should probably stay away from ledges, balconies, pie shops, the back seats of cars, swimming pools, bridges, taco trucks  Wil Wheaton (@wilw) March 30, 2017Flynn just asked for a deal. This is getting very interesting! pic.twitter.com/I2xlIwyFxO  (((DanielM.Potter))) (@PotterOnPoltics) March 30, 2017@costareports So, if I've got this right, Michael Flynn is going to be the David Wildstein of Russiagate.  Kathleen Martin (@ruralfabulous) March 30, 2017 @Lawrence Looks like trumps administration just died, Flynn cut a deal. Nana Nana Nana Nana hey hey hey goodbye ..  Coral Anderson (@CoralAnderson20) March 30, 2017@realDonaldTrump Flynn flipped! You and your family are going to prison.  Lockup: Mar-a-Lago (@OutHouseAtty) March 30, 2017This is a dark day for the Trump administration  but a good one for the rest of us who want to be rid of the bloated tangerine Manchurian couch potato currently living in the White House.Featured image via Getty Images (Chip Somodevilla),\n",
       " What s next Making a comedy at the Humane Society about euthanizing pets?  Patti Davis, daughter of late President Ronald Reagan and Nancy Reagan, penned a moving open letter to actor Will Ferrell on Thursday criticizing his involvement in an upcoming comedic film that will satirize President Reagan s tragic battle with Alzheimer s disease.The film, based on a 2015 Black List script, centers on a fictional story in which President Reagan begins suffering from dementia shortly after a landslide reelection victory in 1984. A young aide must convince Reagan that he is an actor playing the President in a movie.Ferrell is attached to play Reagan in the film and will produce it under his Gary Sanchez Productions banner.Here is the letter Patty Davis penned to Ferrell:Dear Mr. Ferrell,I saw the news bulletin   as did everyone   that you intend to portray my father in the throes of Alzheimer s for a comedy that you are also producing. Perhaps you have managed to retain some ignorance about Alzheimer s and other versions of dementia. Perhaps if you knew more, you would not find the subject humorous.Alzheimer s doesn t care if you are President of the United States or a dockworker. It steals what is most precious to a human being   memories, connections, the familiar landmarks of a lifetime that we all come to rely on to hold our place secure in this world and keep us linked to those we have come to know and love. I watched as fear invaded my father s eyes   this man who was never afraid of anything. I heard his voice tremble as he stood in the living room and said,  I don t know where I am.  I watched helplessly as he reached for memories, for words, that were suddenly out of reach and moving farther away. For ten long years he drifted   past the memories that marked his life, past all that was familiar and mercifully, finally past the fear.There was laughter in those years, but there was never humor.Alzheimer s is the ultimate pirate, pillaging a person s life and leaving an empty landscape behind. It sweeps up entire families, forcing everyone to claw their way through overwhelming grief, confusion, helplessness, and anger. Perhaps for your comedy you would like to visit some dementia facilities. I have   I didn t find anything comedic there, and my hope would be that if you re a decent human being, you wouldn t either.Twice a week I run a support group called Beyond Alzheimer s for caregivers and family members of those with Alzheimer s and dementia. I look into haunted eyes that remind me of my own when my father was ill. I listen to stories of helplessness and loss and am continually moved by the bravery of those who wake up every morning not knowing who their loved one will be that day, or what will be lost. The only certainty with Alzheimer s is that more will be lost and the disease will always win in the end.Perhaps you would like to explain to them how this disease is suitable material for a comedy.,\n",
       " Earlier today, CNN s April Ryan reported Trump administration aide Omarosa Manigault had to be escorted out of the White House by Secret Service officers after she was fired by Chief of Staff John Kelly. American Urban Radio Networks  White House correspondent April Ryan told the story about the aide s firing on CNN:.@AprilDRyan reports Omarosa is leaving the White House because General Kelly \"was tired of all the drama.\" She \"was very vulgar, she was cursing\" when he let her know and tried to go see Trump in his residence, but was escorted out by Secret Service https://t.co/tXu1J9HEOw  Deena Zeina Zaru (@Deena_CNN) December 13, 2017THE LEFTY TRUMP HATERS WERE GLEEFUL:\"Bye girl, bye   You have never represented the community.   Good riddance, goodbye, deuces out!\" @angela_rye celebrates the departure of Omarosa Manigault from the White House https://t.co/t2w0NBvunL https://t.co/1uHDdvobgy  Deena Zeina Zaru (@Deena_CNN) December 13, 2017The problem is that the Secret Service pushed back in a tweet saying this did not happen:Reporting regarding Secret Service personnel physically removing Omarosa Manigault Newman from the @WhiteHouse complex is incorrect.  U.S. Secret Service (@SecretService) December 13, 2017,\n",
       " As millions of dollars of union dues flow into the Democrat coffers, it could be all for naught, as union members plan to cast their votes for Donald Trump Democrats are worried as more and more union members are supporting Donald Trump for president.A recent AFL-CIO poll found that Trump has more support than Hillary and Bernie Sanders combined.95% of union donations flow to Democratic candidates and causes.  Gateway PunditTrump is resonating with voters who are struggling to make ends meet and who are seeing their friends  jobs shipped abroad, says John Cakmakci, president of United Food and Commercial Workers Union Local 951 in Michigan. And some of those voters are union members. Trump s populist positions on trade and his rejection of Washington politics have earned him votes across the Rust Belt, where several battleground states are key to winning the election in November Donald Trump Jr. explains the  Blue-Collar Billionaire s  appeal with voters: Working America, the political organizing arm of AFL-CIO, wanted to find out whether Trump s  rightwing  message appealed to workers outside Cleveland and Pittsburgh. After interviewing about 1,689 working-class Americans living in households earning less than $75,000, they found out that Trump was in fact the favored candidate. Of the 800 voters who had decided on a candidate at the time of the interview, about 300 favored Trump. Combined, the two Democratic candidates appealed to fewer workers   174 chose Clinton and 95 chose Sanders. While most of Trump s support comes from the staunch Republican base, one in four Democrats who chose a candidate showed a preference for Trump,  said Working America s report.The majority of respondents said they supported the candidate because of his pugnacious personality rather than for, say, his position on trade.On Tuesday, Jared Szczesny, a card-carrying member of the United Automobile, Aerospace and Agricultural Implement Workers of America Union (UAW), will cast his vote for Trump in Pennsylvania s primary. In 2008 and 2012, UAW endorsed President Obama. This time UAW has yet to endorse a candidate, but is likely to back a Democrat.Szczesny, 31, has never attended a Trump rally. He works seven days a week and has not been able to find the time. However, back in October, he picked up Trump s book The Art of the Deal. When he finished it, he knew that Trump had his vote.Via: The Guardian,\n",
       "   #PresidentElectTrumpABSOLUTELY MUST WATCHToday there is hope for the American people.We will #MakeAmericaGreatAgainPlease RT pic.twitter.com/WSbpcKr8np  Brian Fraser (@bfraser747) November 9, 2016,\n",
       " Stereotype much? Wow! This entire statement is misleading and racist because Jeb Bush wants to paint with broad strokes the picture of just how great it will be to flood America with lots of  fertile  illegals. He then goes on to say that America will  decline  if we don t do this  ,\n",
       " A bunch of celebrities set out to hijack our election but we Trump supporters hijacked their pompous ad. #MAGA retweet make this go viral! pic.twitter.com/rVDCvSc9G9  Elizabeth Imus (@imuszero) September 23, 2016,\n",
       " After being embarrassed on live television Saturday night when John Dickerson fact-checked his lie about Supreme Court history, Ted Cruz showed no shame as he repeated the same line on Sunday.The GOP Debate started off on Saturday night with Dickerson asked Cruz about whether or not President Obama should be able to name a successor to Supreme Court Justice Antonin Scalia, who died earlier that day.Cruz claimed that a Supreme Court nominee named by a lame duck president has not been confirmed by the Senate in 80 years. Dickerson, however, pointed out that former President Ronald Reagan s nomination of Justice Anthony Kennedy to the bench in 1987 was confirmed by the Senate in 1988, the final year of Reagan s presidency. Thus, Dickerson caught Cruz lying, which stunned the candidate into silence as the crowd booed the moderator for bringing up pesky facts.During an appearance on ABC s This Week, the Texas Senator told George Stephanopoulos the very same lie and then blamed Democrats as the reason why Kennedy was only confirmed in 1988, claiming that it would never have happened if they had just automatically confirmed universally despised nominee Robert Bork instead of rejecting him and his extremism. George, the Senate has not confirmed a nominee that was named in the final year, an election year, in 80 years. This is a lame duck president. And, by the way, the only reason Anthony Kennedy was nominated that late is that Democrats in the Senate had gone after and defeated two previous nominees, Robert Bork, which set a new standard for partisan attacks on a nominee, and Doug Ginsburg. So it was the Democrats that had dragged it out for many months to make it that late. And right now, the court is exquisitely balanced. The fact is, however, that there is a process to Supreme Court nominations and confirmations. Many presidents have had their nominees rejected by the Senate, so it s not like Reagan was the first to have a nominee fail to be confirmed. The bottom line is that Cruz is still wrong on his Supreme Court history.But Cruz wasn t done. Upon being asked if he would filibuster anyone President Obama nominates to fill Scalia s seat, Cruz replied  Absolutely,  and said that the people should decide who fills the seat by electing the next president. This should be a decision for the people, George. We ve got an election. And, you know, Democrats   I cannot wait to stand on that stage with Hillary Clinton or with Bernie Sanders and take the case to the people, what vision of the Supreme Court do you want? Let the election decide it. If the Democrats want to replace this nominee, they need to win the election. Here s the video via ABC. ABC Breaking News | Latest News VideosThis is a particularly hard argument to make since Americans elected President Obama for a full four year second term in 2012 by five million votes. President Obama has nearly a full year left in office, so it is absolutely absurd, not to mention an admission that Republican will refuse to do their constitutional duty, to suggest that President Obama should force America to wait a full year or more before the Supreme Court is functioning with a full nine member bench again. President Obama earned the right to nominate a Supreme Court Justice when he won the 2012 Election. Ted Cruz and his Republican comrades need to get over it and do their damn jobs. Featured image via video screen capture,\n",
       " How many of these punks treating police officers with disrespect will be the first to call them when they need help?A Minnesota sandwich shop worker should have thought twice before refusing to serve a police officer his lunch.The problem started Thursday when Edina Police Officer Marcus Limbeck went to a the Bloomington Jimmy John s restaurant and was confronted in the parking lot by an angry delivery driver who told him they would not serve him because the police ticket too many of the company s drivers, Fox 9 reported.Officer Limbeck emailed some other officers to tell them of his experience with the unruly driver, according to Fox 9.Edina patrol officer, Marcus Limbeck told his fellow officers in an e-mail the delivery driver yelled at him in the parking lot,  you coming down here to give us tickets now?  inside, the same driver told him,  you re not getting a sandwich here.   you ve given almost everybody here a ticket.   go get your sandwich someplace else.  The officer says the other workers were just laughing and snickering. Customers were in disbelief that they actually refused to serve the officer. But the story has a happy ending   for the cops, if not for the employee. The comments were so egregious we terminated the employee immediatel,  the franchise owner Dan Vansteenburg told Fox 9.  We have a lot of respect for law enforcement. We are a law-abiding sandwich shop, but we are on the road and we deliver sandwiches. Vansteenburg also said he s like to treat all Edina officers to free sandwiches or make a special donation to make up for it.According to Fox 9 Edina does write more tickets than any town in Minnesota but it also have one of the state s lowest accident fatality rates.Via: BizPac Review,\n",
       " The DHS has announced that they ll be raiding places that house illegals and deporting them. This could get ugly and it will only garner sympathy for the illegal aliens who ve broken federal law by crossing our border. Over 10,000 illegal minors came across our border in Sept/Oct which is a record for this time of year. The big question in all of this would have to be why Jeh Johnson s rules for deportation have been so lenient. Because of his leniency, word has gotten back to Central America that you can just surrender to border patrol and you re in. Now we have millions and millions of illegals who re roaming around America and we have no clue who they are. The Sanctuary Movement is taking it upon themselves to bring in and protect illegals while putting Americans in danger. Thousands of criminal illegal aliens were simply released last year. Yes, Obama let them go All Americans are in danger from this open border policy and those in the church community should go to jail for aiding this invasion of our southern border. Leaders of the church-based Sanctuary Movement vowed on Friday to offer their places of worship as refuge for immigrants facing deportation under an Obama administration crackdown on Central American families who entered the United States illegally.The statement came two days after The Washington Post first reported the U.S. government was planning a series of raids to remove hundreds of undocumented families as early as January in the first such large-scale effort targeting the recent flood of border crossers.The Department of Homeland Security preparations to intensify deportations of Central American migrants, confirmed by U.S. government sources, drew immediate fire from Democratic presidential candidates and human rights groups.Leaders of the multi-denominational Sanctuary Movement, which has sheltered at least 10 immigrants from deportation over the past 18 months, joined in the criticism on Friday, alluding to the biblical Nativity story of Mary and Joseph seeking refuge before the birth of Jesus. As pastors we know that each and every family is a holy family,  said the Rev. Alison Harrington, pastor of Southside Presbyterian Church in Tucson, Arizona.  We open our doors to today s Josephs and Marys.   The gift we have to offer on Christmas Day is the gift of sanctuary. The Sanctuary Movement, which Harrington said encompasses about 50 congregations in a dozen U.S. cities, made headlines in January by providing refuge in Philadelphia to a Honduran woman whose two children were born in the United States. She ultimately won a two-year reprieve from deportation.The Rev. Noel Anderson, a coordinator for the affiliated Church World Service, put the overall number of congregations supporting the sanctuary network at about 300 in more than 20 states nationwide.Immigrants from El Salvador, Guatemala and Nicaragua have been streaming into the United States from Mexico by the thousands since early 2014   many of them unaccompanied minors and families   fleeing extreme poverty, gangs and drug violence in their home countries.Most were detained after turning themselves in at the border seeking asylum, but were released to surrounding communities after initial screening to await further proceedings.A 2008 U.S. anti-human tracking law bars undocumented Central American children from being summarily sent back, as they could be if they were from Mexico or Canada.Government sources, speaking on condition of anonymity, have said the new campaign by the U.S. Immigration and Customs Enforcement (ICE) agency marks an expansion from mostly targeting individuals to pursuing families with undocumented members who have already been ordered to leave.Asked why the agency was singling out families, a spokesperson said the crackdown focused on individuals who pose a threat to national security, public safety and border security,  whether alone or with family members. Support for the move came from U.S. Senate Homeland Security Committee Chairman Ron Johnson, a Wisconsin Republican, who said it would help  eliminate the incentive that results from allowing 95.6 percent of these illegal immigrants to stay. Harrington said she feared the crackdown will ensnare many who lacked sufficient time or legal representation to prepare asylum claims and  were too quickly put through the system. ,\n",
       " Disgraced former National Security Adviser Michael Flynn has asked for immunity in exchange for testifying in the FBI s continuing investigation into possible ties between the Trump campaign and Russia and he has an answer from the Senate Intelligence Committee. Two Congressional sources told NBC News that the committee declined Flynn s lawyer s request.According to a senior congressional official with direct knowledge of the case, Flynn s lawyer was told it was  wildly preliminary  and that immunity was  not on the table  at the moment. Another source weighed in to say that the committee communicated that it is  not receptive  to Flynn s request  at this time. The senior congressional official added that Flynn s lawyer had conveyed the offer of testimony in exchange for immunity from prosecution to the Justice Department.Alleged president Donald Trump tweeted this morning:Mike Flynn should ask for immunity in that this is a witch hunt (excuse for big election loss), by media & Dems, of historic proportion!  Donald J. Trump (@realDonaldTrump) March 31, 2017The thought is that either the authorities have nothing on Flynn or they have bigger fish to fry and there s only one person above the former National Security Adviser in this scenario: Donald J. Trump. Or, the evidence already collected on Flynn is damning and they don t need to make a deal   the latter of which is possible.Flynn was fired after lying about speaking with Russian Ambassador Sergey Kislyak about Obama-era sanctions. From there, things got worse for Flynn. He also met with Kislyak for about 20 minutes at Trump Tower in December. Just one week later, Flynn registered with the Justice Department as a foreign agent for $530,000 worth of lobbying work he did before the 2016 election that  could be construed to have principally benefited the Republic of Turkey. In a statement Thursday, Flynn s lawyer Robert Kelner said no  reasonable person  would get questioned in  such a highly politicized, witch hunt environment without assurance against unfair prosecution. However, in 2016, Flynn was seen at a Trump rally leading  Lock her up!  chants then saying that if he did  one tenth  what Hillary Clinton did, he would be in jail. In addition, on Meet the Press last year, Flynn said,  When you are given immunity, that means that you ve probably committed a crime. Ouchies! Life sure comes at you fast AF, huh?Photo by Andrew Harrer-Pool/Getty Images.,\n",
       " One would think that Donald Trump would ve learned his lesson by now and actually fact-check what he is going to say in advance, but it turns out he hasn t. But then, when has Donald Trump or his supporters ever been concerned with technicalities such as facts?Case in point, Trump told supporters at a rally in Cedar Rapids, Iowa on Wednesday night that immigrants who enter the United States should not be eligible for welfare benefits for five years. The time has come for new immigration rules which say that those seeking admission into our country must be able to support themselves financially and should not use welfare for a period of at least five years,  Trump told the raucous crowd at the U.S. Cellular Center, adding that his administration would be  putting in legislation to that effect very shortly. That would definitely be a great idea, one of few positive moves the Trump administration had made in their short time in power if it weren t for one small problem   The law, known as the Personal Responsibility and Work Opportunity Reconciliation Act of 1996 (PRWORA) already exists.The piece of legislation was passed by another member of his least favorite family, former President Bill Clinton, back in 1996. Under Title IV of the Personal Responsibility and Work Opportunity Reconciliation Act, entitled  Restricting Welfare and Public Benefits for Aliens,  Section 403 clearly states that immigrants are not eligible for any Federal means-tested public benefit  for five years, starting on the date they first enter the country.Naturally, there are some exceptions to what constitutes  federal-means tested public benefit, such as certain medical assistance, emergency disaster relief, and public health assistance for some vaccines, but the standard five-year waiting period is quite clear.Instead of taking to Twitter each time he goes to the bathroom in the middle of the night, maybe a better option for the President would be opening Google or possibly even Wikipedia and doing a little background research about what he plans to say next.Featured image via Scott Olson/Getty Images,\n",
       " Now that Indiana governor Mike Pence has officially been announced as Donald Trump s running mate, it s important to understand exactly who he is and what his stances on key issues are. Those who were expecting Trump to select a more moderate VP pick are going to learn really fast that Pence is anything but moderate.During a segment on MSNBC s AM Joy, an expert on Christian fundamentalism made it very clear that Pence is a dangerous right-wing radical, especially concerning his views on women s healthcare rights.The show s host, Joy Reid asked Sharlet what his thoughts on Pence are concerning the  nexus between evangelicalism and Republicanism in Washington. Sharlet answers, calling Pence a  broker  between the two. To understand Mike Pence and to understand that kind of religious conservative politics, you have to not think of social conservatism and fiscal conservatism as separate, but like Mike Pence say,  Our goal, our mission, is to marry fiscal and moral values.  He sees them as one in the same, so when you go back in his record and you look at his speeches about abortion, which are really something, Sharlet answered.  He is probably the most anti-abortion presidential or VP candidate we ve had. You see him also bringing in financial. He sees it if we don t stop abortion, our economy will collapse. So he s the guy who sort of stands in the middle between those two factions of the Republican Party. At that point, Reid brings up Pence s record regarding abortion, Planned Parenthood, and his failures as a leader during a recent HIV outbreak, saying: On abortion, he signed a law as Indiana governor banning abortions because of genetic anomalies, abortions that were unfortunate anomalies, and he also signed a law mandating, and this is weird, women who have a miscarriage or an abortion had to have a burial for the fetus and must cremate after a miscarriage or abortion. On LGBT rights, he signed a law allowing religious beliefs as a defense against discrimination in lawsuits, and then after a backlash, he s revised the law to exclude LGBT discrimination which got him in trouble with conservatives in Indiana. On prison, he reinstated a ten-year mandatory minimum drug sentencing,  said Reid.That s only a small sampling of what Sharlet and Reid had to say about Pence s record. It s very clear that the GOP has no interest in supporting even a faux-moderate candidate this election judging by the support he is receiving.The bottom line is that Pence is too dangerous to allow into office. Find out more on why by watching the segment below:https://youtu.be/-3aUzRornckFeatured image from video screenshot,\n",
       " For the last two weeks, armed domestic terrorists have been wreaking havoc on an Oregon town in a treasonous occupation of the Malheur Wildlife Refuge. They have been able to come and go freely, and no move by law enforcement, local or federal, was made to round up and arrest these criminals. That is, until Friday.Two of the militiamen made the mistake of using federal vehicles to go grocery shopping. That s what got them arrested, but not the occupation itself.first arrest made of #bundymilitia   two fed vehicles from compound were driven to Safeway. vehicles now impounded pic.twitter.com/RM94eKj2Uh  John Sepulvado (@JohnLGC) January 15, 2016This is the problem with the whole situation: What these people are doing is absolutely illegal, and they should most definitely be jailed for it. Instead, the authorities have let them play pretend Army for the last two weeks unimpeded. Instead of arresting them right away, instead they waited until they stole cars and charged them with that crime. And even then, it s only two members, when there are more than a hundred others there as well.This insurrection has cost the taxpayers an insane amount of money as well, as federal workers have been put on paid leave until the situation is resolved. The situation isn t any closer to any sort of peaceful resolution than it has been since its inception though; in fact, if anything, it is getting worse. Ammon Bundy and his hillbilly partners in crime are actually planning to completely ignore the government (like they aren t already), and instead set up their own laws on the occupied land. They also reportedly have plans to arrest the Harney County Sheriff. It has even been suggested that they should take on the FBI station that is keeping tabs on them.All of these fools need to be in jail. NOW. This has gone on long enough. They have disrupted the lives of every citizen in the area on an absolutely ridiculous level at this point, and the whole thing should have ended long ago.Featured image via YouTube screen capture,\n",
       " Patrick Henningsen 21st Century WireThis week some devastating news befell John Sidney McCain III.On Wednesday, his staff announced that the US Senator had been diagnosed with a brain tumor called glioblastoma discovered during recent testing at the Mayo Clinic in Phoenix, Arizona.Since then warm wishes and tributes have been pouring in for the former Republican Presidential candidate. Both the US media and political establishment have closed ranks and are rallying around the Senator to help soften the blow.Putting previous feuds aside, President Donald Trump was magnanimous and cordial to the Arizona Senator, wishing him and his family the very best.  Melania and I send our thoughts and prayers to Senator McCain, Cindy, and their entire family,  said Trump.  Get well soon. Even former electoral rival President Barack Obama pitched in a little love for the 80 year old:John McCain is an American hero & one of the bravest fighters I've ever known. Cancer doesn't know what it's up against. Give it hell, John.  Barack Obama (@BarackObama) July 20, 2017Regarding McCain s diagnosis, we all can acknowledge the difficulties and risks involved with various cancer treatments, especially with brain cancer. Likewise, nearly everyone these days can attest to losing a friend, a loved one or family member to the disease.As with anyone suffering from this terrible condition, we wish the Senator well, along with a successful treatment and recovery.Still, McCain has a lot in his favor. Unlike most Americans, he will not have to worry about his medical care, and will be receiving the best cancer treatment money can buy, if not the best in the world, and with absolutely no expense spared. In this way, the Senator is extremely fortunate.And for those reasons, this is not an easy article to write. For fear of appearing too cruel in the face of his dramatic medical disclosure, one would be expected to suspend any political critique for now. Hence, the media has placed an unofficial moratorium on any negative coverage of McCain.That said, he is a special case.  As much as any political leader   he deserves to be panned, even under the present circumstances, because his geopolitical handiwork continues to cause havoc in certain corners of the world.Cancer Treatment in SyriaImmediately after McCain s major health announcement, the US mainstream media and Republicans began fretting over the prospect that his extended absence from the legislature might jeopardize his party s ability to pass legislation to repeal the Affordable Care Act (commonly known as Obamacare).With that in mind, maybe it s worth asking: how many innocent Syrians have been denied basic medical treatment, supplies and pharmaceuticals as a result of the harsh US-led regime economic sanctions imposed on Syria? This brutal campaign of collective punishment has been led by US Senator John McCain.Of course, the idea of sanctions as a form of economic warfare hardly registers in the West as being at all harmful to the population of Syria.  Sanctions? They re not against the people of Syria, only against Assad.   That s the general mainstream phantasm when it comes to sanctions, even though the official numbers show a vivid tale of devastation.One can only imagine how many among Syria s population of 20 million are no longer able to receive cancer treatment in Syria as a result of McCain s insistence on punitive sanctions. Before the conflict in Syria began in 2011, citizens were able to get free medical treatment including high-end state-of-the-art cancer treatment (consider that one simple aspect of this war, as men like John McCain still claim to be delivering  freedom  to the Syrian people by backing armed terrorist factions).Before the terrorist forces occupied the eastern part of the city, Aleppo was home to one of the Middle East s top cancer treatment centers, Al-Kindi Hospital. This is important because after McCain s secret trip to the Aleppo area in May 2013, the very same  rebels  he was cavorting with and supplying weapons to   the  Free Syrian Army  (under the command of Jabbat al Nusra aka al Qaeda in Syria) would later order the bombing on this cancer treatment hospital.Professor Tim Anderson explains the destruction of Al Kindi Hospital in December 2013, including the shameful spin applied after the fact by BBC and western mainstream media:In an Orwellian revision of events the BBC (21 December 2013) reported the destruction of Al-Kindi with the headline:  Syria rebels take back strategic hospital in Aleppo . The introduction claimed the  massive suicide lorry bomb  had managed  to seize back a strategic ruined hospital occupied by Assad loyalists.  Al-Kindi was said to have been  a disused building  and  according to an unconfirmed report, 35 rebels died in the attack . In fact, these  rebels  were a coalition of Free Syrian Army and Jabhat al Nusra, while the  Assad loyalists  were the staff and security guards of a large public hospital.Watch as McCain s  freedom fighters  in Syria drive a suicide truck bomb into the ground level of Al Kindi Cancer Treatment Center in Aleppo:https://www.youtube.com/watch?v=www.youtube.com/watch?v=KCwWgTUpGpE . How many Syrian lives were needlessly cut short as a direct result of that bombing carried out by McCain s own Free Syrian Army? For the cost of McCain s treatment at the world-famous Mayo Clinic, who knows how many Syrians could have received desperately needed treatment at Al Kindi or other similarly crippled facilities in Syria? One hundred, or possibly one thousand?Add to this, how many have died or suffer permanent health afflictions as a direct result of US economic sanctions which have crippled Syria s own National Health Service? One hundred thousand, or maybe five hundred thousand? One million? One day, those figures will be recorded and we will have the answer.The other piece of US legislation currently on the table which Republicans are desperate to pass is the $1-trillion US infrastructure spending package. Juxtapose that scene next to the systematic destruction of Syria s infrastructure by US Coalition and IDF airstrikes and destruction by proxy militant forces on the ground. Estimates for the cost to Syria range from $180 billion to $275 million. If the conflict continues past 2020, then these numbers could easily double.In spite of all this, John McCain claims to have no regrets about the damage that he and his fellow war hawks have inflicted on Syria.The Cancer of ConflictAt the same time that political figures like Barrack Obama dutifully respect the official Washington line on John McCain as the consummate  Vietnam War hero , very few in the establishment would dare to criticize the powerful Arizona Senator for his central role in engineering instability and violent conflict in foreign countries.John McCain sneaks into Syria illegally in May 2013 to meet with known terrorists, promising them weapons and regime change by way US bombs would drop in the Fall of 2013.. Americans should be reminded that more than any other single US official, John McCain has been the driving force behind the training and arming of violent jihadist and terrorists fighting groups in Syria, and that those same terrorists have slaughtered tens of thousands of innocent civilians including women and children in Syria and beyond   all sacrificed at the altar of a US-led geopolitical power play in the Middle East, and in the name of Israeli  security interests. Back in 2012, a delusional McCain, along with another dotty war enthusiast, Connecticut Senator Joe Liberman, insisted that the US needed to arm the  rebels  in Syria in order to  save lives.  Their statement read: The bloodshed must be stopped, and we should rule out no option that could help to save lives. We must consider, among other actions, providing opposition groups inside Syria, both political and military, with better means to organize their activities, to care for the wounded and find safe haven, to communicate securely, to defend themselves, and to fight back against Assad s forces. From the onset of hostilities in 2011, the bold-faced lie that McCain and partner Lindsey Graham have promulgated is that violent jihadists were nothing more than affable  moderate rebels.  That piece of Washington fiction has been widely discredited by now.Later on in 2015, McCain announced that the US should be supplying stinger missiles to the so-called  rebels  in Syria: We certainly did that in Afghanistan. After the Russians invaded Afghanistan, we provided them with surface-to-air capability. It d be nice to give people that we train and equip and send them to fight the ability to defend themselves. That s one of the fundamental principles of warfare as I understand it,  said McCain.Soon after that statement, thousands of US-made TOW Missiles were smuggled into Syria and used by terrorists groups under the command umbrella of Al Nusra.In her recent expos  for Trud Newspaper, Bulgarian journalist Dilyana Gaytandzhieva revealed the massive scale and scope of the illegal US-NATO weapons trafficking operation to arm thousands of terrorist fighters in Syria.Despite the overwhelming destruction in Syria and the abject failure of his policies, McCain has never given up on the policy of illegal weapons trafficking in Syria. Just this week, McCain, Chairman of the Senate Armed Services Committee, openly protested against the Trump Administration s latest announcement to bring an end to the CIA s failed program of illegally arming and training  anti-Assad  terrorists in Syria. Rather than admitting what everyone else in the world seems to know already   that the US  train and equip  program has been a debacle   instead he feigns defiance, while demonstrating a breathtaking level of ignorance by accusing the White House of being part of a Russian conspiracy: If these reports are true, the administration is playing right into the hands of Vladimir Putin.   Making any concession to Russia, absent a broader strategy for Syria, is irresponsible and short-sighted. When promoting their latest war, McCain is normally part of a tandem act, accompanied by his geomancing interest, South Carolina Senator Lindsey Graham, who arguably views the world through an even more deranged, albeit binary comic book prism: Breaking Syria apart from Iran could be as important to containing a nuclear Iran as sanctions. If the Syrian regime is replaced with another form of government that doesn t tie its future to the Iranians, the world is a better place. Like a world view gleaned straight from Ian Fleming s Goldfinger.In his seminal 2008 interview with McCain heading to the GOP presidential nomination, The Atlantic magazine s Jeffrey Goldberg asked,  What do you think motivates Iran? .  to which McCain replied: Hatred. I don t try to divine people s motives. I look at their actions and what they say. I don t pretend to be an expert on the state of their emotions. I do know what their nation s stated purpose is, I do know they continue in the development of nuclear weapons, and I know that they continue to support terrorists who are bent on the destruction of the state of Israel. You ll have to ask someone who engages in this psycho stuff to talk about their emotions. McCain s views on Iraq were even more disturbing, essentially surmising that the invasion and occupation was a good thing, and that we shouldn t have left because  leaving Iraq gave rise to al Qaeda.  OK. Admittedly, it s a bit counter intuitive, but it works for neoconservatives.These statements by McCain and Graham are not admissions made by normal well-adjusted individuals, but rather by cold, dark hearted sociopaths who generally view the lives of Arabs (along with Slavs, Russians and others) as necessary cannon fodder in the pursuit of military industrial profits for a select cadr  of transnational corporate  defense  contractors   whose interests Senator John McCain represents in his home state of Arizona; Boeing, Raytheon, Lockheed Martin, General Dynamics, and the list goes on, and on.The geopolitical hubris doesn t end there, as McCain still maintains   even after 6 years of absolute implosion of his own foreign policy agenda   that removing Syrian President Bashar al Assad from power is still a  key pillar  of the US strategy for Syria. The administration has yet to articulate its vision for Syria beyond the defeat of ISIL, let alone a comprehensive approach to the Middle East,  said McCain this week.The reality, of course, is that ISIL/ISIS could have been defeated already had the US-led  Coalition  and Israel not illegally intervened in Syria territory. Far from doing much to  defeat ISIS  since they have invaded Syrian airspace since 2014, the US has conveniently stretched-out the  ISIS problem  through the extension of its own self-styled international mandate which was originally intended to serve as a precursor to the eventual break-up of Syria into federal states and ethnic cantons. This might explain McCain s rush to enact regime change in Syria before lording over the eventual break-up of the sovereign nation-state.All Things RussianThe other country which McCain is determined break is Russia. Vladimir Putin is a murder and a KGB thug,  crowed McCain on CNN last year, as he protested against positive statements about Russia made by then candidate Trump.Suffice to say, he, along with the boards of Boeing, Raytheon, Lockheed Martin, are all extremely happy about NATO pressing right up against the Russian border in eastern Europe.But 2013 was indeed a busy year for the Senator stirring up trouble internationally. As part of his opening gambit against Moscow, it was McCain who was the driving force behind the US-backed coup d etat in Ukraine in February 2014   which ultimately led to a bloody civil war which continues to this day in the Ukraine. Apparently, this was McCain s way of  stopping Putin. His is a very dodgy track record; whether it s NeoNazis, or Jihadi Terrorists, McCain seems always ready to do a deal with the devil, and that s what makes him particularly dangerous.Below we can see McCain helping to whip-up Nazi-linked, neofascist street mobs in Kiev helping to bring the ensuing junta into power. Some mainstream US pundits have claimed that this never happened, and that it s just a conspiracy theory invented by  Russian propagandists  to discredit McCain. Unfortunately for them   it is true, and here is the photo to prove it:Senator John McCain (AZ) shares the stage in Kiev with far-right, NeoNazi Right Sector strongman, Oleg Tyhanbock, ahead of violent street protests in Ukraine in December of 2013, in advance of the US-backed coup.. Looking back at his erratic and flippant behavior, attacking nearly anyone who even suggested d tente with Russia or that supplying lethal arms to militants in Syria was a bad idea, it s no surprise that cognizant onlookers have questioned whether or not McCain is in a normal frame of mind.Frankly speaking, how could any one in their right mind be so consistently on the wrong side of every issue? How could any politician s judgement be that poor? Unless there was something else going on below the surface The questions didn t stop there. McCain s performance during a recent Senate Intelligence Committee Hearing on  Russian Influence in US Elections  was an embarrassment. Onlookers were stunned when McCain lost the plot during the hearing when asking former FBI Director James Comey: Well, at least in the minds of this member, there s a whole lot of questions remaining about what went on, particularly considering the fact that as you mentioned, it s a  big deal  as to what went on during the campaign, so I m glad you concluded that part of the investigation, but I think that the American people have a whole lot of questions out there, particularly since you just emphasized the role that Russia played. And obviously she was a candidate for president at the time. So she was clearly involved in this whole situation where fake news, as you just described it, is a big deal took place. You re going to have to help me out here. In other words, we re complete, the investigation of anything former Secretary Clinton had to do with the campaign is over and we don t have to worry about it anymore?  to which Comey replied: With respect to   I m a little confused. With respect to Secretary Clinton, we investigated a criminal investigation with her use of a personal email server. McCain then finished digging his own hole by responding: So at the same time you made the announcement there would be no further charges brought against then-Secretary Clinton for any activities involved in the Russia involvement and our engagement and our election. I don t quite understand how you can be done with that but not done with the whole investigation of their attempt to affect the out of come our election. It was clear McCain had no idea what was going on. At that point any reasonable person would have concluded that John McCain had in fact lost his mind   and was no longer fit to serve in public office.  In fact, 21WIRE made this very same case back in 2013 after McCain was caught playing video poker on his iPhone during a Senate Committee where lawmakers were debating the very war of which he is a chief architect. Here is the photo:As stunning displays of ignorance go, the video poker incident was one of McCain s greatest ever, and certainly should have been a warning to everyone that this man had no business making military decisions, let alone litigating war and peace between nuclear superpowers like the United States and Russia.Perhaps an announcement is forthcoming, but it s surprising after being diagnosed with brain cancer at 80 years old   why McCain has not yet announced his resignation from office?It s fair to say that while this Senator is being treated in the world s leading medical facilities, thousands of innocents will have died needlessly because of US sanctions and support for terrorists   all in the name of defense, energy and ever vast corporate profits. Strange as that might sound to some, for those who consider themselves members of a ruling elite and its mandarin management class, that is perfectly acceptable quid pro quo in 2017.After World War II, the military industrial complex and the international arms trade has spread conflict like a disease across the planet, metastasizing in ways, in places, and on a scale which no one could have previously imagined before. Undoubtedly, over the last decade, John McCain has played a key role in spreading that anguish. For the people of Syria, Afghanistan and the Ukraine, that will be his legacy, not the chimerical image of a  maverick  Senator or the  war hero. Once again, we implore the Senator to do the right thing by the American people and for those innocents around the world who have suffered at the hands of an arms industry whose interests John McCain represents Please, just retire.*** READ MORE MCCAIN NEWS AT: 21st Century Wire John McCain FilesSUPPORT 21WIRE  SUBSCRIBE & BECOME A MEMBER @ 21WIRE.TV,\n",
       " President Donald Trump said his administration would be announcing a  big league  tax cut that would lower the burden on businesses within the next two or three weeks.The revelation saw the Dow Jones industrial average rise around 115 points to a record, with Goldman Sachs contributing the most gains. Lowering the overall tax burden on American business is big league, that s coming along very well,  Trump said at the top of a White House meeting with airline industry executives Thursday.  We re way ahead of schedule, I believe. And we re going to be announcing something   I would say over the next two or three weeks   that will be phenomenal. The president s comment had an immediate effect on the value of the U.S. dollar against other currencies.The administration had gotten pushback a day earlier from conservative web site proprietor Matt Drudge, an influential media figure who Trump regularly lauded during the campaign. Republican party should be sued for fraud. NO discussion of tax cuts now. Just lots of crazy. Back to basics, guys!  Drudge tweeted, on a day filled with fallout from the Senate effort to silence liberal Massachusetts Senator Elizabeth Warren.Tax reform has also been a top priority for House Speaker Paul Ryan and others in the GOP congressional majority, which has been anxious to slash taxes and regulations now that it finally has an ally in the White House.Trump has pledged to cut the top corporate tax rate from 35 per cent to 15 per cent, but he offered no details on what his proposal might be. The value of the dollar against the Japanese yen jumped by 1 percentage point after the president s comments, Reuters reported. Airline stocks also spiked after the meeting. All three major market indexes jumped on news of the tax cut timetable.  Daily Mail ,\n",
       " Trevor Noah and The Daily Show had a field day with the feud between Donald Trump and Ted Cruz in one of the funniest segments of 2016 thus far.Birtherism has come back to haunt the Tea Party in a big way as their favored candidate is now dealing with the fact that unlike President Obama, he really wasn t born in the United States. Donald Trump has been happy to point that out as Ted Cruz begins to gain in the polls. And this is comedy gold as far as Noah is concerned. The son of an American mother and a foreign father who graduated from Harvard Law School and dreamed of being president, even though   let s face it, people   he wasn t born in America. That s right, we re talking about Ted Cruz   the Canadian-born Texas senator. This even took Noah by surprise because he  didn t know that this shit could happen to Republicans, as well. Like I thought Republicans were the ones who do this, not the ones who get it done to them. This for me is like hearing that someone roofied Bill Cosby. Noah pointed out the way Trump worked the scandal into conversations and how he is particularly fond of using Twitter to launch attacks. But Noah did not let this be a one-sided scandal. In what could be fodder for Ted Cruz to use in a counterattack, Noah reminded the audience that Donald Trump wants to bang his daughter, which is true because he said he saw it on TV.Indeed, Noah did a segment last year chronicling all of the instances in which Trump has creepily talked about his daughter over the years. You can read all about it here.To conclude, Noah urged everyone to start using the hashtag #DonaldTrumpWantsToBangHisDaughter.Here s the video via Comedy Central.And the 2016 race just keeps getting more entertaining.Featured Image via Screenshot,\n",
       " Bob Schieffer is an old-school newsman. There s no doubt that the former Face the Nationhost leans left, but he is still capable of reporting, you know, the news. That is too much for denizens of the modern MSM to tolerate.On today s Reliable Sources on CNN, Schieffer reported the glaringly obvious truth: that President Trump gave a good speech in Saudi Arabia today. Guest host John Berman had to push back:  you know, Bob, though, that there will be people who look at that last comment you made and say you re normalizing the president. Schieffer gave the perfect response: he wasn t trying to normalize Trump, he was trying to do what reporters [are supposed to] do: report.Watch:,\n",
       " Mark Anderson The Truth HoundThe danger-ridden, tyrannical goal of creating an all-consuming corporate-ruled world superstate dubbed  One World Ltd.  -incrementally advanced since Bilderberg first met in Holland in 1954 under the auspices of Jesuit-trained European consolidator Joseph Retinger and his agent, Prince Bernhard of The Netherlands   explains why Bilderberg goes to such lengths to keep the details of its inner-workings so secret, while functioning as an off-the-grid world networking and planning forum for private governance benefitting the banking and general corporate classes. A core tactic is to parallel but eventually supersede the nation state itself, thereby canceling effective, genuine nationhood altogether.Bilderberg s gatherings, for the record, consist of about 140 mainly North American and European corporate moguls (including select big media), government ministers, treasury officials, parliament members, high-technology leaders, certain royalty (including Bernhard s daughter, Netherlands Queen Beatrix) and central bankers who annually skulk into the world s top hotels, in order to cross-pollinate to pursue One World Ltd. and related financial and political dealings.McMASTER, TWO U.S. SENATORS ATTENDINGIt s highly notable that President Donald Trump s National Security Advisor, H.R. McMaster, is listed as an attendee for this year s Bilderberg meeting June 1-4 in Chantilly, Va., at Westfields Marriot. Other U.S. officials attending who are currently serving in public office are Senators Lindsey Graham (R-S.C.) and Tom Cotton (R-Ark.). While Graham jetted to last year s Bilderberg meeting in Dresden, Germany, Cotton evidently is attending his first-ever Bilderberg meeting.SEE ALSO: BILDERBERG: What s The Big Deal?The 65th Bilderberg gathering this year has 131 participants from 21 countries having confirmed their attendance. The entire attendee and official topic lists (but not necessarily complete) can be found at this link [note on this list the large amount of serving Trump Administration officials, and this year s Bilderberg features more active duty US officials than any other previous meeting].McMaster, Graham and Cotton all share a neo-conservative ideology of aggressively patrolling the world, in conjunction with the UK and the EU, to push Western  democracy  and monopoly capitalism, while fostering hostility toward Iran, Russia and Syria, for the benefit of Zionism, among other things. This fits the Bilderberg credo of using one might say leasing U.S. military power and other influence to control the natural resources and economic machinery of as many nations as possible, while co-opting or overthrowing those nations that stand firm with their own sovereignty.The Virginia gathering marks Bilderberg s first North American meeting in five years. Last year in Germany, according to the group s officially shallow  press release,  they discussed (in their own words):  Artificial Intelligence, Cybersecurity, Chemical Weapons Threats, Current Economic Issues, European Strategy, Globalisation, Greece, Iran, Middle East, NATO, Russia, Terrorism, United Kingdom, USA and U.S. Elections.The group s press releases, a marvel of  revealing simplicity,  typically present bluntly-worded topics, such as  Russia,   Iran   United Kingdom,   European Strategy  and so on. Such topics are clearly indicative of Bilderberg s objectives and concerns for maintaining Western hegemony over Russia and its allies, Iran and Syria, which could include war or the risk of war with Iran and does include targeting Syria under the guise of  fighting  ISIS Continue this story at The Truth HoundNOTE: The May 24 North American premiere of  Bilderberg, the Movie,  produced by researcher and author Daniel Estulin and covered exclusively by The TRUTH HOUND among national mainstream and alternative news outlets, stressed one point that cannot be overstressed: The Bilderberg Group above all is in pursuit of   One World Ltd.  On that note, the movie s promotional flyer asked:  What do people who have $1,000,000,000,000,000 talk about in private? While the Estulin movie itself, of course, could not be filmed, videographer Ron Avery shot footage of Estulin s question-and-answer session immediately afterwards. WATCH: READ MORE BILDERBERG NEWS AT: 21st Century Wire Bilderberg FilesSUPPORT OUR WORK BY SUBSCRIBING & BECOMING A MEMBER @21WIRE.TV,\n",
       " THIS REMINDS ME OF WHEN HILLARY WAS CAMPAIGNING AND PULLED OUT THE ACCENT: ,\n",
       " Sadly, this will be the only reason many women will vote for her. Hillary s crimes will suddenly become a distant memory to many female (and some male) voters. Because when it comes to defending a woman s right to kill her baby, every criminal act Hillary s ever committed takes a backseat There are many on the GOP side thankfully, who are still defending the lives of the most vulnerable among us:Planned Parenthood, the national women s health organization that Hillary Clinton often mentions on the campaign trial, will endorse the 2016 candidate for president on Sunday in New Hampshire.This will be the first time the group, which has been mired in controversy since a series of videos by anti-abortion activists were released in 2015, will endorse in a presidential primary. As a lifelong Planned Parenthood supporter, I m honored to have the endorsement of the Planned Parenthood Action Fund,  Clinton said in response to the endorsement.  There has never been a more important election when it comes to women s health and reproductive rights   and Planned Parenthood s patients, providers, and advocates across the country are a crucial line of defense against the dangerous agenda being advanced by every Republican candidate for president. The group will make the endorsement official at what they are billing as their election kickoff event in Manchester, New Hampshire on Sunday. The group plans to spend at least $20 million in this election cycle, according to a press release.The endorsement was somewhat of a forgone conclusion. Clinton regularly mentions Planned Parenthood on the campaign trail    I will defend a woman s right to choose,  she says   a line that draws applause from Democratic crowds. In Congress and on the campaign trail, Republicans that claim they just hate big government are only too happy to have government step in when it comes to women s bodies and heath,  Clinton said at the New Hampshire Democratic Party s Jefferson-Jackson Dinner in 2015.  It is wrong, and we are not going to stand for it. Planned Parenthood s endorsement, which was first reported by CBS, is sure to draw scorn from Republican presidential candidates, many of whom regularly pledge to defund the group is elected president.In accepting the endorsement, Clinton said the United States needs  a president who has what it takes to stop Republicans from defunding Planned Parenthood and taking away a woman s right to basic health care. If I m elected,  she added,  I will be that president. This is the second national women s health group to back Clinton. NARAL Pro-Choice America PAC endorsed Clinton earlier this week, their president stating that Clinton  has what it takes to fight Republican attacks on women s reproductive rights, and has the vision and experience to ensure women and families thrive. Via: CNN,\n",
       " WASHINGTON   It sits on the Corsica River along the Eastern shore, a 45-acre Russian compound known as the Washington Dacha to those who use it.When it was closed on Thursday as part of the White House s response to what it called Russian interference during the presidential election, questions began to swirl around what took place at the estate in Queen Anne s County. The main reason it was used was to get rid of spy gear, and to possibly have private conversations,  said Pete Earley, author of the book  Comrade J: The Untold Secrets of Russia s Master Spy in America After the End of the Cold War. The property in Centreville, Maryland, consists of two Georgian-style mansions, six guest cottages, a pool and tennis court. It was mainly a retreat for Russian diplomats stationed in Washington according to Earley and wasn t used as a site for spying activities.The site, however, did play a small role in Russian espionage, Earley said.As the story goes, according to Earley, Russian generals at the compound wanted a speed boat to use on the water, but the only one docked there was for diplomats. To sell the Kremlin on the idea of buying a boat for military officers, the generals came up with a plan to use the boat to discard old spy gear. They would take speed boat out into the middle of the river and they would dump all this smashed spy gear into the water,  Earley said.Read more: wtop,\n",
       " Tune in to the Alternate Current Radio Network (ACR) for another LIVE broadcast of  The Boiler Room  starting at 6 PM PST | 9 PM EST every Wednesday. Join us for uncensored, uninterruptible talk radio, custom-made for barfly philosophers, misguided moralists, masochists, street corner evangelists, media-maniacs, savants, political animals and otherwise lovable rascals.Join ACR hosts Hesher, & Spore along with Randy J of 21Wire, Jay Dyer from Jays Analysis, Branko Malic of Kali Tribune fame and Daniel Spaulding of Soul of the East.  Tonight the Boiler Gang is in celebration mode as we ve hit our one year broadcast anniversary, accolades will be given, classic clips will be played and new analysis will be found on Brussels, Syria, Palmyra We re going over media fakery with Jay Dyer an the crew, be it in Brussels, Paris, Boston or San Bernardino.  If you want to participate, bring something interesting to throw into the boiler Join us in the ALTERNATE CURRENT RADIO chat room.BOILER ROOM IS NOT A POLICTALLY CORRECT ZONE! LISTEN TO THE SHOW IN THE PLAYER BELOW   ENJOY! REFERENCE LINKS:,\n",
       " WASHINGTON   Sen. Bernie Sanders wouldn t commit on Sunday to turning over his email list of progressive activists to the Democratic National Committee   a group he dubbed the  establishment s house. The Vermont Independent built up a list of activists throughout his presidential campaign that helped him raise nearly $238 million   largely from small-dollar individual donors.He s been under pressure from some to keep their personal information private from the DNC, which many of his backers believe rigged the presidential race in favor of Hillary Clinton.Pressed twice on CNN s  State of the Union  Sunday whether he d share his distribution list to help unite the Democratic Party, Sanders declined to commit.Instead, he said he ll focus on activism among certain candidates who share a progressive message. We are going to do everything that we can   and we have started that progress   to transform the Democratic Party into a party that stands up for working families,  Sanders said.  So we are going to work to support progressives who are running for the Senate, who are running for the House, who are running   for school board, for city council, for state legislature. His comments follow a tight contest this weekend for DNC chairman. Sanders campaigned for Rep. Keith Ellison, but the Minnesota progressive and early Sanders backer lost in a divided race to Tom Perez, former President Obama s Labor Secretary who had endorsed Clinton.In his first action as chairman, Perez asked Ellison to be his deputy in an effort to bring together a divided party and try to heal 2016 wounds.Read more: NYP,\n",
       " The owner of a masonry business in Colorado is speaking out about his decision to fire more than 30 employees who did not show up for work in support of last week s  Day Without Immigrants  protest.Jim Serowski, the owner of JVS Masonry, told CNN in an interview on Sunday he did nothing wrong and said he warned his employees about the consequences of joining in the protest movement before they actually took the day off.Serowski said he told his employees,  If you re going to stand up for what you believe in you have to be willing to pay the price. On Saturday, Serowski also spoke to his local CBS News affiliate in Denver after one employee made an allegation that his termination felt like racism. Serowski denied the decision to terminate the workers was in any way racially motivated and said he made the decision because the employees violated the company s policy about not showing up to work. He said the decision put his company in a real bind because he had to shutdown two job sites on Thursday due to the protest and he is now risks missing an important construction deadline. They were told, if you no-call-no-show, you don t have a job,  Serowski told the news station.  It s that simple. ,\n",
       "  In almost 7 years this president hasn t learned that words don t stop bullets. He is fundamentally out of touch with human reality, with the reality of history, with the reality of warfare, and Vladimir Putin   ruthless and vicious and ugly though he is   he s the one that s on the side of history, now. Not us. We re clinging to 20th century platitudes, and Putin is changing the world. CHANGING THE WORLD, as we do nothing. Putin is a man of action and God help us   our president is a deer caught in the headlights of history.  ,\n",
       " This is rich! Lois Lerner wants her testimony in an upcoming class-action case to remain sealed. The former IRS official is accused of targeting hundreds of groups due to their conservative beliefs. This is all happening at the same time Republicans just filed charges against Lerner (see below)The Washington Times reported:Former IRS senior executive Lois G. Lerner told a federal court this week that she faces the possibility of death threats if her role in the tax agency s tea party-targeting becomes public, and asked a judge to forever seal her upcoming deposition in a class-action lawsuit brought by hundreds of groups that were targeted.Mr. Lerner and Holly Paz, another figure from the IRS tea party targeting, told the judge they ve already faced  harassment and death threats  before, and said they fear another media firestorm if their version of events from the tea party targeting were to become public.The two women said they are willing to testify, but said they could be putting  their lives in serious jeopardy. Mss. Lerner and Paz have demonstrated that the public dissemination of their deposition testimony would expose them and their families to harassment and a credible risk of violence and physical harm,  they said in documents submitted by their lawyer to Judge Michael R. Barrett.HOUSE REPUBLICANS To File Charges Against The IRS s Lois Lerner Who can forget when Lois Lerner sat smugly before the House panel and plead the 5th She sat there as cool as a cucumber and didn t answer about the IRS targeting of conservatives.Well, now it s time for her to finally be held accountable Truly accountable and NOT pleading the 5th.REMEMBER WHEN WE GOT A PEAK AT HER E-MAILS? YIKES! It s official! Lois Lerner is the bitter b*tch we all knew she was when she took the 5th before Congress. Who s not surprised that she targeted conservatives while she was at the IRS. Remember Lois Lerner? How could you forget. She s the former head of the IRS  Exempted Organizations division who was caught using the agency to target Americans based on their political views.Well we now have snippets from some of her email conversations, and it becomes crystal clear that she targeted conservatives because, well, she really hates conservatives. Clearly the type of person who should be placed in a position of governmental power.From The Hill:Lois Lerner, the central figure in the IRS targeting controversy, called Abraham Lincoln the country s worst president in an email disclosed in a bipartisan Senate report, according to USA Today. Look my view is that Lincoln was our worst president not our best,  Lerner wrote in an email dated March 6, 2014.Lerner, the former IRS director of Exempted Organizations, joked in one email that the 16th president should have just let the South secede, rather than fighting the Civil War. He should [have] let the south go,  Lerner wrote in response to a friend who disparaged Texas as a  pathetic  state.  We really do seem to have [two] different mind sets.  And what is your  mind set  Ms. Lerner? That government officials should target American citizens if they hold political views you don t like?The report also highlighted emails written by Lerner calling conservatives  crazies  and  a holes.  Yes ladies and gentlemen, this is your government. Corrupt beyond belief, shady, unethical, dangerous and vengeful.So why is Lois Lerner not sitting in a jail cell for this clear abuse of power? Because oligarchy.Via: Zero Hedge,\n",
       " The wu$$ification of our military Army ROTC cadets are complaining on message boards that they were pressured to walk in high heels on Monday for an Arizona State University campus event designed to raise awareness of sexual violence against women.The Army openly encouraged participating in April s  Walk A Mile in Her Shoes  events in 2014, but now it appears as though ROTC candidates at ASU were faced with a volunteer event that became mandatory. Attendance is mandatory and if we miss it we get a negative counseling and a  does not support the battalion sharp/EO mission  on our CDT OER for getting the branch we want. So I just spent $16 on a pair of high heels that I have to spray paint red later on only to throw them in the trash after about 300 of us embarrass the U.S. Army tomorrow,  one anonymous cadet wrote on the social media sharing website Imgr, IJReview reported Monday.In a Reddit Army thread on the subject   titled  Okay, who put the cadets up to this?    one user said the claims were legitimate and added,  I just don t understand why [General] Combs would court political controversy like this. Isn t the military supposed to avoid faddish political movement and religious issues. Army ROTC cadets are complaining on message boards that they were pressured to walk in high heels on Monday for an Arizona State University campus event designed to raise awareness of sexual violence against women.The Army openly encouraged participating in April s  Walk A Mile in Her Shoes  events in 2014, but now it appears as though ROTC candidates at ASU were faced with a volunteer event that became mandatory.Via: Washington Times,\n",
       " Here s the link to the hacked emails so you can see for yourself: WIKILEAKS DNC EmailsASKING FOR QUESTIONS FOR TRUMP:Wolf Blitzer needs to go!!!!,\n",
       " While Hillary doubles down on her false claim that the rules were clarified AFTER she left the State Department, we ve got the 5 top rules she broke. But first we need to listen to the masterful liar herself:Hillary Clinton doubles down on defending her email practices:  Rules were not clarified until after I had left. https://t.co/ggH7XtU5Qo  ABC News Politics (@ABCPolitics) May 26, 2016 That investigation is ongoing, but the report identifies five other laws or regulations that Clinton circumvented or failed to follow. They contradict the Clinton campaign s repeated claims that Clinton s email practices at the State Department complied with all relevant rules regarding federal records and information security.Retaining agency records after leaving  Departing officials and employees [may] not remove Federal records from agency custody   36 C.F.R.   1222.24Clinton s personal email address, which she used exclusively as secretary of state, was housed on a private email server in her Chappaqua, N.Y. home. That meant her emails, which are considered federal records, were never in federal custody while she served as secretary. She didn t just retain records after leaving the State Department; those records were never in the department s possession in the first place.Properly archiving agency records  Agencies that allow employees to send and receive official electronic mail messages using a system not operated by the agency must ensure that Federal records sent or received on such systems are preserved in the appropriate agency recordkeeping system.   36 C.F.R.   1236.22(b)Clinton claims that the fact she was sending emails to federal employees using official email accounts meant that those emails were being archived properly. The IG rejected that explanation and concluded that Clinton had violated rules on the preservation of federal records. Secretary Clinton should have preserved any Federal records she created and received on her personal account by printing and filing those records with the related files in the Office of the Secretary,  the IG wrote.Preserving federal records from loss or destruction  All Department employees are   required by law to preserve documentary materials meeting the definition of a record under the Federal Records Act [and are] responsible for creating, using, maintaining, preserving, and disposing of the Department s information and records.   State Department Foreign Affairs ManualClinton has said that she deleted roughly 30,000 emails stored on her server that she deemed of a personal and non-official nature. Neither the State Department nor the records agency has ever seen those emails. We now know that they included messages that were official in nature.The IG report identified a number of such emails to Gen. David Petraeus.  The Department of Defense provided to OIG in September 2015 copies of 19 emails between Secretary Clinton and General David Petraeus on his official Department of Defense email account.  None of those 19 emails were turned over to the State Department.Other deleted Clinton emails included dispatches about the Libyan civil war and the Sept. 11, 2012, terrorist attacks on U.S. diplomatic facilities in the country.Use of department-approved computing devices  It is the Department s general policy that normal day-to-day operations be conducted on an authorized AIS, which has the proper level of security control to provide nonrepudiation, authentication and encryption, to ensure confidentiality, integrity, and availability of the resident information.   State Department Foreign Affairs ManualAccording to the inspector general, Clinton never received department approval to conduct official agency business on her private email server. She never consulted with the proper authorities before doing so. If she had, her email arrangement would have been rejected. According to the current CIO and Assistant Secretary for Diplomatic Security, Secretary Clinton had an obligation to discuss using her personal email account to conduct official business with their offices, who in turn would have attempted to provide her with approved and secured means that met her business needs,  stated the IG report. However, according to these officials, DS and IRM did not and would not approve her exclusive reliance on a personal email account to conduct Department business, because of the restrictions in the FAM and the security risks in doing so. Handling of sensitive-but-unclassified (SBU) information  Where warranted by the nature of the information, employees who will be transmitting SBU information outside of the Department network on a regular basis to the same official and/or most personal addresses, must contact the [information security officials] for guidance in implementing a secure technical solution for those transmissions.   State Department Foreign Affairs Manual Emails exchanged on [Clinton s] personal account regularly contained information marked as SBU,  but she never obtained the required approval for the handling of such information on a personal computing device. Because a security review never occurred,  Secretary Clinton never demonstrated   that her private server or mobile device met minimum information security requirements. Information security officials from Clinton s time at the agency told the IG  that they were not asked to approve or otherwise review the use of Secretary Clinton s server and that they had no knowledge of approval or review by other Department staff. These officials also stated that they were unaware of the scope or extent of Secretary Clinton s use of a personal email account, though many of them sent emails to the Secretary on this account. Read more: WFB,\n",
       " Imagine how many more of these  non-americans  are voting in our elections who haven t been caught! A Texas woman, who is not a citizen of the United States, was arrested Friday for having illegally voted in Dallas County   five times.Rosa Maria Ortega, 35, is presently a resident of the Tarrant County Jail, where she is being held on a $10,000 bond, according to the Dallas-Fort Worth NBC affiliate Channel 5 News, which reported:Ortega is married to an American and is living legally in this country, but is not a citizen and therefore, not qualified to vote, said Harry White, who supervises public integrity and white collar crime investigations for the Tarrant County District Attorney.Ortega applied to vote in Tarrant County and acknowledged on the application form that she was not a citizen, White said. The county rejected her application and notified her she was not qualified to vote.Having learned her lesson that only American citizens may vote in Texas, she re-applied five months later, this time claiming to be a U.S. citizen.Although Ortega never voted in Tarrant country, records indicate that she did so five times in neighboring Dallas county   the earliest in a 2004 Republican primary, the latest in the 2014 Republican primary.Her charges   illegal voting   is a second degree felony, punishable by a two to 20 year prison sentence.A running battle between Republicans and Democrats is centered on voter ID laws. More than 30 states currently have some form of voter ID requirement.Republicans claim that such laws are necessary as a protection against voter fraud.Democrats claim stories of voter fraud are overblown and voter ID laws amount to voter suppression.   Biz Pac Review,\n",
       " Establishment Republican and Never-Trumper Stephen Hayes from the Weekly Standard was having a difficult time Tuesday after Donald Trump won all five east coast primaries. Steve says GOP elites will look for a third party candidate if Cruz cannot beat Trump in Indiana. ,\n",
       " During the first presidential debate, Donald Trump threatened to attack Hillary Clinton with her husband s extramarital affairs. He has spent every day since bragging about how much credit he deserves for not pulling out Bill s infidelities as a weapon against his opponent.In an interview on Thursday, Trump said he  would have had the right  to take aim at the former president and his scandals for two reasons. First of all, said the GOP nominee, Hillary is a big meanie who has said  horrible and false things  about him. Second, Bill is fair game because he has been campaigning on his wife s behalf.Trump also tried to claim that the reason he chose to take such a high road is because Chelsea Clinton was sitting in the front row at the debate and he is such a classy, upstanding guy that he just couldn t bring himself to say those awful things in front of such a sweet young lady.When the reporter asked him why Bill s scandals reflected poorly on Hillary, since she wasn t the one who had actually done anything wrong, Trump s response was as disgusting as every other vile, misogynistic thing that comes out of his mouth. Well, you ll have to figure that out. I think it s pretty simple to figure that out,  Trump replied.Featured image via Spencer Platt/Getty Images,\n",
       " Mark Levin was on Sean Hannity last night discussing immigration and Donald Trump s Iowa press conference. ,\n",
       " Pro-Trump supporters have known the truth for a long time that conservatives are being attacked. Do you have any idea of the number of attacks? You might be shocked to see the list created by The Daily Caller.We feel like it s even more important to know who s behind the effort to attack and silence conservatives in America. There are groups like MoveOn.org and Black Lives Matter that have been instigating violence in a big way. Antifa is the worst with their tactics of extreme violence and destruction.Just as destructive as the violence is the left s effort to hijack the narrative anytime something happens between both sides. It s an Alinsky tactic that the left has been using long before President Trump came on the scene. The only difference now is that they re on overdrive with the attacks on Trump! It s downright scary!Take the The Huffington Post s recent article calling for the execution of Trump and  everyone assisting his agenda. If you ve noticed a hijacking of the narrative on just about everything to do with President Trump then look no further than the attack on his comments yesterday. Trump s words were twisted, replaced and totally misinterpreted. So it shouldn t surprise anyone that you haven t heard much about physical attacks on conservatives what s the left got to gain by telling the truth? Suppression of information is right up there with lying A low as you can get!HERE S THE TRUTH AND IT S SHOCKING:  Protesters jumped on cars, stole hats, fought with and threw eggs at Trump supporters outside a Trump rally in downtown San Jose, Calif. Trump supporters sued San Jose over the violence.July 2016:-A Hillary Clinton supporter lights a flag on fire and attacks a Trump supporter in Pittsburgh.August 2016:-Anti-Trump protesters attacked pushed, spit on and verbally harassed attendees forced to walk a  gauntlet  as they left a Trump fundraiser in Minneapolis, Minn., and beat an elderly man. Protesters also attacked Trump s motorcade. A Tennessee man was assaulted at a garage sale for being a Trump supporter.-A Trump supporter in New Jersey was attacked with a crowbar on the street.September 2016:-Protesters in El Cajon, Calif., chased and beat up a Trump supporter.October 2016:-A GOP office in North Carolina was firebombed and spray painted with  Nazi Republicans get out of town or else. November 2016:-A high school student was attacked after she wrote that she supported Trump on social media. The perpetrator ripped her glasses off and punched her in the face.-The president of Cornell University s College Republicans was assaulted the night after Trump won the election.-Students protesting Trump punched and kicked a Maryland high school student wearing a Make America Great Again hat.-A high school student was arrested in Florida after he punched a classmate for carrying a Trump sign at school.-A group of black men in Chicago attacked a white man while raging against Trump.-Maryland high school students punched a student who was demonstrating in support of Trump, and then kicked him repeatedly while he was on the ground.- You support Trump. You hate Mexicans,  a California high school student yelled at a Trump supporter, before viciously beating the girl.-An anti-bullying ambassador was arrested for shoving a 74-year-old man to the ground in a fight outside Trump tower where people upset over his win had gathered. The woman tied to Black Lives Matter caused the man to hit his head on the sidewalk.-A Texas elementary school student was beaten by his classmates for voting for Trump in a mock election.-Two men punched and kicked a Connecticut man who was standing with an American flag and a Trump sign.December 2016:-A Trump supporter was beaten and dragged by a car.January 2017:-A Trump supporter was knocked unconscious after airport protesters repeatedly beat him on the head.-A Trump supporter was attacked after putting out a fire started by anti-Trump protesters.-When Trump protesters encountered a driver with a pro-Trump flag on his car, they surrounded the vehicle, ripped off and began burning the flag, and pounded the car. They also punctured the tires.February 2017:-California GOP Rep. Tom McClintock had to be escorted to his car after a town hall because of angry protesters. The tires of at least four vehicles were slashed.-Protestors knocked a 71-year-old female staffer for California GOP Rep. Dana Rohrabacher unconscious during a protest outside the representative s office.-Milo Yiannopoulos speech at the University of California-Berkeley was cancelled after rioters set the campus on fire and threw rocks through windows. Milo tweeted that one of his supporters wearing a Trump hat was thrown to the ground and kicked.March 2017:-Masked protesters at Middlebury College rushed AEI scholar and political scientist Charles Murray and professor Allison Stranger, pushing and shoving Murray and grabbing Stranger by her hair and twisting her neck as they were leaving a campus building. Stranger suffered a concussion. Protesters then surrounded the car they got into, rocking it back and forth and jumping on the hood.April 2017:-A parade in Portland, Ore.,was canceled after threats of violence were made against a Republican organization.-Fears of violent protests shut down Ann Coulter s UC Berkeley speech. Campus police had gathered intel on protesters who were planning to commit violence.May 2017:  Republican Rep. Tom Garrett, his family and his dog were targeted by a series of repeated death threats deemed credible by authorities.-FBI agents arrested a person for threatening to shoot Republican Rep. Martha McSally over her support for Trump.-Police in Tennessee charged a woman for allegedly trying to run Republican Rep. David Kustoff off the road.-Police in North Dakota ejected a man after he became physical with Republican Rep. Kevin Cramer at a town hall.-A former professor was arrested after police said they identified him on video beating Trump supporters with a U-shaped bike lock, leaving three people with  significant injuries. June 2017:-James Hodgkinson opened fire on a congressional GOP baseball practice, injuring five, including House Majority Whip Steve Scalise.-Republican Rep. Claudia Tenney received an email threat that read,  One down, 216 to go,  shortly after the shooting at the Republican congressional baseball practice.-A man driving a white Malibu reportedly fired several shots at a man driving a truck displaying a  Make America Great Again  flag in Indiana.,\n",
       " Alert! Alinsky tactics at work here! Remember  Pick a Target? Well, the media and Deep State have picked their target Breitbart News has been exposing H.R. McMaster so now the media and Deep State are going hard after Steve Bannon EVEN HARDER THAN THEY HAD BEEN BEFORE. The media and politicians have been targeting Bannon since the election. They ve been calling him all of the usual names like  Nazi  or  White Supremacist . They re clearly afraid of Bannon because he has the media and the left figured out just like Breitbart did. We re hoping Bannon won t get squeezed out by Kelly and McMaster! This could cause a HUGE policy shift for the Trump presidency. Not good, not good at all for Trump supporters who want America back after 8 awful years of Obama.White House National Security Adviser H.R. McMaster repeatedly refused  say whether he could work with chief strategist Steve Bannon Sunday on  Meet The Press,  dodging the question three times! Three times! This is a Deep State wake up call!IS BANNON ON THE WAY OUT? NOT GOOD!Did you notice that Scaramucci went after President Trump today? AND Steve Bannon? Yes, he was on the morning shows letting it rip on those two!Axios reported Saturday that Bannon has entered President Donald Trump s doghouse and that top officials believe he s part of leaks meant to target McMaster. Bannon was previously executive chairman of Breitbart, and the right-wing website has published a series of stories attacking McMaster in recent weeks.SHOULDN T THE TRUTH COME OUT ON MCMASTER?New Chief of Staff John Kelly has said he will not tolerate the infighting and anonymous comments to the media that characterized predecessor Reince Priebus  tenure, according to Politico.Earlier in the interview, host Chuck Todd asked what was  going on  between him and Bannon. McMaster dismissed the saga as  a lot of noise  and didn t mention Bannon s name.At the end of the interview, Todd repeatedly asked McMaster if he could work together with Bannon, but McMaster wouldn t answer. Can you and Steve Bannon still work together in this White House or not?  Todd asked. I get to work together with a broad range of talented people, and it is a privilege every day to enable the national security team,  McMaster said. You didn t answer. Can you and Steve Bannon work in that same White House?  Todd asked. I am ready to work with anybody who will help advance the president s agenda and advance the security, prosperity of the American people,  McMaster said. Do you believe Steve Bannon does that?  Todd asked. I believe that everyone who works in the White House, who has the privilege, the great privilege every day of serving their nation, should be motivated by that goal,  McMaster said.VIA: WFB ,\n",
       " President Donald Trump does not know anything about foreign policy. Now, it appears, he knows just as little about trade. This is more troubling as one of his selling points was that he was a successful businessman with a global company. You d think that a person with such a vast empire (there are Trump Towers all over the planet) would know a thing or two about the subject. This idea was blown out of the water this week by comments from a German official about Chancellor Angela Merkel s recent visit to Washington, DC.The official told The Times of London, Ten times Trump asked [German chancellor Angela Merkel] if he could negotiate a trade deal with Germany. Every time she replied,  You can t do a trade deal with Germany, only the EU.  On the eleventh refusal, Trump finally got the message,  Oh, we ll do a deal with Europe then.' For a man who claimed to be able to  make the best deals  for the United States with our trading partners, it helps to know who exactly those partners are.As bad as that is, Trump s lack of world knowledge is more than just problematic when it comes to problems the country is dealing with on the other side of the world. Not only has the Trump Administration failed to even nominate an ambassador to South Korea, up until China President Xi Jinping visited him at Mar-a-Lago, he was under the impression that the only thing that had to happen to contain North Korean leader, Kim Jung Un, was have China tell him to behave.North Korea is looking for trouble. If China decides to help, that would be great. If not, we will solve the problem without them! U.S.A.  Donald J. Trump (@realDonaldTrump) April 11, 2017After his visit with Xi, Trump told the Wall Street Journal,  After listening for 10 minutes, I realized it s not so easy. I felt pretty strongly that they had a tremendous power [over] North Korea.   But it s not what you would think. Keep in mind, Trump spent a lot of time during the campaign (and before) touting,  I know China.  He claimed that the combination of the work he has done with the Chinese and the  hundreds of books  he had read about China made him an expert on the region. All of this is odd, given his comments about that short (ten minutes!) conversation. His lack of understanding goes further.After his meeting with Xi, Trump told an interviewer,  Korea actually used to be a part of China. This did not go over well with the South Korean government. South Korean foreign spokesman Cho June-hyuck responded with,  It s a clear fact acknowledged by the international community that, for thousands of years in history, Korea has never been part of China. But wait, there s more.An interview with Fox & Friends makes it appear that Trump really doesn t even know who is running North Korea right now. He told them:I hope things work out well. I hope there s going to be peace, but you know, they ve been talking with this gentleman for a long time. You read Clinton s book, he said,  Oh we made such a great peace deal,  and it was a joke. You look at different things over the years with President Obama. Everybody s been outplayed, they ve all been outplayed by this gentleman and we ll see what happens. But I just don t telegraph my moves.Bill Clinton never dealt with the current leader, he dealt with his father, Kim Jung Il. Getting these facts wrong says a lot. Trump doesn t know who to deal with when it comes to trade with Germany. He seems to have taken his information about Chinese and Korean history from Xi. He doesn t appear to have a clue as to who the leader of North Korean leader. The questions with this president are not  What did he know and when did he know it?  but  Does he know anything and can he be taught? Featured image via Chip Somodevilla/Getty Images,\n",
       " It s a free country, and the nineteen (and counting) members of Congress who are planning to boycott President-elect Trump s inauguration are certainly within their rights. So even is Rep. John Lewis, D-Ga., who said over the weekend that Trump s election (or his presidency) is  illegitimate. That doesn t make his comment true or honorable or helpful to the nation s well-being, but he is free to say it.Reps. Lewis, Jerry Nadler, D-N.Y., Barbara Lee, D-Calif., Katherine Clark, D-Mass., and the other inaugural boycotters are certainly not alone in finding Trump uniquely awful. They are not alone in believing the president-elect has gone out of his way to offend people. Probably they also recognize that, in the safe districts they all represent, an inaugural boycott might even be a political winner.But this is also part of a pattern. Lewis and Lee, along with some other Democratic lawmakers at the time, also boycotted to make a point when President George W. Bush was inaugurated in 2001. The Washington Post reported at the time that Lewis  thought it would be hypocritical to attend Bush s swearing-in because he doesn t believe Bush is the true elected president. Maybe they had a better excuse that time, as there was so much lingering acrimony surrounding the Florida recount. But we re talking about elected members of Congress who have refused to accept two Republican presidencies in a row. Is there always a good enough excuse whenever a Republican wins? At what point is it fair to ask whether some people are just not committed to democratic or legal processes at all unless the results come out as they hope?  Washington ExaminerWatch the video below to see how Democrats protested Bush s inauguration:After skipping Bush's inauguration in '01, @Trish_Regan says there's a pattern of John Lewis's attempts to de-legitimize Presidents! pic.twitter.com/4XZrnNnU62  Trish Regan Intel (@TrishIntel) January 16, 2017,\n",
       "  Shia Labeouf maniacally screams \"he will not divide us!\" in a Trump supporter's face thereby becoming the physical embodiment of division. pic.twitter.com/vwCUn6acNL  Paul Joseph Watson (@PrisonPlanet) January 22, 2017Commencing at 9am on January 20, 2017, the day of the inauguration of the 45th President of the United States, the public is invited to deliver the words  HE WILL NOT DIVIDE US  into a camera mounted on a wall outside the Museum of the Moving Image, New York, repeating the phrase as many times, and for as long as they wish.Open to all, 24 hours a day, seven days a week, the participatory performance will be live-streamed continuously for four years, or the duration of the presidency. In this way, the mantra  HE WILL NOT DIVIDE US  acts as a show of resistance or insistence, opposition or optimism, guided by the spirit of each individual participant and the community.,\n",
       " If you wanted to see how low the Trump campaign would go to win, look no further than the stunt they pulled at the second presidential debate. For weeks the Trump campaign had been hinting they would invite Bill Clinton s alleged  victims  to the debates, but they teetered when GOP establishment shut them down.Well, at the second debate, they did just that. They invited four women, including Paula Jones and Juanita Broaddrick, to sit front and center as the two candidates squared off.One victim, however, wasn t a victim of Bill Clinton. She, Kathy Shelton, was the victim of Thomas Alfred Taylor, a rapist Hillary Clinton was assigned to represent in the 1970s.Clinton represented her client, begrudgingly and reluctantly, but had to uphold her oath as an attorney to represent her client to the best of her ability. It worked.Yet Shelton still blames Clinton, accusing her of crossing the ethical boundaries beholden to an attorney (she didn t   or she would have been disbarred). So what did the Trump campaign do? They paid Shelton $2,500 to record an in-depth interview with her regarding her experiences with Hillary.The money was funneled by Roger Stone, the insane and graphically vile Trump ally, through his PAC, Committee to Restore America s Greatness.So now the Trump campaign is buying off Hillary haters and coordinating directly with PACs.According the Associated Press:Stone has arranged to pay other women critical of the Clintons.Earlier this year, Stone sought to raise money to pay off the mortgage of Kathleen Willey, who accused Bill Clinton of making unwanted sexual advances toward her during her time as a volunteer in his White House in the 1990s. Stone claimed in an online video interview that Trump had personally contributed to the fund.Trump s campaign has not endorsed Stone s political action committee, and has sent the group a cease and desist letter. The campaign has denied that Trump gave money to Willey s mortgage fund.Classy, Republicans. Real classy. Buying victims of childhood sex abuse to smear a qualified woman while their own candidate admits, on tape, to sexually assaulting women. Republicans have forfeited the right to call themselves the party of family values and morality.Kathy Shelton is once again being victimized, this time by a national political party who can t win on ideas, so they have to win on disgusting tactics like this.How much lower will they sink?Featured image via Scott Olson/Getty Images,\n",
       " A Muslim high school student in Rancho Cucamonga, California, received an apology from officials at her school after she was misidentified as  Isis Phillips  in her yearbook. The Council on American-Islamic Relations is slamming the school, is calling for an investigation of the incident, and plans to send a legal team to meet with the school district.The incident fits in with a pattern of recent events in America.Bayan Zehlif, a junior at Los Osos, was photographed for the yearbook wearing a hijab. She posted the photo from the yearbook with the incorrect caption on Facebook and Twitter, according to the Los Angeles Times. I am extremely saddened, disgusted, hurt and embarrassed that the Los Osos High School yearbook was able to get away with this,  Zehlif wrote on Facebook.  Apparently, I am  Isis  in the yearbook. The school reached out to me and had the audacity to say that this was a typo. I beg to differ, let s be real. One of her fellow students told the NY Daily News that Zehlif was overreacting, and that it was simply an innocent mistake. But it is quite a coincidence for that name to be attached to a Muslim student.In recent years conservatives have led efforts to attack Muslims across America, to the point where leading officials like President Obama have had to intervene to make it clear that Muslims have and will continue to be part of the fabric of America.In a similar case, a Muslim student who made a clock and brought it to school was accused of making a bomb. President Obama invited him to the White House, pointing out that children should be encouraged to be interested in fields like engineering, not demonized.At the same time, presumptive Republican presidential candidate Donald Trump has opposed allowing Syrian war refugees into the United States, and favors a ban on Muslim immigration to the country   a proposal supported by a majority of Republican voters.Recent attacks on immigrants have also traced their inspiration to speeches and comments from Trump, including high school students who yelled racial epithets at Latino students. That is the sort of atmosphere Bayan Zehlif is growing up in, so it might be hard for her to believe this ISIS incident was just a mistake.Featured image via Flickr,\n",
       " Just a few years after Republicans shut down the government. Then came so close to defaulting on America s debts that the nation s credit rating was reduced. Then nominated a reality television star and serial liar as president. Then elected said reality television star and serial liar to actually be president even after a tape was released where he bragged about sexual assault. Republican Representative Tom Rooney had an epiphany: Maybe  maybe the Republican Party is a joke?It may seem obvious to some, but even Republicans themselves are starting to question whether or not the GOP has a single good idea in years.Rooney s epiphany came after he watched how his party botched a healthcare reform bill that the GOP had spent seven years promising to pass. From start to finish, the effort was a spectacular failure. The bill itself was a rush job and so poorly constructed that an independent assessment of its effects found that it would result in 24 million fewer people having insurance while also not saving the country any money. The bill s popularity hovered around 17%. Then the right-wing section of the Republican Party actually revolted against the bill because it didn t kick more people off of insurance. Then Trump demanded the GOP prove its loyalty to him by passing the bill anyway   and nobody listened. The bill failed before it even got a vote, humiliating both Trump and House Speaker Paul Ryan.Republicans, including Rooney, were shook. So much so that Rooney began saying the one thing you as a Republican are never supposed to say aloud.As the prospect of a loss became more real on Friday, the frustrations of GOP lawmakers loyal to the leadership began to boil over.  I ve been in this job eight years, and I m wracking my brain to think of one thing our party has done that s been something positive, that s been something other than stopping something else from happening,  Representative Tom Rooney of Florida said in an interview.  We need to start having victories as a party. And if we can t, then it s hard to justify why we should be back here. Like many Americans, it s slowly dawning on Republicans that they really are the  Party of No.  Obstructionists. Haters. Fanatics. But not lawmakers.And Rooney wasn t the only one. The healthcare bill implosion was so incredible that other conservatives were having similar thoughts:GOP aide on CapHill: \"I'm starting to think that while we're pretty good at winning elections, we're not great at the whole governing thing\"  Alex Roarty (@Alex_Roarty) March 24, 2017 Not great at the whole governing thing  could very well be the official Republican motto.Featured image via Chip Somodevilla/Getty Images,\n",
       " Obama can be seen addressing a crowd about religion and the role it plays in our lives and in politics. The most interesting line comes at the beginning of the video when he tells the crowd America is no longer a Christian nation:  We are no longer a Christian nation. At least not  just ! Which passages of scripture should guide our public policy?   At some fundamental level, religion does not allow for compromise. It s the art of the impossible. If God s spoken, then followers are expected to live up to God s edicts regardless of the consequences. Barack Obama goes on to criticize his interpretation of several passages in the Bible suggesting God s word is ridiculous and needs to be examined and challenged ,\n",
       " Jon Ritzheimer, infamous hater of Muslims and one of the terrorists responsible for the occupation of the Malheur National Wildlife Refuge in Oregon, managed to escape the arrests made Tuesday by federal agents of ringleader Ammon Bundy and his band of right-wing nutjobs.According to a post on his Facebook page, Ritzheimer had returned to his home in Arizona to visit with his family:That was, of course, the real reason Ritzheimer was part of the occupation to begin with: Money. After his armed protest of a mosque in Arizona failed to bring in the $10 million he said he needed for  security upgrades,  Ritzheimer began appearing at idiotic  movements  all over the place. His last was the Bundy fiasco in Oregon. Ritzheimer has proven he will go out of his way to find a reason to beg for money, and this was no different. Before turning himself in, he released this video on his Facebook page, along with yet another plea for help for  legal fees  and for help for his family, who he clearly can t support.Ritzheimer has proven he will go out of his way to find a reason to beg for money, and this was no different. Before turning himself in, he released this video on his Facebook page. It s a real tear-jerker anytime you see a man who has repeatedly abandoned his family to fight for stupidity a thousand miles away:https://www.facebook.com/scrappyphx.rider/videos/474428609411611/?autoplay_reason=gatekeeper&video_container_type=0&app_id=6628568379Along with the video was yet another post, complete with a link for donations. Apparently Ritzheimer was pretty well prepared to NOT die for the cause:That s all he wants. A couple of weeks ago all he wanted was to die for the cause. Now all he wants is the government to play by his rules. Let s be honest, Jon   all you want is money.There s no official word yet on Ritzhewimer s arrest or bail requirements. Addicting Info will update this story as more information becomes available.Featured image via file photo,\n",
       " Well, that didn t take long. Look for the first beastiality marriage license request in 5 4 3 2 1 Nathan Collier said he was inspired by the recent Supreme Court decision that made marriage equal. He said he was particularly struck by the words of dissenting Chief Justice John Roberts who claimed giving gay couples the right to marry, might inspire polygamy.And so this week, Mr Collier and his two wives, Victoria and Christine, entered a courthouse in Billings, Montana, and sought an application to legalise the trio s polygamous union, Right now we re waiting for an answer,  Mr Collier told The Independent.  I have two wives because I love two women and I want my second wife to have the same legal rights and protection as my first. He added:  Most people are not us. I am not trying to define what marriage means for anybody else   I am trying to define what marriage means for us. The practice of bigamy   holding multiple marriage licences   is outlawed in all 50 of the US states, Montana among them. But Mr Collier said he planned to sue if his application was denied.Mr Collier said he was former Mormon who had been excommunicated for polygamy and now owned a refrigeration business in Billings.He married his first wife, Victoria, 40, in 2000. The 46-year-old, who appeared in the reality TV show Sister Wives, held a religious ceremony to marry second wife, Christine, in 2007 but did not sign a marriage license to avoid bigamy charges.His first wife, Victoria, said that she and her husband s second wife got along  like sisters .Via: Independent UK,\n",
       " Florida s toxic and dangerous  stand your ground  gun culture nearly claimed the lives of two more children. Their only  crime  appears to have been that they were playing the popular Pok mon Go mobile game.A gun owner in Palm Coast, Florida, heard a noise at 1:30 in the morning, looked outside and saw a white car parked outside his house.He grabbed his handgun and went outside to investigate. As he came up to the car, he overheard one of the two teens say  did you get anything?  Troiano said.That s when the man stepped in front of the vehicle, thinking they had possibly broken into his home, raised his gun and ordered them not to move, officials said.The vehicle sped towards him and he moved out of its path. He then fired rounds at the vehicle because he said it  was attempting to strike him,  Troiano said.The next day the mother of the teens, ages 19 and 16, called police to tell them that the teens hadn t told her what had happened until they discovered a flat tire and bullet holes in the rear tire, hubcap, and fender.Florida s  stand your ground  law is part of what is called the  castle doctrine.  It is the result of a lobbying campaign by the NRA and the right-wing group American Legislative Exchange Council (ALEC) to push dangerous gun policies in the states. The  stand your ground  doctrine is on the books in 25 states as a result.It essentially gives shooters carte blanche to fire at and kill people without being prosecuted, they simply have to say they felt threatened within their home and escape being prosecuted for murder or civil liabilities in a lawsuit related to the incident. Stand your ground  most notably was invoked in the trial of George Zimmerman for the shooting death of teenager Trayvon Martin, a case that also occurred in Florida.If the teens playing Pok mon Go had been killed in this incident, it is highly possible that the shooter could have invoked the law and escaped prosecution for their death. The mix of silly teens playing a video game and an easily accessible gun could have been a disaster.Featured image via YouTube/Wikimedia,\n",
       " As Politico reports an almost neck-and-neck race between Hillary Clinton and Bernie Sanders, the Los Angeles Times has endorsed the former Secretary of State before the critical primary on June 7.The editorial board laid out plainly their support for Clinton, highlighting her ability to get the job done in the face of rising populism:As all the world knows, Clinton would be the first woman elected president of the United States. That would be a joyous, long-awaited, landmark moment in American history after centuries of discrimination and second-class status for half the population. But the real reason to support her is that she is the Democratic candidate most likely to get the job done.As the mainstream media is peddling a completely false narrative that Clinton s support is unexcited or unenthusiastic, the Los Angeles Times destroys that now hackneyed talking point:[C]linton s candidacy might seem unexciting. But nominating a candidate for president is, or ought to be, serious business. As Obama himself likely would admit after almost eight years in the White House, there is more to being president than grand promises, whether they are about  hope and change  or a political revolution. We admire Bernie Sanders  passion for progress and equality, but our endorsement goes to the candidate who is more likely to translate ideals into action.Sanders and Clinton have been fighting hard to win over the California electorate, which offers up just under 550 delegates. Nate Silver s FiveThirtyEight currently gives Clinton a 97 percent chance of winning the state, but Sanders has shown to be as competitive as ever.The Times pointed out that Sanders  popular rhetoric amongst younger voters have made him a very formidable candidate who should be taken seriously, not brushed aside even heading into the convention (assuming Clinton clinches the magic number of delegates to win). Saying that he has made the race more substantive and he has drawn Clinton to he left, the board seriously doubted his ability to bring Republicans to the table.But that s not to say he couldn t.On the last day of registration, over 150,000 new citizens were admitted on the rolls, 42 percent of which were between the ages of 18 and 34, a good sign for Senator Sanders. Sanders also has outspent Clinton in critical metropolitan areas all across the state, including Los Angeles, Anaheim, San Diego and so forth.As the primary winds down, California will be the seemingly final hurrah in a long battle between the two progressive candidates, with one victor walking away as the nominee for president come July.Featured image via Justin Sullivan/Getty Images,\n",
       " This is not some small obscure community college. Disallowing our law enforcement to attend a school sponsored event in favor of protecting lawbreakers is a BIG deal! This school with over 30,000 students has managed to marginalize these brave men and women who put their lives on the line every day to protect and defend our borders!U.S. Customs and Border Protection (CBP) has reversed its decision to participate in a career fair at the University of California-Irvine in response to a petition signed by hundreds of students.According to the New University student newspaper, CBP s withdrawal represents an unexpected victory for student activists, whose claims that the Border Patrol s involvement in the Fall Career Fair this Thursday would be insensitive to undocumented students had previously failed to convince the university to rescind the agency s invitation. Organizations like the US Customs and Border Patrol are the organizations that are tasked with various roles including targeting Undocumented Communities, which is against the nature of our campus s values for welcoming communities regarding their background,  Associated Students of UC Irvine (ASUCI) President Parshan Khosravi wrote in an email to the Career Center Sunday night. This message right now is saying that undocumented students are not welcome,  he asserted, adding,  That s the type of message that I do not want to see as someone who is a student on this campus, as someone who is a student leader on this campus, and [as] someone who believes in [sic] the values of our campus are inclusivity and a safe space. The next day, Monday morning, student Amy Yu and another individual visited the Career Center in person to voice their concerns directly to administrators. Despite their warnings that undocumented students might experience trauma and discomfort from such close proximity to law enforcement, though, the Center refused to disinvite CBP, explaining that the purpose of the fair is to provide job opportunities for all students. We care about and value all students. We have a diverse student body made up of individuals with many wonderful talents and personal values,  Career Center Director Suzanne Helbig told New University.  To serve all students, we bring employers to campus and let students use their own judgement to decide which ones fit their skills, interests, and values. Undeterred by the Career Center s response, Yu proceeded to create a Change.org petition in the hope of effecting CBP s removal by appealing to a higher authority. We, as students from UC Irvine, are demanding that the   CBP be removed as participants [sic] for the upcoming Fall Career Fair,  the petition states.  The undocumented community is directly affected by deportation and detention policies that are carried out by Border Patrol, and having Border Patrol agents on campus is a blatant disregard to undocumented students  safety and well-being. Prior to being closed amidst declarations of victory Wednesday, the petition had garnered 659 signatures in roughly two days, which was apparently enough for CBP to decide that participating in the jobs fair was not worth enduring a potentially hostile reception from UC-Irvine students. As of this morning, U.S. Customs & Border Patrol has decided not to attend the campus Career Fair on Thursday, Oct. 22,  UC-Irvine senior director of communications Cathy Lawhon told The College Fix Wednesday.  However, the agency will continue to utilize UCI s Career Center on-line job postings system to list available positions for those students interested in working with CBP. While undocumented students may rejoice, though, others are less thrilled about losing the chance to engage with the largest law enforcement agency in the world. I feel that these efforts are an attempt to politicize a jobs fair that is supposed to help college students find much needed work once they graduate,  UC Irvine s College Republicans President Rob Petrosyan told The College Fix.  If you don t approve of U.S. Customs, don t apply to work for them, it s that simple. Via: Campus Reform]"
      ]
     },
     "execution_count": 34,
     "metadata": {},
     "output_type": "execute_result"
    }
   ],
   "source": [
    "fake_spacydocs"
   ]
  },
  {
   "cell_type": "code",
   "execution_count": 35,
   "id": "a32f60fc-e912-415b-812f-00a3bfc0e1f2",
   "metadata": {},
   "outputs": [],
   "source": [
    "# function to extract the tags for each of the documents in our data to each of the rows of our dataframe\n",
    "\n",
    "def extract_token_tags(doc:spacy.tokens.doc.Doc):\n",
    "    return[(i.text, i.ent_type_, i.pos_) for i in doc]"
   ]
  },
  {
   "cell_type": "code",
   "execution_count": 36,
   "id": "6c683baa-9a92-420e-bf90-0cfe480ed710",
   "metadata": {},
   "outputs": [],
   "source": [
    "# tagging dataset\n",
    "\n",
    "fake_tagsdf = []\n",
    "columns = ['token', 'ner_tag', 'pos_tag']"
   ]
  },
  {
   "cell_type": "code",
   "execution_count": 37,
   "id": "bcb23e95-d4d7-4af4-9317-18c5d50602d3",
   "metadata": {},
   "outputs": [],
   "source": [
    "for ix, doc in enumerate(fake_spacydocs):\n",
    "    tags = extract_token_tags(doc)\n",
    "    tags = pd.DataFrame(tags)\n",
    "    tags.columns = columns\n",
    "    fake_tagsdf.append(tags)"
   ]
  },
  {
   "cell_type": "code",
   "execution_count": 38,
   "id": "f7f3993a-aba1-4f09-abda-c5c6661b8ea0",
   "metadata": {},
   "outputs": [],
   "source": [
    "fake_tagsdf = pd.concat(fake_tagsdf)"
   ]
  },
  {
   "cell_type": "code",
   "execution_count": 39,
   "id": "3d5d1e88-d90f-4ac1-9152-bec68d31e495",
   "metadata": {},
   "outputs": [],
   "source": [
    "fact_tagsdf = []\n",
    "\n",
    "for ix, doc in enumerate(fact_spacydocs):\n",
    "    tags = extract_token_tags(doc)\n",
    "    tags = pd.DataFrame(tags)\n",
    "    tags.columns = columns\n",
    "    fact_tagsdf.append(tags)"
   ]
  },
  {
   "cell_type": "code",
   "execution_count": 40,
   "id": "31d19a07-34df-43ff-a985-cbabe9d29de9",
   "metadata": {},
   "outputs": [],
   "source": [
    "fact_tagsdf = pd.concat(fact_tagsdf)"
   ]
  },
  {
   "cell_type": "code",
   "execution_count": 41,
   "id": "ea1ccf4e-a422-4639-9206-095734a40077",
   "metadata": {},
   "outputs": [
    {
     "data": {
      "text/html": [
       "<div>\n",
       "<style scoped>\n",
       "    .dataframe tbody tr th:only-of-type {\n",
       "        vertical-align: middle;\n",
       "    }\n",
       "\n",
       "    .dataframe tbody tr th {\n",
       "        vertical-align: top;\n",
       "    }\n",
       "\n",
       "    .dataframe thead th {\n",
       "        text-align: right;\n",
       "    }\n",
       "</style>\n",
       "<table border=\"1\" class=\"dataframe\">\n",
       "  <thead>\n",
       "    <tr style=\"text-align: right;\">\n",
       "      <th></th>\n",
       "      <th>token</th>\n",
       "      <th>ner_tag</th>\n",
       "      <th>pos_tag</th>\n",
       "    </tr>\n",
       "  </thead>\n",
       "  <tbody>\n",
       "    <tr>\n",
       "      <th>0</th>\n",
       "      <td>There</td>\n",
       "      <td></td>\n",
       "      <td>PRON</td>\n",
       "    </tr>\n",
       "    <tr>\n",
       "      <th>1</th>\n",
       "      <td>are</td>\n",
       "      <td></td>\n",
       "      <td>VERB</td>\n",
       "    </tr>\n",
       "    <tr>\n",
       "      <th>2</th>\n",
       "      <td>two</td>\n",
       "      <td>CARDINAL</td>\n",
       "      <td>NUM</td>\n",
       "    </tr>\n",
       "    <tr>\n",
       "      <th>3</th>\n",
       "      <td>small</td>\n",
       "      <td></td>\n",
       "      <td>ADJ</td>\n",
       "    </tr>\n",
       "    <tr>\n",
       "      <th>4</th>\n",
       "      <td>problems</td>\n",
       "      <td></td>\n",
       "      <td>NOUN</td>\n",
       "    </tr>\n",
       "  </tbody>\n",
       "</table>\n",
       "</div>"
      ],
      "text/plain": [
       "      token   ner_tag pos_tag\n",
       "0     There              PRON\n",
       "1       are              VERB\n",
       "2       two  CARDINAL     NUM\n",
       "3     small               ADJ\n",
       "4  problems              NOUN"
      ]
     },
     "execution_count": 41,
     "metadata": {},
     "output_type": "execute_result"
    }
   ],
   "source": [
    "fake_tagsdf.head()"
   ]
  },
  {
   "cell_type": "code",
   "execution_count": 42,
   "id": "85c13b74-1aac-40bd-9413-744eabbac7b6",
   "metadata": {},
   "outputs": [
    {
     "data": {
      "text/html": [
       "<div>\n",
       "<style scoped>\n",
       "    .dataframe tbody tr th:only-of-type {\n",
       "        vertical-align: middle;\n",
       "    }\n",
       "\n",
       "    .dataframe tbody tr th {\n",
       "        vertical-align: top;\n",
       "    }\n",
       "\n",
       "    .dataframe thead th {\n",
       "        text-align: right;\n",
       "    }\n",
       "</style>\n",
       "<table border=\"1\" class=\"dataframe\">\n",
       "  <thead>\n",
       "    <tr style=\"text-align: right;\">\n",
       "      <th></th>\n",
       "      <th>token</th>\n",
       "      <th>ner_tag</th>\n",
       "      <th>pos_tag</th>\n",
       "    </tr>\n",
       "  </thead>\n",
       "  <tbody>\n",
       "    <tr>\n",
       "      <th>0</th>\n",
       "      <td>WASHINGTON</td>\n",
       "      <td>GPE</td>\n",
       "      <td>PROPN</td>\n",
       "    </tr>\n",
       "    <tr>\n",
       "      <th>1</th>\n",
       "      <td>(</td>\n",
       "      <td></td>\n",
       "      <td>PUNCT</td>\n",
       "    </tr>\n",
       "    <tr>\n",
       "      <th>2</th>\n",
       "      <td>Reuters</td>\n",
       "      <td>ORG</td>\n",
       "      <td>PROPN</td>\n",
       "    </tr>\n",
       "    <tr>\n",
       "      <th>3</th>\n",
       "      <td>)</td>\n",
       "      <td></td>\n",
       "      <td>PUNCT</td>\n",
       "    </tr>\n",
       "    <tr>\n",
       "      <th>4</th>\n",
       "      <td>-</td>\n",
       "      <td></td>\n",
       "      <td>PUNCT</td>\n",
       "    </tr>\n",
       "  </tbody>\n",
       "</table>\n",
       "</div>"
      ],
      "text/plain": [
       "        token ner_tag pos_tag\n",
       "0  WASHINGTON     GPE   PROPN\n",
       "1           (           PUNCT\n",
       "2     Reuters     ORG   PROPN\n",
       "3           )           PUNCT\n",
       "4           -           PUNCT"
      ]
     },
     "execution_count": 42,
     "metadata": {},
     "output_type": "execute_result"
    }
   ],
   "source": [
    "fact_tagsdf.head()"
   ]
  },
  {
   "cell_type": "code",
   "execution_count": 43,
   "id": "57c275e4-ff2a-4ca8-8186-0a9fa312d9e6",
   "metadata": {},
   "outputs": [
    {
     "data": {
      "text/html": [
       "<div>\n",
       "<style scoped>\n",
       "    .dataframe tbody tr th:only-of-type {\n",
       "        vertical-align: middle;\n",
       "    }\n",
       "\n",
       "    .dataframe tbody tr th {\n",
       "        vertical-align: top;\n",
       "    }\n",
       "\n",
       "    .dataframe thead th {\n",
       "        text-align: right;\n",
       "    }\n",
       "</style>\n",
       "<table border=\"1\" class=\"dataframe\">\n",
       "  <thead>\n",
       "    <tr style=\"text-align: right;\">\n",
       "      <th></th>\n",
       "      <th>token</th>\n",
       "      <th>pos_tag</th>\n",
       "      <th>counts</th>\n",
       "    </tr>\n",
       "  </thead>\n",
       "  <tbody>\n",
       "    <tr>\n",
       "      <th>28</th>\n",
       "      <td>,</td>\n",
       "      <td>PUNCT</td>\n",
       "      <td>1908</td>\n",
       "    </tr>\n",
       "    <tr>\n",
       "      <th>7446</th>\n",
       "      <td>the</td>\n",
       "      <td>DET</td>\n",
       "      <td>1834</td>\n",
       "    </tr>\n",
       "    <tr>\n",
       "      <th>39</th>\n",
       "      <td>.</td>\n",
       "      <td>PUNCT</td>\n",
       "      <td>1531</td>\n",
       "    </tr>\n",
       "    <tr>\n",
       "      <th>5759</th>\n",
       "      <td>of</td>\n",
       "      <td>ADP</td>\n",
       "      <td>922</td>\n",
       "    </tr>\n",
       "    <tr>\n",
       "      <th>2661</th>\n",
       "      <td>and</td>\n",
       "      <td>CCONJ</td>\n",
       "      <td>875</td>\n",
       "    </tr>\n",
       "    <tr>\n",
       "      <th>2446</th>\n",
       "      <td>a</td>\n",
       "      <td>DET</td>\n",
       "      <td>804</td>\n",
       "    </tr>\n",
       "    <tr>\n",
       "      <th>0</th>\n",
       "      <td></td>\n",
       "      <td>SPACE</td>\n",
       "      <td>795</td>\n",
       "    </tr>\n",
       "    <tr>\n",
       "      <th>7523</th>\n",
       "      <td>to</td>\n",
       "      <td>PART</td>\n",
       "      <td>767</td>\n",
       "    </tr>\n",
       "    <tr>\n",
       "      <th>4915</th>\n",
       "      <td>in</td>\n",
       "      <td>ADP</td>\n",
       "      <td>667</td>\n",
       "    </tr>\n",
       "    <tr>\n",
       "      <th>5094</th>\n",
       "      <td>is</td>\n",
       "      <td>AUX</td>\n",
       "      <td>419</td>\n",
       "    </tr>\n",
       "  </tbody>\n",
       "</table>\n",
       "</div>"
      ],
      "text/plain": [
       "     token pos_tag  counts\n",
       "28       ,   PUNCT    1908\n",
       "7446   the     DET    1834\n",
       "39       .   PUNCT    1531\n",
       "5759    of     ADP     922\n",
       "2661   and   CCONJ     875\n",
       "2446     a     DET     804\n",
       "0            SPACE     795\n",
       "7523    to    PART     767\n",
       "4915    in     ADP     667\n",
       "5094    is     AUX     419"
      ]
     },
     "execution_count": 43,
     "metadata": {},
     "output_type": "execute_result"
    }
   ],
   "source": [
    "# Token frequency count\n",
    "pos_counts_fake = fake_tagsdf.groupby(['token', 'pos_tag']).size().reset_index(name='counts').sort_values(by='counts', ascending=False)\n",
    "pos_counts_fake.head(10)"
   ]
  },
  {
   "cell_type": "code",
   "execution_count": 44,
   "id": "0b1f96e4-4eb8-48c2-8ccd-694d310b1c34",
   "metadata": {},
   "outputs": [
    {
     "data": {
      "text/html": [
       "<div>\n",
       "<style scoped>\n",
       "    .dataframe tbody tr th:only-of-type {\n",
       "        vertical-align: middle;\n",
       "    }\n",
       "\n",
       "    .dataframe tbody tr th {\n",
       "        vertical-align: top;\n",
       "    }\n",
       "\n",
       "    .dataframe thead th {\n",
       "        text-align: right;\n",
       "    }\n",
       "</style>\n",
       "<table border=\"1\" class=\"dataframe\">\n",
       "  <thead>\n",
       "    <tr style=\"text-align: right;\">\n",
       "      <th></th>\n",
       "      <th>token</th>\n",
       "      <th>pos_tag</th>\n",
       "      <th>counts</th>\n",
       "    </tr>\n",
       "  </thead>\n",
       "  <tbody>\n",
       "    <tr>\n",
       "      <th>6169</th>\n",
       "      <td>the</td>\n",
       "      <td>DET</td>\n",
       "      <td>1903</td>\n",
       "    </tr>\n",
       "    <tr>\n",
       "      <th>15</th>\n",
       "      <td>,</td>\n",
       "      <td>PUNCT</td>\n",
       "      <td>1698</td>\n",
       "    </tr>\n",
       "    <tr>\n",
       "      <th>22</th>\n",
       "      <td>.</td>\n",
       "      <td>PUNCT</td>\n",
       "      <td>1381</td>\n",
       "    </tr>\n",
       "    <tr>\n",
       "      <th>4733</th>\n",
       "      <td>of</td>\n",
       "      <td>ADP</td>\n",
       "      <td>884</td>\n",
       "    </tr>\n",
       "    <tr>\n",
       "      <th>1905</th>\n",
       "      <td>a</td>\n",
       "      <td>DET</td>\n",
       "      <td>789</td>\n",
       "    </tr>\n",
       "    <tr>\n",
       "      <th>2100</th>\n",
       "      <td>and</td>\n",
       "      <td>CCONJ</td>\n",
       "      <td>757</td>\n",
       "    </tr>\n",
       "    <tr>\n",
       "      <th>4015</th>\n",
       "      <td>in</td>\n",
       "      <td>ADP</td>\n",
       "      <td>672</td>\n",
       "    </tr>\n",
       "    <tr>\n",
       "      <th>6230</th>\n",
       "      <td>to</td>\n",
       "      <td>PART</td>\n",
       "      <td>660</td>\n",
       "    </tr>\n",
       "    <tr>\n",
       "      <th>4761</th>\n",
       "      <td>on</td>\n",
       "      <td>ADP</td>\n",
       "      <td>482</td>\n",
       "    </tr>\n",
       "    <tr>\n",
       "      <th>5586</th>\n",
       "      <td>said</td>\n",
       "      <td>VERB</td>\n",
       "      <td>452</td>\n",
       "    </tr>\n",
       "  </tbody>\n",
       "</table>\n",
       "</div>"
      ],
      "text/plain": [
       "     token pos_tag  counts\n",
       "6169   the     DET    1903\n",
       "15       ,   PUNCT    1698\n",
       "22       .   PUNCT    1381\n",
       "4733    of     ADP     884\n",
       "1905     a     DET     789\n",
       "2100   and   CCONJ     757\n",
       "4015    in     ADP     672\n",
       "6230    to    PART     660\n",
       "4761    on     ADP     482\n",
       "5586  said    VERB     452"
      ]
     },
     "execution_count": 44,
     "metadata": {},
     "output_type": "execute_result"
    }
   ],
   "source": [
    "pos_counts_fact = fact_tagsdf.groupby(['token', 'pos_tag']).size().reset_index(name='counts').sort_values(by='counts', ascending=False)\n",
    "pos_counts_fact.head(10)"
   ]
  },
  {
   "cell_type": "code",
   "execution_count": 45,
   "id": "a3691560-a874-4a6c-80dd-f54998e47b36",
   "metadata": {},
   "outputs": [
    {
     "data": {
      "text/html": [
       "<div>\n",
       "<style scoped>\n",
       "    .dataframe tbody tr th:only-of-type {\n",
       "        vertical-align: middle;\n",
       "    }\n",
       "\n",
       "    .dataframe tbody tr th {\n",
       "        vertical-align: top;\n",
       "    }\n",
       "\n",
       "    .dataframe thead th {\n",
       "        text-align: right;\n",
       "    }\n",
       "</style>\n",
       "<table border=\"1\" class=\"dataframe\">\n",
       "  <thead>\n",
       "    <tr style=\"text-align: right;\">\n",
       "      <th></th>\n",
       "      <th>token</th>\n",
       "      <th>pos_tag</th>\n",
       "      <th>counts</th>\n",
       "    </tr>\n",
       "  </thead>\n",
       "  <tbody>\n",
       "    <tr>\n",
       "      <th>6169</th>\n",
       "      <td>the</td>\n",
       "      <td>DET</td>\n",
       "      <td>1903</td>\n",
       "    </tr>\n",
       "    <tr>\n",
       "      <th>15</th>\n",
       "      <td>,</td>\n",
       "      <td>PUNCT</td>\n",
       "      <td>1698</td>\n",
       "    </tr>\n",
       "    <tr>\n",
       "      <th>22</th>\n",
       "      <td>.</td>\n",
       "      <td>PUNCT</td>\n",
       "      <td>1381</td>\n",
       "    </tr>\n",
       "    <tr>\n",
       "      <th>4733</th>\n",
       "      <td>of</td>\n",
       "      <td>ADP</td>\n",
       "      <td>884</td>\n",
       "    </tr>\n",
       "    <tr>\n",
       "      <th>1905</th>\n",
       "      <td>a</td>\n",
       "      <td>DET</td>\n",
       "      <td>789</td>\n",
       "    </tr>\n",
       "    <tr>\n",
       "      <th>...</th>\n",
       "      <td>...</td>\n",
       "      <td>...</td>\n",
       "      <td>...</td>\n",
       "    </tr>\n",
       "    <tr>\n",
       "      <th>2061</th>\n",
       "      <td>allegedly</td>\n",
       "      <td>ADV</td>\n",
       "      <td>1</td>\n",
       "    </tr>\n",
       "    <tr>\n",
       "      <th>2064</th>\n",
       "      <td>alliances</td>\n",
       "      <td>NOUN</td>\n",
       "      <td>1</td>\n",
       "    </tr>\n",
       "    <tr>\n",
       "      <th>2073</th>\n",
       "      <td>alone</td>\n",
       "      <td>ADV</td>\n",
       "      <td>1</td>\n",
       "    </tr>\n",
       "    <tr>\n",
       "      <th>2075</th>\n",
       "      <td>along</td>\n",
       "      <td>ADV</td>\n",
       "      <td>1</td>\n",
       "    </tr>\n",
       "    <tr>\n",
       "      <th>2076</th>\n",
       "      <td>alongside</td>\n",
       "      <td>ADP</td>\n",
       "      <td>1</td>\n",
       "    </tr>\n",
       "  </tbody>\n",
       "</table>\n",
       "<p>6672 rows × 3 columns</p>\n",
       "</div>"
      ],
      "text/plain": [
       "          token pos_tag  counts\n",
       "6169        the     DET    1903\n",
       "15            ,   PUNCT    1698\n",
       "22            .   PUNCT    1381\n",
       "4733         of     ADP     884\n",
       "1905          a     DET     789\n",
       "...         ...     ...     ...\n",
       "2061  allegedly     ADV       1\n",
       "2064  alliances    NOUN       1\n",
       "2073      alone     ADV       1\n",
       "2075      along     ADV       1\n",
       "2076  alongside     ADP       1\n",
       "\n",
       "[6672 rows x 3 columns]"
      ]
     },
     "execution_count": 45,
     "metadata": {},
     "output_type": "execute_result"
    }
   ],
   "source": [
    "## Frequency of individual POS tags (how many nouns, adj...etc)\n",
    "\n",
    "pos_counts_fact"
   ]
  },
  {
   "cell_type": "code",
   "execution_count": 46,
   "id": "f1a4a868-5373-4ad0-9b69-cf139d05ccc6",
   "metadata": {},
   "outputs": [
    {
     "data": {
      "text/plain": [
       "pos_tag\n",
       "NOUN     2597\n",
       "VERB     1814\n",
       "PROPN    1657\n",
       "ADJ       876\n",
       "ADV       412\n",
       "NUM       221\n",
       "PRON       99\n",
       "ADP        88\n",
       "AUX        58\n",
       "SCONJ      54\n",
       "Name: token, dtype: int64"
      ]
     },
     "execution_count": 46,
     "metadata": {},
     "output_type": "execute_result"
    }
   ],
   "source": [
    "pos_counts_fake.groupby('pos_tag')['token'].count().sort_values(ascending=False).head(10)"
   ]
  },
  {
   "cell_type": "code",
   "execution_count": 47,
   "id": "b4b65881-722d-4147-b4e7-f30ff67022c5",
   "metadata": {},
   "outputs": [
    {
     "data": {
      "text/plain": [
       "pos_tag\n",
       "NOUN     2182\n",
       "VERB     1535\n",
       "PROPN    1387\n",
       "ADJ       753\n",
       "ADV       271\n",
       "NUM       203\n",
       "PRON       81\n",
       "ADP        70\n",
       "AUX        44\n",
       "SCONJ      39\n",
       "Name: token, dtype: int64"
      ]
     },
     "execution_count": 47,
     "metadata": {},
     "output_type": "execute_result"
    }
   ],
   "source": [
    "pos_counts_fact.groupby('pos_tag')['token'].count().sort_values(ascending=False).head(10)"
   ]
  },
  {
   "cell_type": "code",
   "execution_count": 48,
   "id": "00e2db51-157c-446c-9b79-951c8d71334b",
   "metadata": {},
   "outputs": [],
   "source": [
    "# Both datasets show similar POS patterns—nouns, verbs, and proper nouns are most common—but the specific nouns used may still differ.\n"
   ]
  },
  {
   "cell_type": "code",
   "execution_count": 49,
   "id": "75469cfa-abd0-426f-86aa-c45f825d3147",
   "metadata": {},
   "outputs": [
    {
     "data": {
      "text/html": [
       "<div>\n",
       "<style scoped>\n",
       "    .dataframe tbody tr th:only-of-type {\n",
       "        vertical-align: middle;\n",
       "    }\n",
       "\n",
       "    .dataframe tbody tr th {\n",
       "        vertical-align: top;\n",
       "    }\n",
       "\n",
       "    .dataframe thead th {\n",
       "        text-align: right;\n",
       "    }\n",
       "</style>\n",
       "<table border=\"1\" class=\"dataframe\">\n",
       "  <thead>\n",
       "    <tr style=\"text-align: right;\">\n",
       "      <th></th>\n",
       "      <th>token</th>\n",
       "      <th>pos_tag</th>\n",
       "      <th>counts</th>\n",
       "    </tr>\n",
       "  </thead>\n",
       "  <tbody>\n",
       "    <tr>\n",
       "      <th>5969</th>\n",
       "      <td>people</td>\n",
       "      <td>NOUN</td>\n",
       "      <td>77</td>\n",
       "    </tr>\n",
       "    <tr>\n",
       "      <th>7959</th>\n",
       "      <td>women</td>\n",
       "      <td>NOUN</td>\n",
       "      <td>55</td>\n",
       "    </tr>\n",
       "    <tr>\n",
       "      <th>6204</th>\n",
       "      <td>president</td>\n",
       "      <td>NOUN</td>\n",
       "      <td>53</td>\n",
       "    </tr>\n",
       "    <tr>\n",
       "      <th>7511</th>\n",
       "      <td>time</td>\n",
       "      <td>NOUN</td>\n",
       "      <td>52</td>\n",
       "    </tr>\n",
       "    <tr>\n",
       "      <th>3134</th>\n",
       "      <td>campaign</td>\n",
       "      <td>NOUN</td>\n",
       "      <td>44</td>\n",
       "    </tr>\n",
       "    <tr>\n",
       "      <th>8011</th>\n",
       "      <td>year</td>\n",
       "      <td>NOUN</td>\n",
       "      <td>44</td>\n",
       "    </tr>\n",
       "    <tr>\n",
       "      <th>4577</th>\n",
       "      <td>government</td>\n",
       "      <td>NOUN</td>\n",
       "      <td>41</td>\n",
       "    </tr>\n",
       "    <tr>\n",
       "      <th>8013</th>\n",
       "      <td>years</td>\n",
       "      <td>NOUN</td>\n",
       "      <td>40</td>\n",
       "    </tr>\n",
       "    <tr>\n",
       "      <th>7344</th>\n",
       "      <td>t</td>\n",
       "      <td>NOUN</td>\n",
       "      <td>40</td>\n",
       "    </tr>\n",
       "    <tr>\n",
       "      <th>5208</th>\n",
       "      <td>law</td>\n",
       "      <td>NOUN</td>\n",
       "      <td>40</td>\n",
       "    </tr>\n",
       "    <tr>\n",
       "      <th>7157</th>\n",
       "      <td>state</td>\n",
       "      <td>NOUN</td>\n",
       "      <td>39</td>\n",
       "    </tr>\n",
       "    <tr>\n",
       "      <th>4010</th>\n",
       "      <td>election</td>\n",
       "      <td>NOUN</td>\n",
       "      <td>37</td>\n",
       "    </tr>\n",
       "    <tr>\n",
       "      <th>5474</th>\n",
       "      <td>media</td>\n",
       "      <td>NOUN</td>\n",
       "      <td>36</td>\n",
       "    </tr>\n",
       "    <tr>\n",
       "      <th>3639</th>\n",
       "      <td>day</td>\n",
       "      <td>NOUN</td>\n",
       "      <td>35</td>\n",
       "    </tr>\n",
       "    <tr>\n",
       "      <th>3534</th>\n",
       "      <td>country</td>\n",
       "      <td>NOUN</td>\n",
       "      <td>33</td>\n",
       "    </tr>\n",
       "  </tbody>\n",
       "</table>\n",
       "</div>"
      ],
      "text/plain": [
       "           token pos_tag  counts\n",
       "5969      people    NOUN      77\n",
       "7959       women    NOUN      55\n",
       "6204   president    NOUN      53\n",
       "7511        time    NOUN      52\n",
       "3134    campaign    NOUN      44\n",
       "8011        year    NOUN      44\n",
       "4577  government    NOUN      41\n",
       "8013       years    NOUN      40\n",
       "7344           t    NOUN      40\n",
       "5208         law    NOUN      40\n",
       "7157       state    NOUN      39\n",
       "4010    election    NOUN      37\n",
       "5474       media    NOUN      36\n",
       "3639         day    NOUN      35\n",
       "3534     country    NOUN      33"
      ]
     },
     "execution_count": 49,
     "metadata": {},
     "output_type": "execute_result"
    }
   ],
   "source": [
    "pos_counts_fake[pos_counts_fake.pos_tag == 'NOUN'][:15]"
   ]
  },
  {
   "cell_type": "code",
   "execution_count": 50,
   "id": "1b01995e-5414-46ea-9918-2bbaf3709603",
   "metadata": {},
   "outputs": [
    {
     "data": {
      "text/html": [
       "<div>\n",
       "<style scoped>\n",
       "    .dataframe tbody tr th:only-of-type {\n",
       "        vertical-align: middle;\n",
       "    }\n",
       "\n",
       "    .dataframe tbody tr th {\n",
       "        vertical-align: top;\n",
       "    }\n",
       "\n",
       "    .dataframe thead th {\n",
       "        text-align: right;\n",
       "    }\n",
       "</style>\n",
       "<table border=\"1\" class=\"dataframe\">\n",
       "  <thead>\n",
       "    <tr style=\"text-align: right;\">\n",
       "      <th></th>\n",
       "      <th>token</th>\n",
       "      <th>pos_tag</th>\n",
       "      <th>counts</th>\n",
       "    </tr>\n",
       "  </thead>\n",
       "  <tbody>\n",
       "    <tr>\n",
       "      <th>3748</th>\n",
       "      <td>government</td>\n",
       "      <td>NOUN</td>\n",
       "      <td>71</td>\n",
       "    </tr>\n",
       "    <tr>\n",
       "      <th>6639</th>\n",
       "      <td>year</td>\n",
       "      <td>NOUN</td>\n",
       "      <td>64</td>\n",
       "    </tr>\n",
       "    <tr>\n",
       "      <th>5927</th>\n",
       "      <td>state</td>\n",
       "      <td>NOUN</td>\n",
       "      <td>58</td>\n",
       "    </tr>\n",
       "    <tr>\n",
       "      <th>2373</th>\n",
       "      <td>bill</td>\n",
       "      <td>NOUN</td>\n",
       "      <td>55</td>\n",
       "    </tr>\n",
       "    <tr>\n",
       "      <th>1982</th>\n",
       "      <td>administration</td>\n",
       "      <td>NOUN</td>\n",
       "      <td>51</td>\n",
       "    </tr>\n",
       "    <tr>\n",
       "      <th>3289</th>\n",
       "      <td>election</td>\n",
       "      <td>NOUN</td>\n",
       "      <td>48</td>\n",
       "    </tr>\n",
       "    <tr>\n",
       "      <th>5084</th>\n",
       "      <td>president</td>\n",
       "      <td>NOUN</td>\n",
       "      <td>47</td>\n",
       "    </tr>\n",
       "    <tr>\n",
       "      <th>4937</th>\n",
       "      <td>people</td>\n",
       "      <td>NOUN</td>\n",
       "      <td>45</td>\n",
       "    </tr>\n",
       "    <tr>\n",
       "      <th>4804</th>\n",
       "      <td>order</td>\n",
       "      <td>NOUN</td>\n",
       "      <td>45</td>\n",
       "    </tr>\n",
       "    <tr>\n",
       "      <th>4271</th>\n",
       "      <td>law</td>\n",
       "      <td>NOUN</td>\n",
       "      <td>42</td>\n",
       "    </tr>\n",
       "    <tr>\n",
       "      <th>2509</th>\n",
       "      <td>campaign</td>\n",
       "      <td>NOUN</td>\n",
       "      <td>42</td>\n",
       "    </tr>\n",
       "    <tr>\n",
       "      <th>6118</th>\n",
       "      <td>tax</td>\n",
       "      <td>NOUN</td>\n",
       "      <td>39</td>\n",
       "    </tr>\n",
       "    <tr>\n",
       "      <th>5415</th>\n",
       "      <td>reporters</td>\n",
       "      <td>NOUN</td>\n",
       "      <td>38</td>\n",
       "    </tr>\n",
       "    <tr>\n",
       "      <th>5930</th>\n",
       "      <td>statement</td>\n",
       "      <td>NOUN</td>\n",
       "      <td>37</td>\n",
       "    </tr>\n",
       "    <tr>\n",
       "      <th>4941</th>\n",
       "      <td>percent</td>\n",
       "      <td>NOUN</td>\n",
       "      <td>36</td>\n",
       "    </tr>\n",
       "  </tbody>\n",
       "</table>\n",
       "</div>"
      ],
      "text/plain": [
       "               token pos_tag  counts\n",
       "3748      government    NOUN      71\n",
       "6639            year    NOUN      64\n",
       "5927           state    NOUN      58\n",
       "2373            bill    NOUN      55\n",
       "1982  administration    NOUN      51\n",
       "3289        election    NOUN      48\n",
       "5084       president    NOUN      47\n",
       "4937          people    NOUN      45\n",
       "4804           order    NOUN      45\n",
       "4271             law    NOUN      42\n",
       "2509        campaign    NOUN      42\n",
       "6118             tax    NOUN      39\n",
       "5415       reporters    NOUN      38\n",
       "5930       statement    NOUN      37\n",
       "4941         percent    NOUN      36"
      ]
     },
     "execution_count": 50,
     "metadata": {},
     "output_type": "execute_result"
    }
   ],
   "source": [
    "pos_counts_fact[pos_counts_fact.pos_tag == 'NOUN'][:15]"
   ]
  },
  {
   "cell_type": "markdown",
   "id": "df12a521-82c2-4bbf-8560-6d1907c38786",
   "metadata": {},
   "source": [
    "## Named Entities"
   ]
  },
  {
   "cell_type": "code",
   "execution_count": 51,
   "id": "5bdadb41-4261-4fd3-a523-54b6afafbebb",
   "metadata": {},
   "outputs": [],
   "source": [
    "top_entities_fake = fake_tagsdf[fake_tagsdf['ner_tag'] != \"\"].groupby(['token', 'ner_tag']).size().reset_index(name='counts').sort_values(by='counts', ascending=False)"
   ]
  },
  {
   "cell_type": "code",
   "execution_count": 52,
   "id": "b872506a-625d-46e6-94ac-2b4ad2fb951c",
   "metadata": {},
   "outputs": [],
   "source": [
    "top_entities_fact = fact_tagsdf[fact_tagsdf['ner_tag'] != \"\"].groupby(['token', 'ner_tag']).size().reset_index(name='counts').sort_values(by='counts', ascending=False)"
   ]
  },
  {
   "cell_type": "code",
   "execution_count": 53,
   "id": "62fddef5-89d9-4a25-87c1-dcc35c906a71",
   "metadata": {},
   "outputs": [
    {
     "data": {
      "text/html": [
       "<div>\n",
       "<style scoped>\n",
       "    .dataframe tbody tr th:only-of-type {\n",
       "        vertical-align: middle;\n",
       "    }\n",
       "\n",
       "    .dataframe tbody tr th {\n",
       "        vertical-align: top;\n",
       "    }\n",
       "\n",
       "    .dataframe thead th {\n",
       "        text-align: right;\n",
       "    }\n",
       "</style>\n",
       "<table border=\"1\" class=\"dataframe\">\n",
       "  <thead>\n",
       "    <tr style=\"text-align: right;\">\n",
       "      <th></th>\n",
       "      <th>token</th>\n",
       "      <th>ner_tag</th>\n",
       "      <th>counts</th>\n",
       "    </tr>\n",
       "  </thead>\n",
       "  <tbody>\n",
       "    <tr>\n",
       "      <th>1723</th>\n",
       "      <td>Trump</td>\n",
       "      <td>ORG</td>\n",
       "      <td>227</td>\n",
       "    </tr>\n",
       "    <tr>\n",
       "      <th>578</th>\n",
       "      <td>Clinton</td>\n",
       "      <td>PERSON</td>\n",
       "      <td>118</td>\n",
       "    </tr>\n",
       "    <tr>\n",
       "      <th>2097</th>\n",
       "      <td>the</td>\n",
       "      <td>ORG</td>\n",
       "      <td>113</td>\n",
       "    </tr>\n",
       "    <tr>\n",
       "      <th>1724</th>\n",
       "      <td>Trump</td>\n",
       "      <td>PERSON</td>\n",
       "      <td>91</td>\n",
       "    </tr>\n",
       "    <tr>\n",
       "      <th>697</th>\n",
       "      <td>Donald</td>\n",
       "      <td>PERSON</td>\n",
       "      <td>74</td>\n",
       "    </tr>\n",
       "    <tr>\n",
       "      <th>...</th>\n",
       "      <td>...</td>\n",
       "      <td>...</td>\n",
       "      <td>...</td>\n",
       "    </tr>\n",
       "    <tr>\n",
       "      <th>16</th>\n",
       "      <td>,</td>\n",
       "      <td>EVENT</td>\n",
       "      <td>1</td>\n",
       "    </tr>\n",
       "    <tr>\n",
       "      <th>59</th>\n",
       "      <td>120,000</td>\n",
       "      <td>CARDINAL</td>\n",
       "      <td>1</td>\n",
       "    </tr>\n",
       "    <tr>\n",
       "      <th>60</th>\n",
       "      <td>1235</td>\n",
       "      <td>DATE</td>\n",
       "      <td>1</td>\n",
       "    </tr>\n",
       "    <tr>\n",
       "      <th>61</th>\n",
       "      <td>13</td>\n",
       "      <td>CARDINAL</td>\n",
       "      <td>1</td>\n",
       "    </tr>\n",
       "    <tr>\n",
       "      <th>14</th>\n",
       "      <td>+7.07</td>\n",
       "      <td>PERCENT</td>\n",
       "      <td>1</td>\n",
       "    </tr>\n",
       "  </tbody>\n",
       "</table>\n",
       "<p>2143 rows × 3 columns</p>\n",
       "</div>"
      ],
      "text/plain": [
       "        token   ner_tag  counts\n",
       "1723    Trump       ORG     227\n",
       "578   Clinton    PERSON     118\n",
       "2097      the       ORG     113\n",
       "1724    Trump    PERSON      91\n",
       "697    Donald    PERSON      74\n",
       "...       ...       ...     ...\n",
       "16          ,     EVENT       1\n",
       "59    120,000  CARDINAL       1\n",
       "60       1235      DATE       1\n",
       "61         13  CARDINAL       1\n",
       "14      +7.07   PERCENT       1\n",
       "\n",
       "[2143 rows x 3 columns]"
      ]
     },
     "execution_count": 53,
     "metadata": {},
     "output_type": "execute_result"
    }
   ],
   "source": [
    "top_entities_fake"
   ]
  },
  {
   "cell_type": "code",
   "execution_count": 54,
   "id": "3e1711d7-e6eb-45c7-807c-f9d13aa66d90",
   "metadata": {},
   "outputs": [
    {
     "data": {
      "text/html": [
       "<div>\n",
       "<style scoped>\n",
       "    .dataframe tbody tr th:only-of-type {\n",
       "        vertical-align: middle;\n",
       "    }\n",
       "\n",
       "    .dataframe tbody tr th {\n",
       "        vertical-align: top;\n",
       "    }\n",
       "\n",
       "    .dataframe thead th {\n",
       "        text-align: right;\n",
       "    }\n",
       "</style>\n",
       "<table border=\"1\" class=\"dataframe\">\n",
       "  <thead>\n",
       "    <tr style=\"text-align: right;\">\n",
       "      <th></th>\n",
       "      <th>token</th>\n",
       "      <th>ner_tag</th>\n",
       "      <th>counts</th>\n",
       "    </tr>\n",
       "  </thead>\n",
       "  <tbody>\n",
       "    <tr>\n",
       "      <th>1624</th>\n",
       "      <td>Trump</td>\n",
       "      <td>ORG</td>\n",
       "      <td>195</td>\n",
       "    </tr>\n",
       "    <tr>\n",
       "      <th>1986</th>\n",
       "      <td>the</td>\n",
       "      <td>ORG</td>\n",
       "      <td>154</td>\n",
       "    </tr>\n",
       "    <tr>\n",
       "      <th>1645</th>\n",
       "      <td>U.S.</td>\n",
       "      <td>GPE</td>\n",
       "      <td>138</td>\n",
       "    </tr>\n",
       "    <tr>\n",
       "      <th>1383</th>\n",
       "      <td>Reuters</td>\n",
       "      <td>ORG</td>\n",
       "      <td>131</td>\n",
       "    </tr>\n",
       "    <tr>\n",
       "      <th>880</th>\n",
       "      <td>House</td>\n",
       "      <td>ORG</td>\n",
       "      <td>68</td>\n",
       "    </tr>\n",
       "    <tr>\n",
       "      <th>...</th>\n",
       "      <td>...</td>\n",
       "      <td>...</td>\n",
       "      <td>...</td>\n",
       "    </tr>\n",
       "    <tr>\n",
       "      <th>28</th>\n",
       "      <td>1,000</td>\n",
       "      <td>CARDINAL</td>\n",
       "      <td>1</td>\n",
       "    </tr>\n",
       "    <tr>\n",
       "      <th>29</th>\n",
       "      <td>1,000</td>\n",
       "      <td>MONEY</td>\n",
       "      <td>1</td>\n",
       "    </tr>\n",
       "    <tr>\n",
       "      <th>30</th>\n",
       "      <td>1,300</td>\n",
       "      <td>CARDINAL</td>\n",
       "      <td>1</td>\n",
       "    </tr>\n",
       "    <tr>\n",
       "      <th>31</th>\n",
       "      <td>1,600</td>\n",
       "      <td>CARDINAL</td>\n",
       "      <td>1</td>\n",
       "    </tr>\n",
       "    <tr>\n",
       "      <th>32</th>\n",
       "      <td>1.5</td>\n",
       "      <td>MONEY</td>\n",
       "      <td>1</td>\n",
       "    </tr>\n",
       "  </tbody>\n",
       "</table>\n",
       "<p>2025 rows × 3 columns</p>\n",
       "</div>"
      ],
      "text/plain": [
       "        token   ner_tag  counts\n",
       "1624    Trump       ORG     195\n",
       "1986      the       ORG     154\n",
       "1645     U.S.       GPE     138\n",
       "1383  Reuters       ORG     131\n",
       "880     House       ORG      68\n",
       "...       ...       ...     ...\n",
       "28      1,000  CARDINAL       1\n",
       "29      1,000     MONEY       1\n",
       "30      1,300  CARDINAL       1\n",
       "31      1,600  CARDINAL       1\n",
       "32        1.5     MONEY       1\n",
       "\n",
       "[2025 rows x 3 columns]"
      ]
     },
     "execution_count": 54,
     "metadata": {},
     "output_type": "execute_result"
    }
   ],
   "source": [
    "top_entities_fact"
   ]
  },
  {
   "cell_type": "code",
   "execution_count": 55,
   "id": "556201ec-76dd-460b-8049-8674c2704db6",
   "metadata": {},
   "outputs": [],
   "source": [
    "import seaborn as sns"
   ]
  },
  {
   "cell_type": "code",
   "execution_count": 56,
   "id": "7a39190d-0315-4d1c-9f72-7eb779446dff",
   "metadata": {},
   "outputs": [],
   "source": [
    "ner_palette = {\n",
    "    'ORG': sns.color_palette('Set2').as_hex()[0],\n",
    "    'GPE': sns.color_palette('Set2').as_hex()[1],\n",
    "    'NORP': sns.color_palette('Set2').as_hex()[2],\n",
    "    'PERSON': sns.color_palette('Set2').as_hex()[3],\n",
    "    'DATE': sns.color_palette('Set2').as_hex()[4],\n",
    "    'CARDINAL': sns.color_palette('Set2').as_hex()[5],\n",
    "    'PERCENT': sns.color_palette('Set2').as_hex()[6],\n",
    "}"
   ]
  },
  {
   "cell_type": "code",
   "execution_count": 57,
   "id": "e187202f-0961-46cd-88c6-b209be6dffef",
   "metadata": {},
   "outputs": [
    {
     "data": {
      "text/plain": [
       "[Text(0.5, 1.0, 'Most Common Named Entities in Fake News')]"
      ]
     },
     "execution_count": 57,
     "metadata": {},
     "output_type": "execute_result"
    },
    {
     "data": {
      "image/png": "[encoded data removed]",
      "text/plain": [
       "<Figure size 1200x800 with 1 Axes>"
      ]
     },
     "metadata": {},
     "output_type": "display_data"
    }
   ],
   "source": [
    "sns.barplot(\n",
    "    x = 'counts', \n",
    "    y = 'token', \n",
    "    hue = 'ner_tag', \n",
    "    palette = ner_palette, \n",
    "    data = top_entities_fake[:10],\n",
    "    orient = 'h',\n",
    "    dodge = False\n",
    ").set(title=\"Most Common Named Entities in Fake News\")"
   ]
  },
  {
   "cell_type": "code",
   "execution_count": 58,
   "id": "5974647e-29a0-40df-92cc-4f5587be36fe",
   "metadata": {},
   "outputs": [
    {
     "data": {
      "text/plain": [
       "[Text(0.5, 1.0, 'Most Common Named Entities in Factual News')]"
      ]
     },
     "execution_count": 58,
     "metadata": {},
     "output_type": "execute_result"
    },
    {
     "data": {
      "image/png": "[encoded data removed]",
      "text/plain": [
       "<Figure size 1200x800 with 1 Axes>"
      ]
     },
     "metadata": {},
     "output_type": "display_data"
    }
   ],
   "source": [
    "sns.barplot(\n",
    "    x = 'counts', \n",
    "    y = 'token', \n",
    "    hue = 'ner_tag', \n",
    "    palette = ner_palette, \n",
    "    data = top_entities_fact[:10],\n",
    "    orient = 'h',\n",
    "    dodge = False\n",
    ").set(title=\"Most Common Named Entities in Factual News\")"
   ]
  },
  {
   "cell_type": "markdown",
   "id": "260da6be-a55e-4768-842a-2676100b7117",
   "metadata": {},
   "source": [
    "## Text Pre-Processing"
   ]
  },
  {
   "cell_type": "code",
   "execution_count": 59,
   "id": "a9431191-0abc-4fed-be42-9227102f4855",
   "metadata": {},
   "outputs": [
    {
     "data": {
      "text/html": [
       "<div>\n",
       "<style scoped>\n",
       "    .dataframe tbody tr th:only-of-type {\n",
       "        vertical-align: middle;\n",
       "    }\n",
       "\n",
       "    .dataframe tbody tr th {\n",
       "        vertical-align: top;\n",
       "    }\n",
       "\n",
       "    .dataframe thead th {\n",
       "        text-align: right;\n",
       "    }\n",
       "</style>\n",
       "<table border=\"1\" class=\"dataframe\">\n",
       "  <thead>\n",
       "    <tr style=\"text-align: right;\">\n",
       "      <th></th>\n",
       "      <th>title</th>\n",
       "      <th>text</th>\n",
       "      <th>date</th>\n",
       "      <th>fake_or_factual</th>\n",
       "    </tr>\n",
       "  </thead>\n",
       "  <tbody>\n",
       "    <tr>\n",
       "      <th>0</th>\n",
       "      <td>HOLLYWEIRD LIB SUSAN SARANDON Compares Muslim ...</td>\n",
       "      <td>There are two small problems with your analogy...</td>\n",
       "      <td>Dec 30, 2015</td>\n",
       "      <td>Fake News</td>\n",
       "    </tr>\n",
       "    <tr>\n",
       "      <th>1</th>\n",
       "      <td>Elijah Cummings Called Trump Out To His Face ...</td>\n",
       "      <td>Buried in Trump s bonkers interview with New Y...</td>\n",
       "      <td>April 6, 2017</td>\n",
       "      <td>Fake News</td>\n",
       "    </tr>\n",
       "    <tr>\n",
       "      <th>2</th>\n",
       "      <td>Hillary Clinton Says Half Her Cabinet Will Be...</td>\n",
       "      <td>Women make up over 50 percent of this country,...</td>\n",
       "      <td>April 26, 2016</td>\n",
       "      <td>Fake News</td>\n",
       "    </tr>\n",
       "    <tr>\n",
       "      <th>3</th>\n",
       "      <td>Russian bombing of U.S.-backed forces being di...</td>\n",
       "      <td>WASHINGTON (Reuters) - U.S. Defense Secretary ...</td>\n",
       "      <td>September 18, 2017</td>\n",
       "      <td>Factual News</td>\n",
       "    </tr>\n",
       "    <tr>\n",
       "      <th>4</th>\n",
       "      <td>Britain says window to restore Northern Irelan...</td>\n",
       "      <td>BELFAST (Reuters) - Northern Ireland s politic...</td>\n",
       "      <td>September 4, 2017</td>\n",
       "      <td>Factual News</td>\n",
       "    </tr>\n",
       "  </tbody>\n",
       "</table>\n",
       "</div>"
      ],
      "text/plain": [
       "                                               title  \\\n",
       "0  HOLLYWEIRD LIB SUSAN SARANDON Compares Muslim ...   \n",
       "1   Elijah Cummings Called Trump Out To His Face ...   \n",
       "2   Hillary Clinton Says Half Her Cabinet Will Be...   \n",
       "3  Russian bombing of U.S.-backed forces being di...   \n",
       "4  Britain says window to restore Northern Irelan...   \n",
       "\n",
       "                                                text                 date  \\\n",
       "0  There are two small problems with your analogy...         Dec 30, 2015   \n",
       "1  Buried in Trump s bonkers interview with New Y...        April 6, 2017   \n",
       "2  Women make up over 50 percent of this country,...       April 26, 2016   \n",
       "3  WASHINGTON (Reuters) - U.S. Defense Secretary ...  September 18, 2017    \n",
       "4  BELFAST (Reuters) - Northern Ireland s politic...   September 4, 2017    \n",
       "\n",
       "  fake_or_factual  \n",
       "0       Fake News  \n",
       "1       Fake News  \n",
       "2       Fake News  \n",
       "3    Factual News  \n",
       "4    Factual News  "
      ]
     },
     "execution_count": 59,
     "metadata": {},
     "output_type": "execute_result"
    }
   ],
   "source": [
    "data.head()"
   ]
  },
  {
   "cell_type": "code",
   "execution_count": 60,
   "id": "be8305db-c903-4f40-8278-b44dfd8fc37c",
   "metadata": {},
   "outputs": [],
   "source": [
    "import re"
   ]
  },
  {
   "cell_type": "code",
   "execution_count": 61,
   "id": "a019f816-13d6-4c4c-bc4a-e96a56998a87",
   "metadata": {},
   "outputs": [],
   "source": [
    "# remove everything before the dash in text column ex: WASHINGTON (Reuters) - and BELFAST (Reuters) -\n",
    "data['text_clean'] = data.apply(lambda x: re.sub(r\"^[^-]*-\\s*\", \"\", x['text']), axis=1)"
   ]
  },
  {
   "cell_type": "code",
   "execution_count": 62,
   "id": "27535acd-3e16-4ac2-b324-02359ad8b07b",
   "metadata": {},
   "outputs": [
    {
     "data": {
      "text/html": [
       "<div>\n",
       "<style scoped>\n",
       "    .dataframe tbody tr th:only-of-type {\n",
       "        vertical-align: middle;\n",
       "    }\n",
       "\n",
       "    .dataframe tbody tr th {\n",
       "        vertical-align: top;\n",
       "    }\n",
       "\n",
       "    .dataframe thead th {\n",
       "        text-align: right;\n",
       "    }\n",
       "</style>\n",
       "<table border=\"1\" class=\"dataframe\">\n",
       "  <thead>\n",
       "    <tr style=\"text-align: right;\">\n",
       "      <th></th>\n",
       "      <th>title</th>\n",
       "      <th>text</th>\n",
       "      <th>date</th>\n",
       "      <th>fake_or_factual</th>\n",
       "      <th>text_clean</th>\n",
       "    </tr>\n",
       "  </thead>\n",
       "  <tbody>\n",
       "    <tr>\n",
       "      <th>0</th>\n",
       "      <td>HOLLYWEIRD LIB SUSAN SARANDON Compares Muslim ...</td>\n",
       "      <td>There are two small problems with your analogy...</td>\n",
       "      <td>Dec 30, 2015</td>\n",
       "      <td>Fake News</td>\n",
       "      <td>year-old Oscar-winning actress described meeti...</td>\n",
       "    </tr>\n",
       "    <tr>\n",
       "      <th>1</th>\n",
       "      <td>Elijah Cummings Called Trump Out To His Face ...</td>\n",
       "      <td>Buried in Trump s bonkers interview with New Y...</td>\n",
       "      <td>April 6, 2017</td>\n",
       "      <td>Fake News</td>\n",
       "      <td>Buried in Trump s bonkers interview with New Y...</td>\n",
       "    </tr>\n",
       "    <tr>\n",
       "      <th>2</th>\n",
       "      <td>Hillary Clinton Says Half Her Cabinet Will Be...</td>\n",
       "      <td>Women make up over 50 percent of this country,...</td>\n",
       "      <td>April 26, 2016</td>\n",
       "      <td>Fake News</td>\n",
       "      <td>Women make up over 50 percent of this country,...</td>\n",
       "    </tr>\n",
       "    <tr>\n",
       "      <th>3</th>\n",
       "      <td>Russian bombing of U.S.-backed forces being di...</td>\n",
       "      <td>WASHINGTON (Reuters) - U.S. Defense Secretary ...</td>\n",
       "      <td>September 18, 2017</td>\n",
       "      <td>Factual News</td>\n",
       "      <td>U.S. Defense Secretary Jim Mattis said on Mond...</td>\n",
       "    </tr>\n",
       "    <tr>\n",
       "      <th>4</th>\n",
       "      <td>Britain says window to restore Northern Irelan...</td>\n",
       "      <td>BELFAST (Reuters) - Northern Ireland s politic...</td>\n",
       "      <td>September 4, 2017</td>\n",
       "      <td>Factual News</td>\n",
       "      <td>Northern Ireland s political parties are rapid...</td>\n",
       "    </tr>\n",
       "  </tbody>\n",
       "</table>\n",
       "</div>"
      ],
      "text/plain": [
       "                                               title  \\\n",
       "0  HOLLYWEIRD LIB SUSAN SARANDON Compares Muslim ...   \n",
       "1   Elijah Cummings Called Trump Out To His Face ...   \n",
       "2   Hillary Clinton Says Half Her Cabinet Will Be...   \n",
       "3  Russian bombing of U.S.-backed forces being di...   \n",
       "4  Britain says window to restore Northern Irelan...   \n",
       "\n",
       "                                                text                 date  \\\n",
       "0  There are two small problems with your analogy...         Dec 30, 2015   \n",
       "1  Buried in Trump s bonkers interview with New Y...        April 6, 2017   \n",
       "2  Women make up over 50 percent of this country,...       April 26, 2016   \n",
       "3  WASHINGTON (Reuters) - U.S. Defense Secretary ...  September 18, 2017    \n",
       "4  BELFAST (Reuters) - Northern Ireland s politic...   September 4, 2017    \n",
       "\n",
       "  fake_or_factual                                         text_clean  \n",
       "0       Fake News  year-old Oscar-winning actress described meeti...  \n",
       "1       Fake News  Buried in Trump s bonkers interview with New Y...  \n",
       "2       Fake News  Women make up over 50 percent of this country,...  \n",
       "3    Factual News  U.S. Defense Secretary Jim Mattis said on Mond...  \n",
       "4    Factual News  Northern Ireland s political parties are rapid...  "
      ]
     },
     "execution_count": 62,
     "metadata": {},
     "output_type": "execute_result"
    }
   ],
   "source": [
    "data.head()"
   ]
  },
  {
   "cell_type": "code",
   "execution_count": 63,
   "id": "176fa641-6375-4991-b3fa-090da4a74f7e",
   "metadata": {},
   "outputs": [],
   "source": [
    "data['text_clean'] = data['text_clean'].str.lower()"
   ]
  },
  {
   "cell_type": "code",
   "execution_count": 64,
   "id": "dda5d124-e8d1-4de8-bfca-0fb473872889",
   "metadata": {},
   "outputs": [
    {
     "data": {
      "text/html": [
       "<div>\n",
       "<style scoped>\n",
       "    .dataframe tbody tr th:only-of-type {\n",
       "        vertical-align: middle;\n",
       "    }\n",
       "\n",
       "    .dataframe tbody tr th {\n",
       "        vertical-align: top;\n",
       "    }\n",
       "\n",
       "    .dataframe thead th {\n",
       "        text-align: right;\n",
       "    }\n",
       "</style>\n",
       "<table border=\"1\" class=\"dataframe\">\n",
       "  <thead>\n",
       "    <tr style=\"text-align: right;\">\n",
       "      <th></th>\n",
       "      <th>title</th>\n",
       "      <th>text</th>\n",
       "      <th>date</th>\n",
       "      <th>fake_or_factual</th>\n",
       "      <th>text_clean</th>\n",
       "    </tr>\n",
       "  </thead>\n",
       "  <tbody>\n",
       "    <tr>\n",
       "      <th>0</th>\n",
       "      <td>HOLLYWEIRD LIB SUSAN SARANDON Compares Muslim ...</td>\n",
       "      <td>There are two small problems with your analogy...</td>\n",
       "      <td>Dec 30, 2015</td>\n",
       "      <td>Fake News</td>\n",
       "      <td>year-old oscar-winning actress described meeti...</td>\n",
       "    </tr>\n",
       "    <tr>\n",
       "      <th>1</th>\n",
       "      <td>Elijah Cummings Called Trump Out To His Face ...</td>\n",
       "      <td>Buried in Trump s bonkers interview with New Y...</td>\n",
       "      <td>April 6, 2017</td>\n",
       "      <td>Fake News</td>\n",
       "      <td>buried in trump s bonkers interview with new y...</td>\n",
       "    </tr>\n",
       "    <tr>\n",
       "      <th>2</th>\n",
       "      <td>Hillary Clinton Says Half Her Cabinet Will Be...</td>\n",
       "      <td>Women make up over 50 percent of this country,...</td>\n",
       "      <td>April 26, 2016</td>\n",
       "      <td>Fake News</td>\n",
       "      <td>women make up over 50 percent of this country,...</td>\n",
       "    </tr>\n",
       "    <tr>\n",
       "      <th>3</th>\n",
       "      <td>Russian bombing of U.S.-backed forces being di...</td>\n",
       "      <td>WASHINGTON (Reuters) - U.S. Defense Secretary ...</td>\n",
       "      <td>September 18, 2017</td>\n",
       "      <td>Factual News</td>\n",
       "      <td>u.s. defense secretary jim mattis said on mond...</td>\n",
       "    </tr>\n",
       "    <tr>\n",
       "      <th>4</th>\n",
       "      <td>Britain says window to restore Northern Irelan...</td>\n",
       "      <td>BELFAST (Reuters) - Northern Ireland s politic...</td>\n",
       "      <td>September 4, 2017</td>\n",
       "      <td>Factual News</td>\n",
       "      <td>northern ireland s political parties are rapid...</td>\n",
       "    </tr>\n",
       "  </tbody>\n",
       "</table>\n",
       "</div>"
      ],
      "text/plain": [
       "                                               title  \\\n",
       "0  HOLLYWEIRD LIB SUSAN SARANDON Compares Muslim ...   \n",
       "1   Elijah Cummings Called Trump Out To His Face ...   \n",
       "2   Hillary Clinton Says Half Her Cabinet Will Be...   \n",
       "3  Russian bombing of U.S.-backed forces being di...   \n",
       "4  Britain says window to restore Northern Irelan...   \n",
       "\n",
       "                                                text                 date  \\\n",
       "0  There are two small problems with your analogy...         Dec 30, 2015   \n",
       "1  Buried in Trump s bonkers interview with New Y...        April 6, 2017   \n",
       "2  Women make up over 50 percent of this country,...       April 26, 2016   \n",
       "3  WASHINGTON (Reuters) - U.S. Defense Secretary ...  September 18, 2017    \n",
       "4  BELFAST (Reuters) - Northern Ireland s politic...   September 4, 2017    \n",
       "\n",
       "  fake_or_factual                                         text_clean  \n",
       "0       Fake News  year-old oscar-winning actress described meeti...  \n",
       "1       Fake News  buried in trump s bonkers interview with new y...  \n",
       "2       Fake News  women make up over 50 percent of this country,...  \n",
       "3    Factual News  u.s. defense secretary jim mattis said on mond...  \n",
       "4    Factual News  northern ireland s political parties are rapid...  "
      ]
     },
     "execution_count": 64,
     "metadata": {},
     "output_type": "execute_result"
    }
   ],
   "source": [
    "data.head()"
   ]
  },
  {
   "cell_type": "code",
   "execution_count": 65,
   "id": "be9edc43-d66d-4ac4-ad4d-d36ef4757dea",
   "metadata": {},
   "outputs": [],
   "source": [
    "# removes punctuation\n",
    "data['text_clean'] = data.apply(lambda x: re.sub(r\"([^\\w\\s])\", \"\", x['text_clean']), axis=1)"
   ]
  },
  {
   "cell_type": "code",
   "execution_count": 66,
   "id": "663e00c0-81e9-449d-818c-295752cf570a",
   "metadata": {},
   "outputs": [],
   "source": [
    "from nltk.corpus import stopwords\n"
   ]
  },
  {
   "cell_type": "code",
   "execution_count": 67,
   "id": "ca32d203-4b99-4dcc-a190-8c62aeb4fae2",
   "metadata": {},
   "outputs": [
    {
     "name": "stdout",
     "output_type": "stream",
     "text": [
      "['a', 'about', 'above', 'after', 'again', 'against', 'ain', 'all', 'am', 'an', 'and', 'any', 'are', 'aren', \"aren't\", 'as', 'at', 'be', 'because', 'been', 'before', 'being', 'below', 'between', 'both', 'but', 'by', 'can', 'couldn', \"couldn't\", 'd', 'did', 'didn', \"didn't\", 'do', 'does', 'doesn', \"doesn't\", 'doing', 'don', \"don't\", 'down', 'during', 'each', 'few', 'for', 'from', 'further', 'had', 'hadn', \"hadn't\", 'has', 'hasn', \"hasn't\", 'have', 'haven', \"haven't\", 'having', 'he', \"he'd\", \"he'll\", 'her', 'here', 'hers', 'herself', \"he's\", 'him', 'himself', 'his', 'how', 'i', \"i'd\", 'if', \"i'll\", \"i'm\", 'in', 'into', 'is', 'isn', \"isn't\", 'it', \"it'd\", \"it'll\", \"it's\", 'its', 'itself', \"i've\", 'just', 'll', 'm', 'ma', 'me', 'mightn', \"mightn't\", 'more', 'most', 'mustn', \"mustn't\", 'my', 'myself', 'needn', \"needn't\", 'no', 'nor', 'not', 'now', 'o', 'of', 'off', 'on', 'once', 'only', 'or', 'other', 'our', 'ours', 'ourselves', 'out', 'over', 'own', 're', 's', 'same', 'shan', \"shan't\", 'she', \"she'd\", \"she'll\", \"she's\", 'should', 'shouldn', \"shouldn't\", \"should've\", 'so', 'some', 'such', 't', 'than', 'that', \"that'll\", 'the', 'their', 'theirs', 'them', 'themselves', 'then', 'there', 'these', 'they', \"they'd\", \"they'll\", \"they're\", \"they've\", 'this', 'those', 'through', 'to', 'too', 'under', 'until', 'up', 've', 'very', 'was', 'wasn', \"wasn't\", 'we', \"we'd\", \"we'll\", \"we're\", 'were', 'weren', \"weren't\", \"we've\", 'what', 'when', 'where', 'which', 'while', 'who', 'whom', 'why', 'will', 'with', 'won', \"won't\", 'wouldn', \"wouldn't\", 'y', 'you', \"you'd\", \"you'll\", 'your', \"you're\", 'yours', 'yourself', 'yourselves', \"you've\"]\n"
     ]
    }
   ],
   "source": [
    "# stopwords\n",
    "en_stopwords = stopwords.words('english')\n",
    "print(en_stopwords)"
   ]
  },
  {
   "cell_type": "code",
   "execution_count": 68,
   "id": "7c780f8b-6d3e-47c9-ac8d-9996e7b6d597",
   "metadata": {},
   "outputs": [],
   "source": [
    "# It is important to make sure that the tokens in pos_counts_fact and pos_counts_fake are included in en_stopwords"
   ]
  },
  {
   "cell_type": "code",
   "execution_count": 69,
   "id": "1d449611-21bf-47a7-851f-96f8b4dcd27d",
   "metadata": {},
   "outputs": [],
   "source": [
    "# remove stopwords \n",
    "data['text_clean'] = data['text_clean'].apply(lambda x: ' '.join([word for word in x.split() if word not in (en_stopwords)]))"
   ]
  },
  {
   "cell_type": "code",
   "execution_count": 70,
   "id": "05c919de-bbf5-4d2d-8282-e52ccb5eaeea",
   "metadata": {},
   "outputs": [
    {
     "data": {
      "text/html": [
       "<div>\n",
       "<style scoped>\n",
       "    .dataframe tbody tr th:only-of-type {\n",
       "        vertical-align: middle;\n",
       "    }\n",
       "\n",
       "    .dataframe tbody tr th {\n",
       "        vertical-align: top;\n",
       "    }\n",
       "\n",
       "    .dataframe thead th {\n",
       "        text-align: right;\n",
       "    }\n",
       "</style>\n",
       "<table border=\"1\" class=\"dataframe\">\n",
       "  <thead>\n",
       "    <tr style=\"text-align: right;\">\n",
       "      <th></th>\n",
       "      <th>title</th>\n",
       "      <th>text</th>\n",
       "      <th>date</th>\n",
       "      <th>fake_or_factual</th>\n",
       "      <th>text_clean</th>\n",
       "    </tr>\n",
       "  </thead>\n",
       "  <tbody>\n",
       "    <tr>\n",
       "      <th>0</th>\n",
       "      <td>HOLLYWEIRD LIB SUSAN SARANDON Compares Muslim ...</td>\n",
       "      <td>There are two small problems with your analogy...</td>\n",
       "      <td>Dec 30, 2015</td>\n",
       "      <td>Fake News</td>\n",
       "      <td>yearold oscarwinning actress described meeting...</td>\n",
       "    </tr>\n",
       "    <tr>\n",
       "      <th>1</th>\n",
       "      <td>Elijah Cummings Called Trump Out To His Face ...</td>\n",
       "      <td>Buried in Trump s bonkers interview with New Y...</td>\n",
       "      <td>April 6, 2017</td>\n",
       "      <td>Fake News</td>\n",
       "      <td>buried trump bonkers interview new york times ...</td>\n",
       "    </tr>\n",
       "    <tr>\n",
       "      <th>2</th>\n",
       "      <td>Hillary Clinton Says Half Her Cabinet Will Be...</td>\n",
       "      <td>Women make up over 50 percent of this country,...</td>\n",
       "      <td>April 26, 2016</td>\n",
       "      <td>Fake News</td>\n",
       "      <td>women make 50 percent country grossly underrep...</td>\n",
       "    </tr>\n",
       "    <tr>\n",
       "      <th>3</th>\n",
       "      <td>Russian bombing of U.S.-backed forces being di...</td>\n",
       "      <td>WASHINGTON (Reuters) - U.S. Defense Secretary ...</td>\n",
       "      <td>September 18, 2017</td>\n",
       "      <td>Factual News</td>\n",
       "      <td>us defense secretary jim mattis said monday ru...</td>\n",
       "    </tr>\n",
       "    <tr>\n",
       "      <th>4</th>\n",
       "      <td>Britain says window to restore Northern Irelan...</td>\n",
       "      <td>BELFAST (Reuters) - Northern Ireland s politic...</td>\n",
       "      <td>September 4, 2017</td>\n",
       "      <td>Factual News</td>\n",
       "      <td>northern ireland political parties rapidly run...</td>\n",
       "    </tr>\n",
       "  </tbody>\n",
       "</table>\n",
       "</div>"
      ],
      "text/plain": [
       "                                               title  \\\n",
       "0  HOLLYWEIRD LIB SUSAN SARANDON Compares Muslim ...   \n",
       "1   Elijah Cummings Called Trump Out To His Face ...   \n",
       "2   Hillary Clinton Says Half Her Cabinet Will Be...   \n",
       "3  Russian bombing of U.S.-backed forces being di...   \n",
       "4  Britain says window to restore Northern Irelan...   \n",
       "\n",
       "                                                text                 date  \\\n",
       "0  There are two small problems with your analogy...         Dec 30, 2015   \n",
       "1  Buried in Trump s bonkers interview with New Y...        April 6, 2017   \n",
       "2  Women make up over 50 percent of this country,...       April 26, 2016   \n",
       "3  WASHINGTON (Reuters) - U.S. Defense Secretary ...  September 18, 2017    \n",
       "4  BELFAST (Reuters) - Northern Ireland s politic...   September 4, 2017    \n",
       "\n",
       "  fake_or_factual                                         text_clean  \n",
       "0       Fake News  yearold oscarwinning actress described meeting...  \n",
       "1       Fake News  buried trump bonkers interview new york times ...  \n",
       "2       Fake News  women make 50 percent country grossly underrep...  \n",
       "3    Factual News  us defense secretary jim mattis said monday ru...  \n",
       "4    Factual News  northern ireland political parties rapidly run...  "
      ]
     },
     "execution_count": 70,
     "metadata": {},
     "output_type": "execute_result"
    }
   ],
   "source": [
    "data.head()"
   ]
  },
  {
   "cell_type": "code",
   "execution_count": 71,
   "id": "50bb3a8d-97f0-4c08-9521-1554b65ebcf5",
   "metadata": {},
   "outputs": [],
   "source": [
    "from nltk.tokenize import word_tokenize\n"
   ]
  },
  {
   "cell_type": "code",
   "execution_count": 72,
   "id": "7a6d6f43-de12-4690-b61c-ea3788eed890",
   "metadata": {},
   "outputs": [],
   "source": [
    "data['text_clean'] = data.apply(lambda x: word_tokenize(x['text_clean']), axis=1)\n"
   ]
  },
  {
   "cell_type": "code",
   "execution_count": 73,
   "id": "717c256f-90f9-47f4-9872-98b516959d63",
   "metadata": {},
   "outputs": [],
   "source": [
    "# Lemmatize\n",
    "lemmatize = WordNetLemmatizer()\n",
    "data['text_clean'] = data['text_clean'].apply(lambda tokens: [lemmatize.lemmatize(token) for token in tokens])"
   ]
  },
  {
   "cell_type": "code",
   "execution_count": 74,
   "id": "1ca930be-72d1-4440-af54-d52e4aad8dbb",
   "metadata": {},
   "outputs": [
    {
     "data": {
      "text/html": [
       "<div>\n",
       "<style scoped>\n",
       "    .dataframe tbody tr th:only-of-type {\n",
       "        vertical-align: middle;\n",
       "    }\n",
       "\n",
       "    .dataframe tbody tr th {\n",
       "        vertical-align: top;\n",
       "    }\n",
       "\n",
       "    .dataframe thead th {\n",
       "        text-align: right;\n",
       "    }\n",
       "</style>\n",
       "<table border=\"1\" class=\"dataframe\">\n",
       "  <thead>\n",
       "    <tr style=\"text-align: right;\">\n",
       "      <th></th>\n",
       "      <th>title</th>\n",
       "      <th>text</th>\n",
       "      <th>date</th>\n",
       "      <th>fake_or_factual</th>\n",
       "      <th>text_clean</th>\n",
       "    </tr>\n",
       "  </thead>\n",
       "  <tbody>\n",
       "    <tr>\n",
       "      <th>0</th>\n",
       "      <td>HOLLYWEIRD LIB SUSAN SARANDON Compares Muslim ...</td>\n",
       "      <td>There are two small problems with your analogy...</td>\n",
       "      <td>Dec 30, 2015</td>\n",
       "      <td>Fake News</td>\n",
       "      <td>[yearold, oscarwinning, actress, described, me...</td>\n",
       "    </tr>\n",
       "    <tr>\n",
       "      <th>1</th>\n",
       "      <td>Elijah Cummings Called Trump Out To His Face ...</td>\n",
       "      <td>Buried in Trump s bonkers interview with New Y...</td>\n",
       "      <td>April 6, 2017</td>\n",
       "      <td>Fake News</td>\n",
       "      <td>[buried, trump, bonkers, interview, new, york,...</td>\n",
       "    </tr>\n",
       "    <tr>\n",
       "      <th>2</th>\n",
       "      <td>Hillary Clinton Says Half Her Cabinet Will Be...</td>\n",
       "      <td>Women make up over 50 percent of this country,...</td>\n",
       "      <td>April 26, 2016</td>\n",
       "      <td>Fake News</td>\n",
       "      <td>[woman, make, 50, percent, country, grossly, u...</td>\n",
       "    </tr>\n",
       "    <tr>\n",
       "      <th>3</th>\n",
       "      <td>Russian bombing of U.S.-backed forces being di...</td>\n",
       "      <td>WASHINGTON (Reuters) - U.S. Defense Secretary ...</td>\n",
       "      <td>September 18, 2017</td>\n",
       "      <td>Factual News</td>\n",
       "      <td>[u, defense, secretary, jim, mattis, said, mon...</td>\n",
       "    </tr>\n",
       "    <tr>\n",
       "      <th>4</th>\n",
       "      <td>Britain says window to restore Northern Irelan...</td>\n",
       "      <td>BELFAST (Reuters) - Northern Ireland s politic...</td>\n",
       "      <td>September 4, 2017</td>\n",
       "      <td>Factual News</td>\n",
       "      <td>[northern, ireland, political, party, rapidly,...</td>\n",
       "    </tr>\n",
       "  </tbody>\n",
       "</table>\n",
       "</div>"
      ],
      "text/plain": [
       "                                               title  \\\n",
       "0  HOLLYWEIRD LIB SUSAN SARANDON Compares Muslim ...   \n",
       "1   Elijah Cummings Called Trump Out To His Face ...   \n",
       "2   Hillary Clinton Says Half Her Cabinet Will Be...   \n",
       "3  Russian bombing of U.S.-backed forces being di...   \n",
       "4  Britain says window to restore Northern Irelan...   \n",
       "\n",
       "                                                text                 date  \\\n",
       "0  There are two small problems with your analogy...         Dec 30, 2015   \n",
       "1  Buried in Trump s bonkers interview with New Y...        April 6, 2017   \n",
       "2  Women make up over 50 percent of this country,...       April 26, 2016   \n",
       "3  WASHINGTON (Reuters) - U.S. Defense Secretary ...  September 18, 2017    \n",
       "4  BELFAST (Reuters) - Northern Ireland s politic...   September 4, 2017    \n",
       "\n",
       "  fake_or_factual                                         text_clean  \n",
       "0       Fake News  [yearold, oscarwinning, actress, described, me...  \n",
       "1       Fake News  [buried, trump, bonkers, interview, new, york,...  \n",
       "2       Fake News  [woman, make, 50, percent, country, grossly, u...  \n",
       "3    Factual News  [u, defense, secretary, jim, mattis, said, mon...  \n",
       "4    Factual News  [northern, ireland, political, party, rapidly,...  "
      ]
     },
     "execution_count": 74,
     "metadata": {},
     "output_type": "execute_result"
    }
   ],
   "source": [
    "data.head()"
   ]
  },
  {
   "cell_type": "code",
   "execution_count": 75,
   "id": "033215f0-f97a-421c-b760-a3779670b300",
   "metadata": {},
   "outputs": [],
   "source": [
    "# check most common ingrams\n",
    "\n",
    "tokens_clean = sum(data['text_clean'], [])"
   ]
  },
  {
   "cell_type": "code",
   "execution_count": 83,
   "id": "51d29b77-8f46-4cf0-a1f6-e69cc2f14059",
   "metadata": {},
   "outputs": [
    {
     "name": "stdout",
     "output_type": "stream",
     "text": [
      "           index  count\n",
      "0        (said,)    560\n",
      "1       (trump,)    520\n",
      "2           (u,)    255\n",
      "3       (state,)    250\n",
      "4   (president,)    226\n",
      "5       (would,)    210\n",
      "6         (one,)    141\n",
      "7  (republican,)    128\n",
      "8        (year,)    128\n",
      "9        (also,)    124\n"
     ]
    }
   ],
   "source": [
    "unigrams = (pd.Series(nltk.ngrams(tokens_clean, 1)).value_counts()).reset_index()[:10]\n",
    "print(unigrams[:10])"
   ]
  },
  {
   "cell_type": "code",
   "execution_count": 88,
   "id": "37d56334-9e02-4fb4-9f03-000f93aafd8c",
   "metadata": {},
   "outputs": [
    {
     "name": "stderr",
     "output_type": "stream",
     "text": [
      "/var/folders/kh/lpp45f9x2tl4dnfssb8yd5c40000gn/T/ipykernel_59908/1940463071.py:5: UserWarning: \n",
      "The palette list has fewer values (1) than needed (10) and will cycle, which may produce an uninterpretable plot.\n",
      "  sns.barplot(x='count',\n"
     ]
    },
    {
     "data": {
      "text/plain": [
       "[Text(0.5, 1.0, 'Most Common Unigram After Preprocessing')]"
      ]
     },
     "execution_count": 88,
     "metadata": {},
     "output_type": "execute_result"
    },
    {
     "data": {
      "image/png": "[encoded data removed]",
      "text/plain": [
       "<Figure size 1200x800 with 1 Axes>"
      ]
     },
     "metadata": {},
     "output_type": "display_data"
    }
   ],
   "source": [
    "# turn unigrams into a plot\n",
    "\n",
    "unigrams['token'] = unigrams['index'].apply(lambda x: x[0])\n",
    "    \n",
    "sns.barplot(x='count', \n",
    "            y='token',\n",
    "            data=unigrams,\n",
    "            orient='h',\n",
    "            palette=[default_plot_color],\n",
    "            hue='token', \n",
    "            legend=False).set(title='Most Common Unigram After Preprocessing')\n",
    "    "
   ]
  },
  {
   "cell_type": "code",
   "execution_count": 89,
   "id": "09d4a913-01d1-4443-944d-08507f650785",
   "metadata": {},
   "outputs": [
    {
     "name": "stdout",
     "output_type": "stream",
     "text": [
      "                     index  count\n",
      "0          (donald, trump)     92\n",
      "1          (united, state)     80\n",
      "2           (white, house)     72\n",
      "3      (president, donald)     42\n",
      "4       (hillary, clinton)     31\n",
      "5              (new, york)     31\n",
      "6         (supreme, court)     29\n",
      "7             (image, via)     29\n",
      "8         (official, said)     26\n",
      "9  (trump, administration)     24\n"
     ]
    }
   ],
   "source": [
    "bigrams = (pd.Series(nltk.ngrams(tokens_clean, 2)).value_counts()).reset_index()[:10]\n",
    "print(bigrams[:10])\n",
    "\n"
   ]
  },
  {
   "cell_type": "code",
   "execution_count": 92,
   "id": "65cbce05-8d2e-457e-b5f6-ae005fd6b014",
   "metadata": {},
   "outputs": [
    {
     "name": "stderr",
     "output_type": "stream",
     "text": [
      "/var/folders/kh/lpp45f9x2tl4dnfssb8yd5c40000gn/T/ipykernel_59908/2511359612.py:3: UserWarning: \n",
      "The palette list has fewer values (1) than needed (10) and will cycle, which may produce an uninterpretable plot.\n",
      "  sns.barplot(x='count',\n"
     ]
    },
    {
     "data": {
      "text/plain": [
       "[Text(0.5, 1.0, 'Most Common Bigrams After Preprocessing')]"
      ]
     },
     "execution_count": 92,
     "metadata": {},
     "output_type": "execute_result"
    },
    {
     "data": {
      "image/png": "[encoded data removed]",
      "text/plain": [
       "<Figure size 1200x800 with 1 Axes>"
      ]
     },
     "metadata": {},
     "output_type": "display_data"
    }
   ],
   "source": [
    "bigrams['token'] = bigrams['index'].apply(lambda x: x[0])\n",
    "\n",
    "sns.barplot(x='count', \n",
    "            y='token',\n",
    "            data=bigrams,\n",
    "            orient='h',\n",
    "            palette=[default_plot_color],\n",
    "            hue='token', \n",
    "            legend=False).set(title='Most Common Bigrams After Preprocessing')\n"
   ]
  },
  {
   "cell_type": "markdown",
   "id": "7fa6a04b-d882-4269-b111-1149500cc9ad",
   "metadata": {},
   "source": [
    "## Sentiment Analysis"
   ]
  },
  {
   "cell_type": "code",
   "execution_count": 93,
   "id": "5558596a-8e53-4884-ae95-d5a08f4e23e2",
   "metadata": {},
   "outputs": [],
   "source": [
    "# Do sentiments differ between Factual and Fake news types?"
   ]
  },
  {
   "cell_type": "code",
   "execution_count": 94,
   "id": "2e059782-4ed5-43c2-9978-1d9aa52b507e",
   "metadata": {},
   "outputs": [],
   "source": [
    "vader_sentiment = SentimentIntensityAnalyzer()"
   ]
  },
  {
   "cell_type": "code",
   "execution_count": 95,
   "id": "b0bebe16-e357-4941-b1ab-720024466b38",
   "metadata": {},
   "outputs": [],
   "source": [
    "# create column for sentiment score\n",
    "data['vader_sentiment_score'] = data['text'].apply(lambda x: vader_sentiment.polarity_scores(x)['compound'])"
   ]
  },
  {
   "cell_type": "code",
   "execution_count": 96,
   "id": "7eaf1e2f-f27c-4610-bdd2-a223392129e2",
   "metadata": {},
   "outputs": [
    {
     "data": {
      "text/html": [
       "<div>\n",
       "<style scoped>\n",
       "    .dataframe tbody tr th:only-of-type {\n",
       "        vertical-align: middle;\n",
       "    }\n",
       "\n",
       "    .dataframe tbody tr th {\n",
       "        vertical-align: top;\n",
       "    }\n",
       "\n",
       "    .dataframe thead th {\n",
       "        text-align: right;\n",
       "    }\n",
       "</style>\n",
       "<table border=\"1\" class=\"dataframe\">\n",
       "  <thead>\n",
       "    <tr style=\"text-align: right;\">\n",
       "      <th></th>\n",
       "      <th>title</th>\n",
       "      <th>text</th>\n",
       "      <th>date</th>\n",
       "      <th>fake_or_factual</th>\n",
       "      <th>text_clean</th>\n",
       "      <th>vader_sentiment_score</th>\n",
       "    </tr>\n",
       "  </thead>\n",
       "  <tbody>\n",
       "    <tr>\n",
       "      <th>0</th>\n",
       "      <td>HOLLYWEIRD LIB SUSAN SARANDON Compares Muslim ...</td>\n",
       "      <td>There are two small problems with your analogy...</td>\n",
       "      <td>Dec 30, 2015</td>\n",
       "      <td>Fake News</td>\n",
       "      <td>[yearold, oscarwinning, actress, described, me...</td>\n",
       "      <td>-0.3660</td>\n",
       "    </tr>\n",
       "    <tr>\n",
       "      <th>1</th>\n",
       "      <td>Elijah Cummings Called Trump Out To His Face ...</td>\n",
       "      <td>Buried in Trump s bonkers interview with New Y...</td>\n",
       "      <td>April 6, 2017</td>\n",
       "      <td>Fake News</td>\n",
       "      <td>[buried, trump, bonkers, interview, new, york,...</td>\n",
       "      <td>-0.8197</td>\n",
       "    </tr>\n",
       "    <tr>\n",
       "      <th>2</th>\n",
       "      <td>Hillary Clinton Says Half Her Cabinet Will Be...</td>\n",
       "      <td>Women make up over 50 percent of this country,...</td>\n",
       "      <td>April 26, 2016</td>\n",
       "      <td>Fake News</td>\n",
       "      <td>[woman, make, 50, percent, country, grossly, u...</td>\n",
       "      <td>0.9779</td>\n",
       "    </tr>\n",
       "    <tr>\n",
       "      <th>3</th>\n",
       "      <td>Russian bombing of U.S.-backed forces being di...</td>\n",
       "      <td>WASHINGTON (Reuters) - U.S. Defense Secretary ...</td>\n",
       "      <td>September 18, 2017</td>\n",
       "      <td>Factual News</td>\n",
       "      <td>[u, defense, secretary, jim, mattis, said, mon...</td>\n",
       "      <td>-0.3400</td>\n",
       "    </tr>\n",
       "    <tr>\n",
       "      <th>4</th>\n",
       "      <td>Britain says window to restore Northern Irelan...</td>\n",
       "      <td>BELFAST (Reuters) - Northern Ireland s politic...</td>\n",
       "      <td>September 4, 2017</td>\n",
       "      <td>Factual News</td>\n",
       "      <td>[northern, ireland, political, party, rapidly,...</td>\n",
       "      <td>0.8590</td>\n",
       "    </tr>\n",
       "  </tbody>\n",
       "</table>\n",
       "</div>"
      ],
      "text/plain": [
       "                                               title  \\\n",
       "0  HOLLYWEIRD LIB SUSAN SARANDON Compares Muslim ...   \n",
       "1   Elijah Cummings Called Trump Out To His Face ...   \n",
       "2   Hillary Clinton Says Half Her Cabinet Will Be...   \n",
       "3  Russian bombing of U.S.-backed forces being di...   \n",
       "4  Britain says window to restore Northern Irelan...   \n",
       "\n",
       "                                                text                 date  \\\n",
       "0  There are two small problems with your analogy...         Dec 30, 2015   \n",
       "1  Buried in Trump s bonkers interview with New Y...        April 6, 2017   \n",
       "2  Women make up over 50 percent of this country,...       April 26, 2016   \n",
       "3  WASHINGTON (Reuters) - U.S. Defense Secretary ...  September 18, 2017    \n",
       "4  BELFAST (Reuters) - Northern Ireland s politic...   September 4, 2017    \n",
       "\n",
       "  fake_or_factual                                         text_clean  \\\n",
       "0       Fake News  [yearold, oscarwinning, actress, described, me...   \n",
       "1       Fake News  [buried, trump, bonkers, interview, new, york,...   \n",
       "2       Fake News  [woman, make, 50, percent, country, grossly, u...   \n",
       "3    Factual News  [u, defense, secretary, jim, mattis, said, mon...   \n",
       "4    Factual News  [northern, ireland, political, party, rapidly,...   \n",
       "\n",
       "   vader_sentiment_score  \n",
       "0                -0.3660  \n",
       "1                -0.8197  \n",
       "2                 0.9779  \n",
       "3                -0.3400  \n",
       "4                 0.8590  "
      ]
     },
     "execution_count": 96,
     "metadata": {},
     "output_type": "execute_result"
    }
   ],
   "source": [
    "data.head()"
   ]
  },
  {
   "cell_type": "code",
   "execution_count": 97,
   "id": "2b005f77-34e9-4f81-95f5-a6c2009c3902",
   "metadata": {},
   "outputs": [],
   "source": [
    "# Classify this into positive, negative and neutral sentiment\n",
    "bins = [-1, -0.1, 0.1, 1]\n",
    "names = ['negative', 'neutral', 'positive']\n"
   ]
  },
  {
   "cell_type": "code",
   "execution_count": 98,
   "id": "c20357bc-eb96-47c1-8e9c-4eda9d8bee93",
   "metadata": {},
   "outputs": [],
   "source": [
    "data['vader_sentiment_label'] = pd.cut(data['vader_sentiment_score'], bins, labels=names)"
   ]
  },
  {
   "cell_type": "code",
   "execution_count": 99,
   "id": "8d6afcef-6cf8-47dc-8003-5cbe8ae81eef",
   "metadata": {},
   "outputs": [
    {
     "data": {
      "text/html": [
       "<div>\n",
       "<style scoped>\n",
       "    .dataframe tbody tr th:only-of-type {\n",
       "        vertical-align: middle;\n",
       "    }\n",
       "\n",
       "    .dataframe tbody tr th {\n",
       "        vertical-align: top;\n",
       "    }\n",
       "\n",
       "    .dataframe thead th {\n",
       "        text-align: right;\n",
       "    }\n",
       "</style>\n",
       "<table border=\"1\" class=\"dataframe\">\n",
       "  <thead>\n",
       "    <tr style=\"text-align: right;\">\n",
       "      <th></th>\n",
       "      <th>title</th>\n",
       "      <th>text</th>\n",
       "      <th>date</th>\n",
       "      <th>fake_or_factual</th>\n",
       "      <th>text_clean</th>\n",
       "      <th>vader_sentiment_score</th>\n",
       "      <th>vader_sentiment_label</th>\n",
       "    </tr>\n",
       "  </thead>\n",
       "  <tbody>\n",
       "    <tr>\n",
       "      <th>0</th>\n",
       "      <td>HOLLYWEIRD LIB SUSAN SARANDON Compares Muslim ...</td>\n",
       "      <td>There are two small problems with your analogy...</td>\n",
       "      <td>Dec 30, 2015</td>\n",
       "      <td>Fake News</td>\n",
       "      <td>[yearold, oscarwinning, actress, described, me...</td>\n",
       "      <td>-0.3660</td>\n",
       "      <td>negative</td>\n",
       "    </tr>\n",
       "    <tr>\n",
       "      <th>1</th>\n",
       "      <td>Elijah Cummings Called Trump Out To His Face ...</td>\n",
       "      <td>Buried in Trump s bonkers interview with New Y...</td>\n",
       "      <td>April 6, 2017</td>\n",
       "      <td>Fake News</td>\n",
       "      <td>[buried, trump, bonkers, interview, new, york,...</td>\n",
       "      <td>-0.8197</td>\n",
       "      <td>negative</td>\n",
       "    </tr>\n",
       "    <tr>\n",
       "      <th>2</th>\n",
       "      <td>Hillary Clinton Says Half Her Cabinet Will Be...</td>\n",
       "      <td>Women make up over 50 percent of this country,...</td>\n",
       "      <td>April 26, 2016</td>\n",
       "      <td>Fake News</td>\n",
       "      <td>[woman, make, 50, percent, country, grossly, u...</td>\n",
       "      <td>0.9779</td>\n",
       "      <td>positive</td>\n",
       "    </tr>\n",
       "    <tr>\n",
       "      <th>3</th>\n",
       "      <td>Russian bombing of U.S.-backed forces being di...</td>\n",
       "      <td>WASHINGTON (Reuters) - U.S. Defense Secretary ...</td>\n",
       "      <td>September 18, 2017</td>\n",
       "      <td>Factual News</td>\n",
       "      <td>[u, defense, secretary, jim, mattis, said, mon...</td>\n",
       "      <td>-0.3400</td>\n",
       "      <td>negative</td>\n",
       "    </tr>\n",
       "    <tr>\n",
       "      <th>4</th>\n",
       "      <td>Britain says window to restore Northern Irelan...</td>\n",
       "      <td>BELFAST (Reuters) - Northern Ireland s politic...</td>\n",
       "      <td>September 4, 2017</td>\n",
       "      <td>Factual News</td>\n",
       "      <td>[northern, ireland, political, party, rapidly,...</td>\n",
       "      <td>0.8590</td>\n",
       "      <td>positive</td>\n",
       "    </tr>\n",
       "  </tbody>\n",
       "</table>\n",
       "</div>"
      ],
      "text/plain": [
       "                                               title  \\\n",
       "0  HOLLYWEIRD LIB SUSAN SARANDON Compares Muslim ...   \n",
       "1   Elijah Cummings Called Trump Out To His Face ...   \n",
       "2   Hillary Clinton Says Half Her Cabinet Will Be...   \n",
       "3  Russian bombing of U.S.-backed forces being di...   \n",
       "4  Britain says window to restore Northern Irelan...   \n",
       "\n",
       "                                                text                 date  \\\n",
       "0  There are two small problems with your analogy...         Dec 30, 2015   \n",
       "1  Buried in Trump s bonkers interview with New Y...        April 6, 2017   \n",
       "2  Women make up over 50 percent of this country,...       April 26, 2016   \n",
       "3  WASHINGTON (Reuters) - U.S. Defense Secretary ...  September 18, 2017    \n",
       "4  BELFAST (Reuters) - Northern Ireland s politic...   September 4, 2017    \n",
       "\n",
       "  fake_or_factual                                         text_clean  \\\n",
       "0       Fake News  [yearold, oscarwinning, actress, described, me...   \n",
       "1       Fake News  [buried, trump, bonkers, interview, new, york,...   \n",
       "2       Fake News  [woman, make, 50, percent, country, grossly, u...   \n",
       "3    Factual News  [u, defense, secretary, jim, mattis, said, mon...   \n",
       "4    Factual News  [northern, ireland, political, party, rapidly,...   \n",
       "\n",
       "   vader_sentiment_score vader_sentiment_label  \n",
       "0                -0.3660              negative  \n",
       "1                -0.8197              negative  \n",
       "2                 0.9779              positive  \n",
       "3                -0.3400              negative  \n",
       "4                 0.8590              positive  "
      ]
     },
     "execution_count": 99,
     "metadata": {},
     "output_type": "execute_result"
    }
   ],
   "source": [
    "data.head()"
   ]
  },
  {
   "cell_type": "code",
   "execution_count": 100,
   "id": "24aba87a-ff01-487d-9507-44ba0fdf6d39",
   "metadata": {},
   "outputs": [],
   "source": [
    "# Based on the above, determine whether sentiments differ between the 2 types of news articles Factual v Fake\n",
    "# start by creating a bar chart of the different labels of each of the data"
   ]
  },
  {
   "cell_type": "code",
   "execution_count": 101,
   "id": "85909af6-3e46-44e2-9132-bd8412a69110",
   "metadata": {},
   "outputs": [
    {
     "data": {
      "text/plain": [
       "<Axes: xlabel='vader_sentiment_label'>"
      ]
     },
     "execution_count": 101,
     "metadata": {},
     "output_type": "execute_result"
    },
    {
     "data": {
      "image/png": "[encoded data removed]",
      "text/plain": [
       "<Figure size 1200x800 with 1 Axes>"
      ]
     },
     "metadata": {},
     "output_type": "display_data"
    }
   ],
   "source": [
    "# Start by counting how many positive, negative and neutral sentiments\n",
    "\n",
    "data['vader_sentiment_label'].value_counts().plot.bar(color=default_plot_color)"
   ]
  },
  {
   "cell_type": "code",
   "execution_count": 102,
   "id": "9d1648b8-6f05-4000-bec7-6061f935e2d8",
   "metadata": {},
   "outputs": [
    {
     "data": {
      "text/plain": [
       "vader_sentiment_label\n",
       "positive    98\n",
       "negative    93\n",
       "neutral      7\n",
       "Name: count, dtype: int64"
      ]
     },
     "execution_count": 102,
     "metadata": {},
     "output_type": "execute_result"
    }
   ],
   "source": [
    "data['vader_sentiment_label'].value_counts()"
   ]
  },
  {
   "cell_type": "code",
   "execution_count": 103,
   "id": "3f8c0485-a12f-45ec-8ae3-d151a2f5df9f",
   "metadata": {},
   "outputs": [],
   "source": [
    "# Result: we have a few more news article with positive sentiments than negative with a few neutrals"
   ]
  },
  {
   "cell_type": "code",
   "execution_count": 104,
   "id": "ff4cff6c-9ffe-417f-aaa8-231a3d955ece",
   "metadata": {},
   "outputs": [
    {
     "name": "stderr",
     "output_type": "stream",
     "text": [
      "/var/folders/kh/lpp45f9x2tl4dnfssb8yd5c40000gn/T/ipykernel_59908/3047512700.py:3: UserWarning: The palette list has more values (6) than needed (3), which may not be intended.\n",
      "  sns.countplot(\n"
     ]
    },
    {
     "data": {
      "text/plain": [
       "[Text(0.5, 1.0, 'Sentiment by News Type')]"
      ]
     },
     "execution_count": 104,
     "metadata": {},
     "output_type": "execute_result"
    },
    {
     "data": {
      "image/png": "[encoded data removed]",
      "text/plain": [
       "<Figure size 1200x800 with 1 Axes>"
      ]
     },
     "metadata": {},
     "output_type": "display_data"
    }
   ],
   "source": [
    "# Now we examin how this varies between the 2 types of news articles we have\n",
    "\n",
    "sns.countplot(\n",
    "    x = 'fake_or_factual',\n",
    "    hue = 'vader_sentiment_label',\n",
    "    palette = sns.color_palette('hls'),\n",
    "    data = data\n",
    ").set(title = 'Sentiment by News Type')\n"
   ]
  },
  {
   "cell_type": "code",
   "execution_count": 105,
   "id": "463d3930-97a1-4679-bc20-185b53f89d79",
   "metadata": {},
   "outputs": [],
   "source": [
    "# Conclusion\n",
    "# We can see there's a pretty even split between positive and negative sentiment and a few neutrals in\n",
    "# there, but there isn't really a massive skew to one or the other in our factual news dataset.\n",
    "# If you just look behind the legend, you can see that positive does skew more in this dataset.\n",
    "# So we have a few more positive articles as opposed to negative in the factual news dataset.\n",
    "# There's also a lot less neutrals in this.\n",
    "# So the differences aren't drastic.\n",
    "# So we cannot say at this moment that factual news skews more positive, and fake news is a little bit more evenly distributed.\n",
    "# It would require a bit more of a deep dive."
   ]
  },
  {
   "cell_type": "markdown",
   "id": "07b2bbce-09f6-4c96-a40f-7d85aabfc066",
   "metadata": {},
   "source": [
    "## Topic Modeling"
   ]
  },
  {
   "cell_type": "code",
   "execution_count": 107,
   "id": "880b9c95-f1bb-43eb-b4e8-81d69d8f6789",
   "metadata": {},
   "outputs": [],
   "source": [
    "# What Topics Appear in Fake News\n",
    "# We will use  Latent Dirichlet allocation"
   ]
  },
  {
   "cell_type": "code",
   "execution_count": 131,
   "id": "7ba7502c-34c6-48d3-a5d8-67e8af5c3048",
   "metadata": {},
   "outputs": [],
   "source": [
    "# Step 1 - Vectorizing Text\n",
    "\n",
    "fake_news_text = data[data['fake_or_factual'] == \"Fake News\"]['text_clean'].reset_index(drop=True)\n"
   ]
  },
  {
   "cell_type": "code",
   "execution_count": 132,
   "id": "e0cc108a-06eb-40d6-9398-5ce363673321",
   "metadata": {},
   "outputs": [],
   "source": [
    "dictionary_fake = corpora.Dictionary(fake_news_text)\n"
   ]
  },
  {
   "cell_type": "code",
   "execution_count": 111,
   "id": "a83a2f14-7346-4af6-ab06-a986ee34b0cc",
   "metadata": {},
   "outputs": [
    {
     "name": "stdout",
     "output_type": "stream",
     "text": [
      "Dictionary<5759 unique tokens: ['16yearold', 'actor', 'actress', 'aid', 'also']...>\n"
     ]
    }
   ],
   "source": [
    "print(dictionary_fake)"
   ]
  },
  {
   "cell_type": "code",
   "execution_count": 133,
   "id": "be09796c-dbc8-472e-aef4-ef241278611b",
   "metadata": {},
   "outputs": [],
   "source": [
    "# create bag of words\n",
    "doc_term_fake = [dictionary_fake.doc2bow(text) for text in fake_news_text]\n"
   ]
  },
  {
   "cell_type": "code",
   "execution_count": 134,
   "id": "cce1b165-3085-470f-8c44-eb1384981b43",
   "metadata": {},
   "outputs": [
    {
     "name": "stdout",
     "output_type": "stream",
     "text": [
      "[[(0, 1), (1, 1), (2, 4), (3, 1), (4, 1), (5, 1), (6, 1), (7, 1), (8, 1), (9, 1), (10, 1), (11, 1), (12, 1), (13, 2), (14, 1), (15, 1), (16, 1), (17, 1), (18, 1), (19, 1), (20, 1), (21, 1), (22, 1), (23, 1), (24, 2), (25, 1), (26, 1), (27, 1), (28, 1), (29, 1), (30, 1), (31, 1), (32, 1), (33, 1), (34, 2), (35, 1), (36, 2), (37, 1), (38, 1), (39, 1), (40, 1), (41, 1), (42, 1), (43, 1), (44, 1), (45, 2), (46, 2), (47, 1), (48, 1), (49, 1), (50, 1), (51, 1), (52, 1), (53, 1), (54, 1), (55, 1), (56, 1), (57, 1), (58, 1), (59, 1), (60, 1), (61, 1), (62, 1), (63, 1), (64, 1), (65, 1), (66, 1), (67, 1), (68, 1), (69, 1), (70, 1), (71, 1), (72, 1), (73, 3), (74, 1), (75, 1), (76, 1), (77, 1), (78, 1), (79, 1), (80, 1), (81, 1), (82, 1), (83, 1), (84, 1), (85, 1), (86, 2), (87, 1), (88, 1), (89, 1), (90, 1), (91, 1), (92, 1), (93, 1), (94, 1), (95, 1), (96, 1), (97, 1), (98, 1), (99, 1), (100, 1), (101, 1), (102, 1), (103, 1), (104, 1), (105, 1), (106, 1), (107, 1), (108, 1), (109, 1), (110, 1), (111, 1), (112, 1), (113, 1), (114, 1)], [(32, 1), (49, 1), (55, 4), (57, 1), (71, 1), (84, 1), (96, 1), (97, 1), (98, 1), (104, 1), (115, 1), (116, 1), (117, 1), (118, 2), (119, 1), (120, 2), (121, 1), (122, 1), (123, 1), (124, 1), (125, 1), (126, 1), (127, 2), (128, 1), (129, 1), (130, 1), (131, 1), (132, 1), (133, 1), (134, 1), (135, 1), (136, 1), (137, 1), (138, 1), (139, 1), (140, 2), (141, 2), (142, 1), (143, 1), (144, 1), (145, 2), (146, 1), (147, 1), (148, 1), (149, 2), (150, 8), (151, 1), (152, 1), (153, 1), (154, 1), (155, 1), (156, 1), (157, 1), (158, 1), (159, 1), (160, 2), (161, 1), (162, 1), (163, 3), (164, 1), (165, 1), (166, 1), (167, 1), (168, 1), (169, 1), (170, 1), (171, 1), (172, 1), (173, 1), (174, 1), (175, 2), (176, 1), (177, 1), (178, 1), (179, 1), (180, 1), (181, 1), (182, 1), (183, 1), (184, 2), (185, 1), (186, 1), (187, 1), (188, 3), (189, 1), (190, 2), (191, 1), (192, 1), (193, 1), (194, 2), (195, 1), (196, 1), (197, 2), (198, 1), (199, 1), (200, 2), (201, 2), (202, 1), (203, 1), (204, 1), (205, 1), (206, 1), (207, 1), (208, 1), (209, 1), (210, 1), (211, 1), (212, 1), (213, 1), (214, 1), (215, 1), (216, 1), (217, 1), (218, 1), (219, 1), (220, 1), (221, 1), (222, 1), (223, 1), (224, 1), (225, 1), (226, 1), (227, 1), (228, 2), (229, 2), (230, 1), (231, 1), (232, 1), (233, 1), (234, 1), (235, 2), (236, 1), (237, 1), (238, 5), (239, 1), (240, 1), (241, 1), (242, 1), (243, 1), (244, 1), (245, 1), (246, 1), (247, 1), (248, 2), (249, 1), (250, 1), (251, 1), (252, 1), (253, 1), (254, 1), (255, 1), (256, 4), (257, 1), (258, 1), (259, 1), (260, 1), (261, 1), (262, 1), (263, 1), (264, 1), (265, 1), (266, 1), (267, 2), (268, 1), (269, 1), (270, 1), (271, 1), (272, 1), (273, 1), (274, 1), (275, 1), (276, 2), (277, 1), (278, 19), (279, 1), (280, 1), (281, 1), (282, 1), (283, 1), (284, 1), (285, 1), (286, 1), (287, 1), (288, 2), (289, 1), (290, 1), (291, 2), (292, 1), (293, 1), (294, 1), (295, 1)]]\n"
     ]
    }
   ],
   "source": [
    "print(doc_term_fake[:2])"
   ]
  },
  {
   "cell_type": "code",
   "execution_count": 137,
   "id": "12f2e4ba-7800-45de-90c6-32fd8f8ac6c7",
   "metadata": {},
   "outputs": [],
   "source": [
    "# Generate an empty list of coherent values and empty list for our models\n",
    "\n",
    "coherence_values = []\n",
    "model_list = []\n",
    "\n",
    "min_topics = 2\n",
    "max_topics = 11\n",
    "\n",
    "# for loop to run over each of the iteration of this model\n",
    "for num_topics_i in range(min_topics, max_topics+1):\n",
    "    model = gensim.models.LdaModel(doc_term_fake, num_topics=num_topics_i, id2word = dictionary_fake)\n",
    "    model_list.append(model)\n",
    "    coherence_model = CoherenceModel(model=model, texts=fake_news_text, dictionary=dictionary_fake, coherence='c_v')\n",
    "    coherence_values.append(coherence_model.get_coherence())"
   ]
  },
  {
   "cell_type": "code",
   "execution_count": 138,
   "id": "e07a9329-bdd8-4a92-a770-3d567000df0e",
   "metadata": {},
   "outputs": [
    {
     "data": {
      "image/png": "[encoded data removed]",
      "text/plain": [
       "<Figure size 1200x800 with 1 Axes>"
      ]
     },
     "metadata": {},
     "output_type": "display_data"
    }
   ],
   "source": [
    "plt.plot(range(min_topics, max_topics+1), coherence_values)\n",
    "plt.xlabel(\"Number of Topics\")\n",
    "plt.ylabel(\"Coherence score\")\n",
    "plt.legend((\"coherence_values\"), loc='best')\n",
    "plt.show()"
   ]
  },
  {
   "cell_type": "code",
   "execution_count": 139,
   "id": "316b8b1e-5138-439a-bffd-20b504e6146f",
   "metadata": {},
   "outputs": [],
   "source": [
    "# create LDA Model with 7 topics\n",
    "\n",
    "num_topics_lda = 7\n",
    "\n",
    "lda_model = gensim.models.LdaModel(corpus=doc_term_fake, id2word=dictionary_fake, num_topics=num_topics_lda)"
   ]
  },
  {
   "cell_type": "code",
   "execution_count": 142,
   "id": "c18678d1-4bb6-4c8b-a5b1-5052cf7ae9d9",
   "metadata": {},
   "outputs": [
    {
     "data": {
      "text/plain": [
       "[(0,\n",
       "  '0.015*\"trump\" + 0.007*\"said\" + 0.004*\"year\" + 0.004*\"one\" + 0.004*\"time\" + 0.004*\"u\" + 0.004*\"president\" + 0.003*\"state\" + 0.003*\"would\" + 0.003*\"obama\"'),\n",
       " (1,\n",
       "  '0.008*\"trump\" + 0.005*\"republican\" + 0.005*\"said\" + 0.005*\"president\" + 0.004*\"woman\" + 0.004*\"clinton\" + 0.003*\"state\" + 0.003*\"time\" + 0.003*\"would\" + 0.003*\"also\"'),\n",
       " (2,\n",
       "  '0.010*\"trump\" + 0.005*\"clinton\" + 0.005*\"would\" + 0.005*\"said\" + 0.004*\"u\" + 0.004*\"time\" + 0.003*\"state\" + 0.003*\"president\" + 0.003*\"one\" + 0.003*\"email\"'),\n",
       " (3,\n",
       "  '0.013*\"trump\" + 0.004*\"u\" + 0.004*\"people\" + 0.004*\"million\" + 0.004*\"food\" + 0.004*\"one\" + 0.004*\"would\" + 0.003*\"president\" + 0.003*\"republican\" + 0.003*\"stamp\"'),\n",
       " (4,\n",
       "  '0.013*\"trump\" + 0.006*\"clinton\" + 0.005*\"president\" + 0.005*\"said\" + 0.004*\"state\" + 0.004*\"time\" + 0.003*\"would\" + 0.003*\"one\" + 0.003*\"image\" + 0.003*\"people\"'),\n",
       " (5,\n",
       "  '0.007*\"trump\" + 0.005*\"said\" + 0.004*\"state\" + 0.004*\"year\" + 0.004*\"clinton\" + 0.003*\"republican\" + 0.003*\"one\" + 0.003*\"image\" + 0.003*\"school\" + 0.003*\"party\"'),\n",
       " (6,\n",
       "  '0.006*\"trump\" + 0.005*\"woman\" + 0.005*\"clinton\" + 0.004*\"would\" + 0.004*\"said\" + 0.004*\"state\" + 0.003*\"law\" + 0.003*\"president\" + 0.003*\"one\" + 0.003*\"say\"')]"
      ]
     },
     "execution_count": 142,
     "metadata": {},
     "output_type": "execute_result"
    }
   ],
   "source": [
    "lda_model.print_topics(num_topics_lda, num_words=10) # 10 most common words for each of the topics"
   ]
  },
  {
   "cell_type": "code",
   "execution_count": null,
   "id": "b0ef7265-668f-46bf-b87e-a966cd7657c2",
   "metadata": {},
   "outputs": [],
   "source": []
  },
  {
   "cell_type": "code",
   "execution_count": null,
   "id": "cf93e229-8995-4b02-83b3-2d4b2ff2c13d",
   "metadata": {},
   "outputs": [],
   "source": []
  }
 ],
 "metadata": {
  "kernelspec": {
   "display_name": "Python (nlp310)",
   "language": "python",
   "name": "nlp310"
  },
  "language_info": {
   "codemirror_mode": {
    "name": "ipython",
    "version": 3
   },
   "file_extension": ".py",
   "mimetype": "text/x-python",
   "name": "python",
   "nbconvert_exporter": "python",
   "pygments_lexer": "ipython3",
   "version": "3.10.18"
  }
 },
 "nbformat": 4,
 "nbformat_minor": 5
}
